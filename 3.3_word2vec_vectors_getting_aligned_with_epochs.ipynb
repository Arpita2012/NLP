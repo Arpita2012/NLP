{
 "cells": [
  {
   "cell_type": "code",
   "execution_count": null,
   "metadata": {},
   "outputs": [],
   "source": []
  },
  {
   "cell_type": "markdown",
   "metadata": {
    "collapsed": true
   },
   "source": [
    "<img src=\"Images/PU.png\" width=\"100%\">\n",
    "\n",
    "#### Course Name : AI 702 Deep Learning for Professionals: NLP: word2vec  \n",
    "##### Notebook compiled by : Rajiv Kale, Consultant at Learning and Development \n",
    "#### This notebook demonstrates how word embeddings get aligned as you train for more epochs\n",
    "** Important ! ** For internal circulation olny"
   ]
  },
  {
   "cell_type": "markdown",
   "metadata": {},
   "source": [
    "<img src=\"Images/vector_alignment.png\" width=\"60%\">"
   ]
  },
  {
   "cell_type": "markdown",
   "metadata": {},
   "source": [
    "https://vimeo.com/112168934"
   ]
  },
  {
   "cell_type": "markdown",
   "metadata": {},
   "source": [
    "Define Training Data"
   ]
  },
  {
   "cell_type": "code",
   "execution_count": 1,
   "metadata": {},
   "outputs": [],
   "source": [
    "sentences = [['this', 'is', 'the', 'first',  'sentence', 'for', 'word2vec'],\n",
    "             ['this', 'is', 'the', 'second', 'sentence', 'for', 'word2vec'],\n",
    "             ['this', 'is', 'the', 'third',  'sentence', 'for', 'word2vec'],\n",
    "             ['this', 'is', 'the', 'fourth', 'sentence', 'for', 'word2vec'],\n",
    "             ['this', 'is', 'the', 'fifth',  'sentence', 'for', 'word2vec'],\n",
    "             ['this', 'is', 'the', 'sixth',  'sentence', 'for', 'word2vec'],\n",
    "             ['this', 'is', 'the', 'fifth',  'sentence', 'for', 'embedding'],\n",
    "             ['this', 'is', 'the', 'fourth',  'sentence', 'for', 'embedding'],\n",
    "             ['this', 'is', 'the', 'sixth',  'sentence', 'for', 'embedding'],\n",
    "             ['this', 'is', 'the', 'seventh', 'sentence', 'for', 'embedding'],\n",
    "             ['this', 'is', 'the', 'eighth',  'sentence', 'for', 'embedding']]\n",
    "           "
   ]
  },
  {
   "cell_type": "markdown",
   "metadata": {},
   "source": [
    "Take word2vec from gensim and define model parameters"
   ]
  },
  {
   "cell_type": "code",
   "execution_count": 2,
   "metadata": {},
   "outputs": [
    {
     "name": "stderr",
     "output_type": "stream",
     "text": [
      "C:\\Users\\rajiv_kale\\AppData\\Local\\Continuum\\Anaconda3\\lib\\site-packages\\smart_open\\ssh.py:34: UserWarning: paramiko missing, opening SSH/SCP/SFTP paths will be disabled.  `pip install paramiko` to suppress\n",
      "  warnings.warn('paramiko missing, opening SSH/SCP/SFTP paths will be disabled.  `pip install paramiko` to suppress')\n",
      "C:\\Users\\rajiv_kale\\AppData\\Local\\Continuum\\Anaconda3\\lib\\site-packages\\gensim\\utils.py:1197: UserWarning: detected Windows; aliasing chunkize to chunkize_serial\n",
      "  warnings.warn(\"detected Windows; aliasing chunkize to chunkize_serial\")\n"
     ]
    }
   ],
   "source": [
    "from gensim.models import Word2Vec\n",
    "model = Word2Vec(sentences, min_count=1, size=100)"
   ]
  },
  {
   "cell_type": "markdown",
   "metadata": {},
   "source": [
    "Train model for a few epochs"
   ]
  },
  {
   "cell_type": "code",
   "execution_count": 3,
   "metadata": {},
   "outputs": [
    {
     "data": {
      "text/plain": [
       "(107, 770)"
      ]
     },
     "execution_count": 3,
     "metadata": {},
     "output_type": "execute_result"
    }
   ],
   "source": [
    "model.train(sentences, total_examples=len(sentences), epochs=10)"
   ]
  },
  {
   "cell_type": "code",
   "execution_count": 4,
   "metadata": {},
   "outputs": [
    {
     "name": "stdout",
     "output_type": "stream",
     "text": [
      "Word2Vec(vocab=15, size=100, alpha=0.025)\n",
      "['seventh', 'fifth', 'first', 'second', 'word2vec', 'fourth', 'sixth', 'for', 'embedding', 'the', 'is', 'sentence', 'third', 'eighth', 'this']\n",
      "[-5.0830878e-03 -3.6210152e-03 -4.6149879e-03  7.0913543e-04\n",
      "  3.3029707e-03  1.0414299e-03  2.6116811e-03 -3.6260178e-03\n",
      " -3.0182945e-03 -2.0232345e-03 -2.5549966e-03 -4.1620820e-03\n",
      "  3.2915825e-03 -1.2376781e-03 -4.8367810e-04  9.0311444e-04\n",
      " -3.0533148e-03 -3.9284662e-03 -2.7151145e-03  2.4260732e-03\n",
      " -3.4846943e-03 -2.1869496e-03 -8.0227526e-04  2.6392154e-03\n",
      " -2.7151213e-03  4.5155920e-03  2.0242146e-04 -4.5422446e-03\n",
      "  1.7245578e-03 -3.7897762e-03 -5.4144673e-04 -4.4743461e-03\n",
      " -4.1091773e-03 -1.9470220e-03  2.7983875e-03  1.0490491e-03\n",
      " -4.4304160e-03 -7.9730467e-04  9.6278870e-04  8.0629700e-04\n",
      " -4.8781382e-03  1.5358713e-03  4.7452310e-03 -4.4292831e-03\n",
      "  3.1756661e-03 -2.8587834e-03  1.1620254e-03  4.5460211e-03\n",
      " -2.9476329e-03 -4.4718930e-03 -3.3265636e-03 -2.3373610e-03\n",
      " -6.7809381e-04  3.7219333e-03  4.8854318e-03  2.1035345e-03\n",
      " -3.1995629e-03  1.6046598e-04  5.7828194e-04 -4.4636754e-03\n",
      "  3.0206377e-03 -1.8057862e-03 -2.4902767e-03 -4.6400619e-03\n",
      " -1.6216121e-03  1.4174697e-03 -3.4360336e-03  3.3641916e-03\n",
      " -2.3827774e-03  3.1178549e-03 -2.0908853e-03 -2.7419250e-03\n",
      "  9.8693265e-05 -3.0812591e-03  2.2267157e-03 -2.9510795e-03\n",
      " -1.3412832e-03  4.1301888e-03  5.4803968e-04 -9.4323774e-04\n",
      "  4.0850290e-03  9.7524101e-04 -2.8310854e-03 -2.1397928e-04\n",
      " -1.6065683e-03 -4.5193806e-03  2.9469677e-03  1.4725290e-03\n",
      " -2.5117723e-03 -4.8735724e-03 -7.1617548e-04  3.9866208e-03\n",
      " -1.0125816e-03  3.6160469e-03 -1.4717997e-03  2.0747569e-03\n",
      " -4.8037344e-03 -1.0363625e-03 -3.0296477e-03  3.5192331e-03]\n"
     ]
    },
    {
     "name": "stderr",
     "output_type": "stream",
     "text": [
      "C:\\Users\\rajiv_kale\\AppData\\Local\\Continuum\\Anaconda3\\lib\\site-packages\\ipykernel\\__main__.py:7: DeprecationWarning: Call to deprecated `__getitem__` (Method will be removed in 4.0.0, use self.wv.__getitem__() instead).\n"
     ]
    }
   ],
   "source": [
    "# summarize the loaded model\n",
    "print(model)\n",
    "# summarize vocabulary\n",
    "words = list(model.wv.vocab)\n",
    "print(words)\n",
    "# access vector for one word\n",
    "print(model['sentence'])"
   ]
  },
  {
   "cell_type": "markdown",
   "metadata": {},
   "source": [
    "Let us plot vectors.. we will have to do dimensionality Reduction to be able to plot at 2D"
   ]
  },
  {
   "cell_type": "code",
   "execution_count": 5,
   "metadata": {},
   "outputs": [
    {
     "name": "stderr",
     "output_type": "stream",
     "text": [
      "C:\\Users\\rajiv_kale\\AppData\\Local\\Continuum\\Anaconda3\\lib\\site-packages\\ipykernel\\__main__.py:5: DeprecationWarning: Call to deprecated `__getitem__` (Method will be removed in 4.0.0, use self.wv.__getitem__() instead).\n"
     ]
    },
    {
     "data": {
      "image/png": "[encoded data removed]",
      "text/plain": [
       "<Figure size 432x288 with 1 Axes>"
      ]
     },
     "metadata": {
      "needs_background": "light"
     },
     "output_type": "display_data"
    }
   ],
   "source": [
    "from sklearn.decomposition import PCA\n",
    "from matplotlib import pyplot\n",
    "%matplotlib inline\n",
    "# fit a 2D PCA model to the vectors\n",
    "X = model[model.wv.vocab]\n",
    "pca = PCA(n_components=2)\n",
    "result = pca.fit_transform(X)\n",
    "# create a scatter plot of the projection\n",
    "pyplot.scatter(result[:, 0], result[:, 1])\n",
    "words = list(model.wv.vocab)\n",
    "for i, word in enumerate(words):\n",
    "    pyplot.annotate(word, xy=(result[i, 0], result[i, 1]))\n",
    "pyplot.show()\n"
   ]
  },
  {
   "cell_type": "markdown",
   "metadata": {},
   "source": [
    "AS can be seen above vectors look pretty random"
   ]
  },
  {
   "cell_type": "markdown",
   "metadata": {},
   "source": [
    "Let us train the model for 800 or more epochs and see if vectors get adjusted"
   ]
  },
  {
   "cell_type": "code",
   "execution_count": 6,
   "metadata": {},
   "outputs": [
    {
     "data": {
      "text/plain": [
       "(7579, 61600)"
      ]
     },
     "execution_count": 6,
     "metadata": {},
     "output_type": "execute_result"
    }
   ],
   "source": [
    "model.train(sentences, total_examples=len(sentences), epochs=800)"
   ]
  },
  {
   "cell_type": "code",
   "execution_count": 7,
   "metadata": {},
   "outputs": [
    {
     "name": "stderr",
     "output_type": "stream",
     "text": [
      "C:\\Users\\rajiv_kale\\AppData\\Local\\Continuum\\Anaconda3\\lib\\site-packages\\ipykernel\\__main__.py:5: DeprecationWarning: Call to deprecated `__getitem__` (Method will be removed in 4.0.0, use self.wv.__getitem__() instead).\n"
     ]
    },
    {
     "data": {
      "image/png": "[encoded data removed]",
      "text/plain": [
       "<Figure size 432x288 with 1 Axes>"
      ]
     },
     "metadata": {
      "needs_background": "light"
     },
     "output_type": "display_data"
    }
   ],
   "source": [
    "from sklearn.decomposition import PCA\n",
    "from matplotlib import pyplot\n",
    "%matplotlib inline\n",
    "# fit a 2D PCA model to the vectors\n",
    "X = model[model.wv.vocab]\n",
    "pca = PCA(n_components=2)\n",
    "result = pca.fit_transform(X)\n",
    "# create a scatter plot of the projection\n",
    "pyplot.scatter(result[:, 0], result[:, 1])\n",
    "words = list(model.wv.vocab)\n",
    "for i, word in enumerate(words):\n",
    "    pyplot.annotate(word, xy=(result[i, 0], result[i, 1]))\n",
    "pyplot.show()"
   ]
  },
  {
   "cell_type": "markdown",
   "metadata": {},
   "source": [
    "As can be seen above vectors for interchangeable words are getting aligned (coming to closer)"
   ]
  }
 ],
 "metadata": {
  "anaconda-cloud": {},
  "kernelspec": {
   "display_name": "Python [conda env:Anaconda3]",
   "language": "python",
   "name": "conda-env-Anaconda3-py"
  },
  "language_info": {
   "codemirror_mode": {
    "name": "ipython",
    "version": 3
   },
   "file_extension": ".py",
   "mimetype": "text/x-python",
   "name": "python",
   "nbconvert_exporter": "python",
   "pygments_lexer": "ipython3",
   "version": "3.5.6"
  }
 },
 "nbformat": 4,
 "nbformat_minor": 1
}
