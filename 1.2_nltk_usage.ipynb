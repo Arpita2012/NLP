{
 "cells": [
  {
   "cell_type": "markdown",
   "metadata": {},
   "source": [
    "<img src=\"Images/PU.png\" width=\"100%\">\n",
    "### Course Name : AI 702 Deep Learning for Professionals: NLP: nltk usage \n",
    "##### Notebook compiled by : Rajiv Kale, Consultant at Learning and Development  \n",
    "** Important ! ** For internal circulation olny"
   ]
  },
  {
   "cell_type": "markdown",
   "metadata": {},
   "source": [
    "<img src=\"Images/NLTK-300x224.png\" width=\"70%\">\n",
    "courtsey: https://dzone.com/articles/nlp-tutorial-using-python-nltk-simple-examples"
   ]
  },
  {
   "cell_type": "markdown",
   "metadata": {},
   "source": [
    "##### This notebook demonstrates how to use beautifulsoup to parse html/xml and do tokenization, stemming, lemmatization using  nltk Library for Data Pre-processing Tasks under NLP "
   ]
  },
  {
   "cell_type": "markdown",
   "metadata": {},
   "source": [
    "#pip install nltk  ## Run this first time just once for python 2.x\n",
    "#pip3 install nltk ## Run this first time just once for python 3.x\n",
    "##Run below first time just once. Select all pacakages on presented Graphycal interface\n",
    "#nltk.download()   \n",
    "#Or via a command line: \n",
    "#python -m nltk.downloader all"
   ]
  },
  {
   "cell_type": "markdown",
   "metadata": {},
   "source": [
    "grab some web page content. Then, we will analyze the text to see what the page is about. We will use the urllib module to crawl the web page:"
   ]
  },
  {
   "cell_type": "code",
   "execution_count": 1,
   "metadata": {},
   "outputs": [
    {
     "name": "stdout",
     "output_type": "stream",
     "text": [
      "b'<!DOCTYPE html>\\n<html xmlns=\"http://www.w3.org/1999/xhtml\" lang=\"en\">\\n<head>\\n\\n  <meta charset=\"utf-8\">\\n  <meta name=\"viewport\" content=\"width=device-width, initial-scale=1.0\">\\n\\n  <title>PHP: Hypertext Preprocessor</title>\\n\\n <link rel=\"shortcut icon\" href=\"https://www.php.net/favicon.ico\">\\n <link rel=\"search\" type=\"application/opensearchdescription+xml\" href=\"http://php.net/phpnetimprovedsearch.src\" title=\"Add PHP.net search\">\\n <link rel=\"alternate\" type=\"application/atom+xml\" href=\"https://www.php.net/releases/feed.php\" title=\"PHP Release feed\">\\n <link rel=\"alternate\" type=\"application/atom+xml\" href=\"https://www.php.net/feed.atom\" title=\"PHP: Hypertext Preprocessor\">\\n\\n <link rel=\"canonical\" href=\"https://www.php.net/index.php\">\\n <link rel=\"shorturl\" href=\"https://www.php.net/index\">\\n <link rel=\"alternate\" href=\"https://www.php.net/index\" hreflang=\"x-default\">\\n\\n\\n\\n<link rel=\"stylesheet\" type=\"text/css\" href=\"/cached.php?t=1539771603&amp;f=/fonts/Fira/fira.css\" media=\"screen\">\\n<link rel=\"stylesheet\" type=\"text/css\" href=\"/cached.php?t=1539765004&amp;f=/fonts/Font-Awesome/css/fontello.css\" media=\"screen\">\\n<link rel=\"stylesheet\" type=\"text/css\" href=\"/cached.php?t=1540425603&amp;f=/styles/theme-base.css\" media=\"screen\">\\n<link rel=\"stylesheet\" type=\"text/css\" href=\"/cached.php?t=1540425603&amp;f=/styles/theme-medium.css\" media=\"screen\">\\n<link rel=\"stylesheet\" type=\"text/css\" href=\"/cached.php?t=1429259403&amp;f=/styles/home.css\" media=\"screen\">\\n\\n <!--[if lte IE 7]>\\n <link rel=\"stylesheet\" type=\"text/css\" href=\"https://www.php.net/styles/workarounds.ie7.css\" media=\"screen\">\\n <![endif]-->\\n\\n <!--[if lte IE 8]>\\n <script>\\n  window.brokenIE = true;\\n </script>\\n <![endif]-->\\n\\n <!--[if lte IE 9]>\\n <link rel=\"stylesheet\" type=\"text/css\" href=\"https://www.php.net/styles/workarounds.ie9.css\" media=\"screen\">\\n <![endif]-->\\n\\n <!--[if IE]>\\n <script src=\"https://www.php.net/js/ext/html5.js\"></script>\\n <![endif]-->\\n\\n <base href=\"https://www.php.net/index.php\">\\n\\n</head>\\n<body class=\"home \">\\n\\n<nav id=\"head-nav\" class=\"navbar navbar-fixed-top\">\\n  <div class=\"navbar-inner clearfix\">\\n    <a href=\"/\" class=\"brand\"><img src=\"/images/logos/php-logo.svg\" width=\"48\" height=\"24\" alt=\"php\"></a>\\n    <div id=\"mainmenu-toggle-overlay\"></div>\\n    <input type=\"checkbox\" id=\"mainmenu-toggle\">\\n    <ul class=\"nav\">\\n      <li class=\"\"><a href=\"/downloads\">Downloads</a></li>\\n      <li class=\"\"><a href=\"/docs.php\">Documentation</a></li>\\n      <li class=\"\"><a href=\"/get-involved\" >Get Involved</a></li>\\n      <li class=\"\"><a href=\"/support\">Help</a></li>\\n    </ul>\\n    <form class=\"navbar-search\" id=\"topsearch\" action=\"/search.php\">\\n      <input type=\"hidden\" name=\"show\" value=\"quickref\">\\n      <input type=\"search\" name=\"pattern\" class=\"search-query\" placeholder=\"Search\" accesskey=\"s\">\\n    </form>\\n  </div>\\n  <div id=\"flash-message\"></div>\\n</nav>\\n<nav id=\"trick\"><div><dl>\\n<dt><a href=\\'/manual/en/getting-started.php\\'>Getting Started</a></dt>\\n\\t<dd><a href=\\'/manual/en/introduction.php\\'>Introduction</a></dd>\\n\\t<dd><a href=\\'/manual/en/tutorial.php\\'>A simple tutorial</a></dd>\\n<dt><a href=\\'/manual/en/langref.php\\'>Language Reference</a></dt>\\n\\t<dd><a href=\\'/manual/en/language.basic-syntax.php\\'>Basic syntax</a></dd>\\n\\t<dd><a href=\\'/manual/en/language.types.php\\'>Types</a></dd>\\n\\t<dd><a href=\\'/manual/en/language.variables.php\\'>Variables</a></dd>\\n\\t<dd><a href=\\'/manual/en/language.constants.php\\'>Constants</a></dd>\\n\\t<dd><a href=\\'/manual/en/language.expressions.php\\'>Expressions</a></dd>\\n\\t<dd><a href=\\'/manual/en/language.operators.php\\'>Operators</a></dd>\\n\\t<dd><a href=\\'/manual/en/language.control-structures.php\\'>Control Structures</a></dd>\\n\\t<dd><a href=\\'/manual/en/language.functions.php\\'>Functions</a></dd>\\n\\t<dd><a href=\\'/manual/en/language.oop5.php\\'>Classes and Objects</a></dd>\\n\\t<dd><a href=\\'/manual/en/language.namespaces.php\\'>Namespaces</a></dd>\\n\\t<dd><a href=\\'/manual/en/language.errors.php\\'>Errors</a></dd>\\n\\t<dd><a href=\\'/manual/en/language.exceptions.php\\'>Exceptions</a></dd>\\n\\t<dd><a href=\\'/manual/en/language.generators.php\\'>Generators</a></dd>\\n\\t<dd><a href=\\'/manual/en/language.references.php\\'>References Explained</a></dd>\\n\\t<dd><a href=\\'/manual/en/reserved.variables.php\\'>Predefined Variables</a></dd>\\n\\t<dd><a href=\\'/manual/en/reserved.exceptions.php\\'>Predefined Exceptions</a></dd>\\n\\t<dd><a href=\\'/manual/en/reserved.interfaces.php\\'>Predefined Interfaces and Classes</a></dd>\\n\\t<dd><a href=\\'/manual/en/context.php\\'>Context options and parameters</a></dd>\\n\\t<dd><a href=\\'/manual/en/wrappers.php\\'>Supported Protocols and Wrappers</a></dd>\\n</dl>\\n<dl>\\n<dt><a href=\\'/manual/en/security.php\\'>Security</a></dt>\\n\\t<dd><a href=\\'/manual/en/security.intro.php\\'>Introduction</a></dd>\\n\\t<dd><a href=\\'/manual/en/security.general.php\\'>General considerations</a></dd>\\n\\t<dd><a href=\\'/manual/en/security.cgi-bin.php\\'>Installed as CGI binary</a></dd>\\n\\t<dd><a href=\\'/manual/en/security.apache.php\\'>Installed as an Apache module</a></dd>\\n\\t<dd><a href=\\'/manual/en/security.sessions.php\\'>Session Security</a></dd>\\n\\t<dd><a href=\\'/manual/en/security.filesystem.php\\'>Filesystem Security</a></dd>\\n\\t<dd><a href=\\'/manual/en/security.database.php\\'>Database Security</a></dd>\\n\\t<dd><a href=\\'/manual/en/security.errors.php\\'>Error Reporting</a></dd>\\n\\t<dd><a href=\\'/manual/en/security.globals.php\\'>Using Register Globals</a></dd>\\n\\t<dd><a href=\\'/manual/en/security.variables.php\\'>User Submitted Data</a></dd>\\n\\t<dd><a href=\\'/manual/en/security.magicquotes.php\\'>Magic Quotes</a></dd>\\n\\t<dd><a href=\\'/manual/en/security.hiding.php\\'>Hiding PHP</a></dd>\\n\\t<dd><a href=\\'/manual/en/security.current.php\\'>Keeping Current</a></dd>\\n<dt><a href=\\'/manual/en/features.php\\'>Features</a></dt>\\n\\t<dd><a href=\\'/manual/en/features.http-auth.php\\'>HTTP authentication with PHP</a></dd>\\n\\t<dd><a href=\\'/manual/en/features.cookies.php\\'>Cookies</a></dd>\\n\\t<dd><a href=\\'/manual/en/features.sessions.php\\'>Sessions</a></dd>\\n\\t<dd><a href=\\'/manual/en/features.xforms.php\\'>Dealing with XForms</a></dd>\\n\\t<dd><a href=\\'/manual/en/features.file-upload.php\\'>Handling file uploads</a></dd>\\n\\t<dd><a href=\\'/manual/en/features.remote-files.php\\'>Using remote files</a></dd>\\n\\t<dd><a href=\\'/manual/en/features.connection-handling.php\\'>Connection handling</a></dd>\\n\\t<dd><a href=\\'/manual/en/features.persistent-connections.php\\'>Persistent Database Connections</a></dd>\\n\\t<dd><a href=\\'/manual/en/features.safe-mode.php\\'>Safe Mode</a></dd>\\n\\t<dd><a href=\\'/manual/en/features.commandline.php\\'>Command line usage</a></dd>\\n\\t<dd><a href=\\'/manual/en/features.gc.php\\'>Garbage Collection</a></dd>\\n\\t<dd><a href=\\'/manual/en/features.dtrace.php\\'>DTrace Dynamic Tracing</a></dd>\\n</dl>\\n<dl>\\n<dt><a href=\\'/manual/en/funcref.php\\'>Function Reference</a></dt>\\n\\t<dd><a href=\\'/manual/en/refs.basic.php.php\\'>Affecting PHP\\'s Behaviour</a></dd>\\n\\t<dd><a href=\\'/manual/en/refs.utilspec.audio.php\\'>Audio Formats Manipulation</a></dd>\\n\\t<dd><a href=\\'/manual/en/refs.remote.auth.php\\'>Authentication Services</a></dd>\\n\\t<dd><a href=\\'/manual/en/refs.utilspec.cmdline.php\\'>Command Line Specific Extensions</a></dd>\\n\\t<dd><a href=\\'/manual/en/refs.compression.php\\'>Compression and Archive Extensions</a></dd>\\n\\t<dd><a href=\\'/manual/en/refs.creditcard.php\\'>Credit Card Processing</a></dd>\\n\\t<dd><a href=\\'/manual/en/refs.crypto.php\\'>Cryptography Extensions</a></dd>\\n\\t<dd><a href=\\'/manual/en/refs.database.php\\'>Database Extensions</a></dd>\\n\\t<dd><a href=\\'/manual/en/refs.calendar.php\\'>Date and Time Related Extensions</a></dd>\\n\\t<dd><a href=\\'/manual/en/refs.fileprocess.file.php\\'>File System Related Extensions</a></dd>\\n\\t<dd><a href=\\'/manual/en/refs.international.php\\'>Human Language and Character Encoding Support</a></dd>\\n\\t<dd><a href=\\'/manual/en/refs.utilspec.image.php\\'>Image Processing and Generation</a></dd>\\n\\t<dd><a href=\\'/manual/en/refs.remote.mail.php\\'>Mail Related Extensions</a></dd>\\n\\t<dd><a href=\\'/manual/en/refs.math.php\\'>Mathematical Extensions</a></dd>\\n\\t<dd><a href=\\'/manual/en/refs.utilspec.nontext.php\\'>Non-Text MIME Output</a></dd>\\n\\t<dd><a href=\\'/manual/en/refs.fileprocess.process.php\\'>Process Control Extensions</a></dd>\\n\\t<dd><a href=\\'/manual/en/refs.basic.other.php\\'>Other Basic Extensions</a></dd>\\n\\t<dd><a href=\\'/manual/en/refs.remote.other.php\\'>Other Services</a></dd>\\n\\t<dd><a href=\\'/manual/en/refs.search.php\\'>Search Engine Extensions</a></dd>\\n\\t<dd><a href=\\'/manual/en/refs.utilspec.server.php\\'>Server Specific Extensions</a></dd>\\n\\t<dd><a href=\\'/manual/en/refs.basic.session.php\\'>Session Extensions</a></dd>\\n\\t<dd><a href=\\'/manual/en/refs.basic.text.php\\'>Text Processing</a></dd>\\n\\t<dd><a href=\\'/manual/en/refs.basic.vartype.php\\'>Variable and Type Related Extensions</a></dd>\\n\\t<dd><a href=\\'/manual/en/refs.webservice.php\\'>Web Services</a></dd>\\n\\t<dd><a href=\\'/manual/en/refs.utilspec.windows.php\\'>Windows Only Extensions</a></dd>\\n\\t<dd><a href=\\'/manual/en/refs.xml.php\\'>XML Manipulation</a></dd>\\n\\t<dd><a href=\\'/manual/en/refs.ui.php\\'>GUI Extensions</a></dd>\\n</dl>\\n<dl>\\n<dt>Keyboard Shortcuts</dt><dt>?</dt>\\n<dd>This help</dd>\\n<dt>j</dt>\\n<dd>Next menu item</dd>\\n<dt>k</dt>\\n<dd>Previous menu item</dd>\\n<dt>g p</dt>\\n<dd>Previous man page</dd>\\n<dt>g n</dt>\\n<dd>Next man page</dd>\\n<dt>G</dt>\\n<dd>Scroll to bottom</dd>\\n<dt>g g</dt>\\n<dd>Scroll to top</dd>\\n<dt>g h</dt>\\n<dd>Goto homepage</dd>\\n<dt>g s</dt>\\n<dd>Goto search<br>(current page)</dd>\\n<dt>/</dt>\\n<dd>Focus search box</dd>\\n</dl></div></nav>\\n<div id=\"goto\">\\n    <div class=\"search\">\\n         <div class=\"text\"></div>\\n         <div class=\"results\"><ul></ul></div>\\n   </div>\\n</div>\\n\\n\\n\\n<div id=\"intro\" class=\"clearfix\">\\n  <div class=\"container\">\\n      <div class=\"row clearfix\">\\n    <div class=\"blurb\">\\n      <p>PHP is a popular general-purpose scripting language that is especially suited to web development.</p>\\n      <p>Fast, flexible and pragmatic, PHP powers everything from your blog to the most popular websites in the world.</p>\\n    </div>\\n    <div class=\"download\">\\n      <h3>Download</h3><ul>\\n\\n            <li><a class=\\'download-link\\' href=\\'/downloads.php#v7.1.32\\'>7.1.32</a><span class=\\'dot\\'>&middot;</span><a class=\\'notes\\' href=\\'/ChangeLog-7.php#7.1.32\\'>Release Notes</a><span class=\\'dot\\'>&middot;</span><a class=\\'notes\\' href=\\'/migration71\\'>Upgrading</a></li>\\n\\n            <li><a class=\\'download-link\\' href=\\'/downloads.php#v7.2.23\\'>7.2.23</a><span class=\\'dot\\'>&middot;</span><a class=\\'notes\\' href=\\'/ChangeLog-7.php#7.2.23\\'>Release Notes</a><span class=\\'dot\\'>&middot;</span><a class=\\'notes\\' href=\\'/migration72\\'>Upgrading</a></li>\\n\\n            <li><a class=\\'download-link\\' href=\\'/downloads.php#v7.3.10\\'>7.3.10</a><span class=\\'dot\\'>&middot;</span><a class=\\'notes\\' href=\\'/ChangeLog-7.php#7.3.10\\'>Release Notes</a><span class=\\'dot\\'>&middot;</span><a class=\\'notes\\' href=\\'/migration73\\'>Upgrading</a></li>\\n</ul>\\n    </div>\\n  </div>  </div>\\n</div>\\n\\n\\n<div id=\"layout\" class=\"clearfix\">\\n  <section id=\"layout-content\">\\n<div class=\\'home-content\\'><article class=\"newsentry\">\\n  <header class=\"title\">\\n    <time datetime=\"2019-10-03T14:28:25+00:00\">03 Oct 2019</time>\\n    <h2 class=\"newstitle\">\\n      <a href=\"https://www.php.net/archive/2019.php#2019-10-03-1\" id=\"2019-10-03-1\">PHP 7.4.0RC3 Released!</a>\\n    </h2>\\n  </header>\\n  <div class=\"newscontent\">\\n    <div>\\n     <p>\\n     The PHP team is glad to announce the third release candidate of PHP 7.4:\\n     PHP 7.4.0RC3. This continues the PHP 7.4 release cycle, the rough outline of\\n     which is specified in the <a href=\"https://wiki.php.net/todo/php74\">PHP\\n     Wiki</a>.\\n     </p>\\n     \\n     <p>\\n     <b>Please DO NOT use this version in production, it is an early test\\n     version.</b>\\n     </p>\\n     \\n     <p>\\n     For source downloads of PHP 7.4.0RC3 please visit the\\n     <a href=\"https://downloads.php.net/~derick\">download page</a>.\\n     </p>\\n     \\n     <p>\\n     Please carefully test this version and report any issues found in the <a href=\"https://bugs.php.net\">bug reporting system</a>.\\n     </p>\\n     \\n     <p>\\n     For more information on the new features and other changes, you can read the\\n     <a href=\"https://github.com/php/php-src/blob/php-7.4.0RC3/NEWS\">NEWS</a>\\n     file, or the\\n     <a href=\"https://github.com/php/php-src/blob/php-7.4.0RC3/UPGRADING\">UPGRADING</a>\\n     file for a complete list of upgrading notes. These files can also be found in\\n     the release archive.\\n     </p>\\n     \\n     <p>\\n     The next release would be <b>7.4.0RC4</b>, planned for October 17th.\\n     </p>\\n     \\n     <p>\\n     The signatures for the release can be found in\\n     <a href=\"https://gist.github.com/derickr/4eaedc5dfd3bc9ddfbff6f81e8c53ec1\">the\\n     manifest</a> or on <a href=\"https://qa.php.net/\">the QA site</a>.\\n     </p>\\n     \\n     <p>Thank you for helping us make PHP better.</p>\\n    </div>\\n  \\n  </div>\\n</article><article class=\"newsentry\">\\n  <header class=\"title\">\\n    <time datetime=\"2019-09-26T14:29:23+00:00\">26 Sep 2019</time>\\n    <h2 class=\"newstitle\">\\n      <a href=\"https://www.php.net/archive/2019.php#2019-09-26-2\" id=\"2019-09-26-2\">PHP 7.2.23 Release Announcement</a>\\n    </h2>\\n  </header>\\n  <div class=\"newscontent\">\\n    <div>\\n       <p>The PHP development team announces the immediate availability of PHP\\n       7.2.23. This is a bugfix release.</p>\\n     \\n       <p>For source downloads of PHP 7.2.23 please visit our <a href=\"http://www.php.net/downloads.php\">downloads page</a>,\\n       Windows source and binaries can be found on <a href=\"http://windows.php.net/download/\">windows.php.net/download/</a>.\\n       The list of changes is recorded in the <a href=\"http://www.php.net/ChangeLog-7.php#7.2.23\">ChangeLog</a>.\\n       </p>\\n    </div>\\n  \\n  </div>\\n</article><article class=\"newsentry\">\\n  <header class=\"title\">\\n    <time datetime=\"2019-09-26T10:22:05+00:00\">26 Sep 2019</time>\\n    <h2 class=\"newstitle\">\\n      <a href=\"https://www.php.net/archive/2019.php#2019-09-26-1\" id=\"2019-09-26-1\">PHP 7.3.10 Released</a>\\n    </h2>\\n  </header>\\n  <div class=\"newscontent\">\\n    <div>\\n      <p>The PHP development team announces the immediate availability of PHP\\n      7.3.10. This is a security release which also contains several bug fixes.</p>\\n\\n      <p>All PHP 7.3 users are encouraged to upgrade to this version.</p>\\n\\n      <p>For source downloads of PHP 7.3.10 please visit our <a href=\"http://www.php.net/downloads.php\">downloads page</a>,\\n      Windows source and binaries can be found on <a href=\"http://windows.php.net/download/\">windows.php.net/download/</a>.\\n      The list of changes is recorded in the <a href=\"http://www.php.net/ChangeLog-7.php#7.3.10\">ChangeLog</a>.\\n      </p>\\n    </div>\\n  \\n  </div>\\n</article><article class=\"newsentry\">\\n  <header class=\"title\">\\n    <time datetime=\"2019-09-19T09:07:27+00:00\">19 Sep 2019</time>\\n    <h2 class=\"newstitle\">\\n      <a href=\"https://www.php.net/archive/2019.php#2019-09-19-1\" id=\"2019-09-19-1\">PHP 7.4.0RC2 Released!</a>\\n    </h2>\\n  </header>\\n  <div class=\"newscontent\">\\n    <div>\\n     <p>\\n     The PHP team is glad to announce the second release candidate of PHP 7.4:\\n     PHP 7.4.0RC2. This continues the PHP 7.4 release cycle, the rough outline of\\n     which is specified in the <a href=\"https://wiki.php.net/todo/php74\">PHP\\n     Wiki</a>.\\n     </p>\\n     \\n     <p>\\n     <b>Please DO NOT use this version in production, it is an early test\\n     version.</b>\\n     </p>\\n     \\n     <p>\\n     For source downloads of PHP 7.4.0RC2 please visit the\\n     <a href=\"https://downloads.php.net/~derick\">download page</a>.\\n     </p>\\n     \\n     <p>\\n     Please carefully test this version and report any issues found in the <a href=\"https://bugs.php.net\">bug reporting system</a>.\\n     </p>\\n     \\n     <p>\\n     For more information on the new features and other changes, you can read the\\n     <a href=\"https://github.com/php/php-src/blob/php-7.4.0RC2/NEWS\">NEWS</a>\\n     file, or the\\n     <a href=\"https://github.com/php/php-src/blob/php-7.4.0RC2/UPGRADING\">UPGRADING</a>\\n     file for a complete list of upgrading notes. These files can also be found in\\n     the release archive.\\n     </p>\\n     \\n     <p>\\n     The next release would be <b>7.4.0RC3</b>, planned for October 3rd.\\n     </p>\\n     \\n     <p>\\n     The signatures for the release can be found in\\n     <a href=\"https://gist.github.com/derickr/4f8a617b73e471ee4cbbbde1862a9448\">the\\n     manifest</a> or on <a href=\"https://qa.php.net/\">the QA site</a>.\\n     </p>\\n     \\n     <p>Thank you for helping us make PHP better.</p>\\n    </div>\\n  \\n  </div>\\n</article><article class=\"newsentry\">\\n  <header class=\"title\">\\n    <time datetime=\"2019-09-05T08:39:13+00:00\">05 Sep 2019</time>\\n    <h2 class=\"newstitle\">\\n      <a href=\"https://www.php.net/archive/2019.php#2019-09-05-1\" id=\"2019-09-05-1\">PHP 7.4.0RC1 Released!</a>\\n    </h2>\\n  </header>\\n  <div class=\"newscontent\">\\n    <div>\\n     <p>\\n     The PHP team is glad to announce the first release candidate of PHP 7.4:\\n     PHP 7.4.0RC1. This continues the PHP 7.4 release cycle, the rough outline of\\n     which is specified in the <a href=\"https://wiki.php.net/todo/php74\">PHP\\n     Wiki</a>.\\n     </p>\\n     \\n     <p>\\n     <b>Please DO NOT use this version in production, it is an early test\\n     version.</b>\\n     </p>\\n     \\n     <p>\\n     For source downloads of PHP 7.4.0RC1 please visit the\\n     <a href=\"https://downloads.php.net/~derick\">download page</a>.\\n     </p>\\n     \\n     <p>\\n     Please carefully test this version and report any issues found in the <a href=\"https://bugs.php.net\">bug reporting system</a>.\\n     </p>\\n     \\n     <p>\\n     For more information on the new features and other changes, you can read the\\n     <a href=\"https://github.com/php/php-src/blob/php-7.4.0RC1/NEWS\">NEWS</a>\\n     file, or the\\n     <a href=\"https://github.com/php/php-src/blob/php-7.4.0RC1/UPGRADING\">UPGRADING</a>\\n     file for a complete list of upgrading notes. These files can also be found in\\n     the release archive.\\n     </p>\\n     \\n     <p>\\n     The next release would be <b>7.4.0RC2</b>, planned for September 19th.\\n     </p>\\n     \\n     <p>\\n     The signatures for the release can be found in\\n     <a href=\"https://gist.github.com/derickr/eb4025dd8f09f0e4af0bdf462ada14c2\">the\\n     manifest</a> or on <a href=\"https://qa.php.net/\">the QA site</a>.\\n     </p>\\n     \\n     <p>Thank you for helping us make PHP better.</p>\\n    </div>\\n  \\n  </div>\\n</article><article class=\"newsentry\">\\n  <header class=\"title\">\\n    <time datetime=\"2019-08-30T06:42:02+00:00\">30 Aug 2019</time>\\n    <h2 class=\"newstitle\">\\n      <a href=\"https://www.php.net/archive/2019.php#2019-08-30-1\" id=\"2019-08-30-1\">PHP 7.1.32 Released</a>\\n    </h2>\\n  </header>\\n  <div class=\"newscontent\">\\n    <div>\\n       <p>The PHP development team announces the immediate availability of PHP\\n       7.1.32. This is a security release.</p>\\n     \\n       <p>All PHP 7.1 users are encouraged to upgrade to this version.</p>\\n     \\n       <p>For source downloads of PHP 7.1.32 please visit our <a href=\"http://www.php.net/downloads.php\">downloads page</a>,\\n       Windows source and binaries can be found on <a href=\"http://windows.php.net/download/\">windows.php.net/download/</a>.\\n       The list of changes is recorded in the <a href=\"http://www.php.net/ChangeLog-7.php#7.1.32\">ChangeLog</a>.\\n       </p>\\n    </div>\\n  \\n  </div>\\n</article><article class=\"newsentry\">\\n  <header class=\"title\">\\n    <time datetime=\"2019-08-29T20:27:22+00:00\">29 Aug 2019</time>\\n    <h2 class=\"newstitle\">\\n      <a href=\"https://www.php.net/archive/2019.php#2019-08-29-2\" id=\"2019-08-29-2\">PHP 7.2.22 Released</a>\\n    </h2>\\n  </header>\\n  <div class=\"newscontent\">\\n    <div>\\n       <p>The PHP development team announces the immediate availability of PHP\\n       7.2.22. This is a security release which also contains several bug fixes.</p>\\n     \\n       <p>All PHP 7.2 users are encouraged to upgrade to this version.</p>\\n     \\n       <p>For source downloads of PHP 7.2.22 please visit our <a href=\"http://www.php.net/downloads.php\">downloads page</a>,\\n       Windows source and binaries can be found on <a href=\"http://windows.php.net/download/\">windows.php.net/download/</a>.\\n       The list of changes is recorded in the <a href=\"http://www.php.net/ChangeLog-7.php#7.2.22\">ChangeLog</a>.\\n       </p>\\n    </div>\\n  \\n  </div>\\n</article><article class=\"newsentry\">\\n  <header class=\"title\">\\n    <time datetime=\"2019-08-29T11:55:58+00:00\">29 Aug 2019</time>\\n    <h2 class=\"newstitle\">\\n      <a href=\"https://www.php.net/archive/2019.php#2019-08-29-1\" id=\"2019-08-29-1\">PHP 7.3.9 Release Announcement</a>\\n    </h2>\\n  </header>\\n  <div class=\"newscontent\">\\n    <div>\\n      <p>The PHP development team announces the immediate availability of PHP\\n      7.3.9. This is a security release which also contains several bug fixes.</p>\\n    \\n      <p>All PHP 7.3 users are encouraged to upgrade to this version.</p>\\n    \\n      <p>For source downloads of PHP 7.3.9 please visit our <a href=\"http://www.php.net/downloads.php\">downloads page</a>,\\n      Windows source and binaries can be found on <a href=\"http://windows.php.net/download/\">windows.php.net/download/</a>.\\n      The list of changes is recorded in the <a href=\"http://www.php.net/ChangeLog-7.php#7.3.9\">ChangeLog</a>.\\n      </p>\\n    </div>\\n  \\n  </div>\\n</article><article class=\"newsentry\">\\n  <header class=\"title\">\\n    <time datetime=\"2019-08-22T14:51:16+00:00\">22 Aug 2019</time>\\n    <h2 class=\"newstitle\">\\n      <a href=\"https://www.php.net/archive/2019.php#2019-08-22-1\" id=\"2019-08-22-1\">PHP 7.4.0beta4 released!</a>\\n    </h2>\\n  </header>\\n  <div class=\"newscontent\">\\n    <div>\\n     <p>\\n     The PHP team is glad to announce the third and last beta release of PHP 7.4:\\n     PHP 7.4.0beta4. This continues the PHP 7.4 release cycle, the rough outline of\\n     which is specified in the <a href=\"https://wiki.php.net/todo/php74\">PHP\\n     Wiki</a>.\\n     </p>\\n     \\n     <p>\\n     For source downloads of PHP 7.4.0beta4 please visit the\\n     <a href=\"https://downloads.php.net/~derick\">download page</a>.\\n     </p>\\n     \\n     <p>\\n     Please carefully test this version and report any issues found in the <a href=\"https://bugs.php.net\">bug reporting system</a>.\\n     </p>\\n     \\n     <p>\\n     <b>Please DO NOT use this version in production, it is an early test\\n     version.</b>\\n     </p>\\n     \\n     <p>\\n     For more information on the new features and other changes, you can read the\\n     <a href=\"https://github.com/php/php-src/blob/php-7.4.0beta4/NEWS\">NEWS</a>\\n     file, or the\\n     <a href=\"https://github.com/php/php-src/blob/php-7.4.0beta4/UPGRADING\">UPGRADING</a>\\n     file for a complete list of upgrading notes. These files can also be found in\\n     the release archive.\\n     </p>\\n     \\n     <p>\\n     The next release would be <b>RC 1</b>, planned for September 5th.\\n     </p>\\n     \\n     <p>\\n     The signatures for the release can be found in\\n     <a href=\"https://gist.github.com/derickr/3c8d6ca0c4ec904fd5a3c47dbf9bf637\">the\\n     manifest</a> or on <a href=\"https://qa.php.net/\">the QA site</a>.\\n     </p>\\n     \\n     <p>Thank you for helping us make PHP better.</p>\\n    </div>\\n  \\n  </div>\\n</article><article class=\"newsentry\">\\n  <header class=\"title\">\\n    <time datetime=\"2019-08-08T08:15:01+00:00\">08 Aug 2019</time>\\n    <h2 class=\"newstitle\">\\n      <a href=\"https://www.php.net/archive/2019.php#2019-08-08-1\" id=\"2019-08-08-1\">PHP 7.4.0beta2 released!</a>\\n    </h2>\\n  </header>\\n  <div class=\"newscontent\">\\n    <div>\\n     <p>\\n     The PHP team is glad to announce the second beta release of PHP 7.4: PHP\\n     7.4.0beta2. This continues the PHP 7.4 release cycle, the rough outline of\\n     which is specified in the <a href=\"https://wiki.php.net/todo/php74\">PHP\\n     Wiki</a>.\\n     </p>\\n     \\n     <p>\\n     For source downloads of PHP 7.4.0beta2 please visit the\\n     <a href=\"https://downloads.php.net/~derick\">download page</a>.\\n     </p>\\n     \\n     <p>\\n     Please carefully test this version and report any issues found in the <a href=\"https://bugs.php.net\">bug reporting system</a>.\\n     </p>\\n     \\n     <p>\\n     <b>Please DO NOT use this version in production, it is an early test\\n     version.</b>\\n     </p>\\n     \\n     <p>\\n     For more information on the new features and other changes, you can read the\\n     <a href=\"https://github.com/php/php-src/blob/php-7.4.0beta2/NEWS\">NEWS</a>\\n     file, or the\\n     <a href=\"https://github.com/php/php-src/blob/php-7.4.0beta2/UPGRADING\">UPGRADING</a>\\n     file for a complete list of upgrading notes. These files can also be found in\\n     the release archive.\\n     </p>\\n     \\n     <p>\\n     The next release would be <b>Beta 3</b>, planned for August 22nd.\\n     </p>\\n     \\n     <p>\\n     The signatures for the release can be found in\\n     <a href=\"https://gist.github.com/derickr/4cec1996b1110f6127b51b90d9426bf9\">the\\n     manifest</a> or on <a href=\"https://qa.php.net/\">the QA site</a>.\\n     </p>\\n     \\n     <p>Thank you for helping us make PHP better.</p>\\n    </div>\\n  \\n  </div>\\n</article><article class=\"newsentry\">\\n  <header class=\"title\">\\n    <time datetime=\"2019-08-01T19:19:53+00:00\">01 Aug 2019</time>\\n    <h2 class=\"newstitle\">\\n      <a href=\"https://www.php.net/archive/2019.php#2019-08-01-3\" id=\"2019-08-01-3\">PHP 7.1.31 Released</a>\\n    </h2>\\n  </header>\\n  <div class=\"newscontent\">\\n    <div>\\n       <p>The PHP development team announces the immediate availability of PHP\\n       7.1.31. This is a security release.</p>\\n     \\n       <p>All PHP 7.1 users are encouraged to upgrade to this version.</p>\\n     \\n       <p>For source downloads of PHP 7.1.31 please visit our <a href=\"http://www.php.net/downloads.php\">downloads page</a>,\\n       Windows source and binaries can be found on <a href=\"http://windows.php.net/download/\">windows.php.net/download/</a>.\\n       The list of changes is recorded in the <a href=\"http://www.php.net/ChangeLog-7.php#7.1.31\">ChangeLog</a>.\\n       </p>\\n    </div>\\n  \\n  </div>\\n</article><article class=\"newsentry\">\\n  <header class=\"title\">\\n    <time datetime=\"2019-07-25T09:39:51+00:00\">25 Jul 2019</time>\\n    <h2 class=\"newstitle\">\\n      <a href=\"https://www.php.net/archive/2019.php#2019-07-25-1\" id=\"2019-07-25-1\">PHP 7.4.0beta1 released!</a>\\n    </h2>\\n  </header>\\n  <div class=\"newscontent\">\\n    <div>\\n     <p>\\n     The PHP team is glad to announce the first beta release of PHP 7.4: PHP\\n     7.4.0beta1. This continues the PHP 7.4 release cycle, the rough outline of\\n     which is specified in the <a href=\"https://wiki.php.net/todo/php74\">PHP\\n     Wiki</a>.\\n     </p>\\n     \\n     <p>\\n     For source downloads of PHP 7.4.0beta1 please visit the\\n     <a href=\"https://downloads.php.net/~derick\">download page</a>.\\n     </p>\\n     \\n     <p>\\n     Please carefully test this version and report any issues found in the <a href=\"http://bugs.php.net\">bug reporting system</a>.\\n     </p>\\n     \\n     <p>\\n     <b>Please DO NOT use this version in production, it is an early test\\n     version.</b>\\n     </p>\\n     \\n     <p>\\n     For more information on the new features and other changes, you can read the\\n     <a href=\"https://github.com/php/php-src/blob/php-7.4.0beta1/NEWS\">NEWS</a>\\n     file, or the\\n     <a href=\"https://github.com/php/php-src/blob/php-7.4.0beta1/UPGRADING\">UPGRADING</a>\\n     file for a complete list of upgrading notes. These files can also be found in\\n     the release archive.\\n     </p>\\n     \\n     <p>\\n     The next release would be <b>Beta 2</b>, planned for August 8th.\\n     </p>\\n     \\n     <p>\\n     The signatures for the release can be found in\\n     <a href=\"https://gist.github.com/derickr/6062a94c900289397130deb562ed17e1\">the\\n     manifest</a> or on <a href=\"https://qa.php.net/\">the QA site</a>.\\n     </p>\\n     \\n     <p>Thank you for helping us make PHP better.</p>\\n    </div>\\n  \\n  </div>\\n</article><article class=\"newsentry\">\\n  <header class=\"title\">\\n    <time datetime=\"2019-07-11T10:15:12+00:00\">11 Jul 2019</time>\\n    <h2 class=\"newstitle\">\\n      <a href=\"https://www.php.net/archive/2019.php#2019-07-11-1\" id=\"2019-07-11-1\">PHP 7.4.0 alpha 3 Released</a>\\n    </h2>\\n  </header>\\n  <div class=\"newscontent\">\\n    <div>\\n     <p>\\n     PHP team is glad to announce the release of the third PHP 7.4.0 version, PHP\\n     7.4.0 Alpha 3. This continues the PHP 7.4 release cycle, the rough outline of\\n     which is specified in the <a href=\"https://wiki.php.net/todo/php74\">PHP\\n     Wiki</a>.\\n     </p>\\n     \\n     <p>For source downloads of PHP 7.4.0 Alpha 3 please visit the <a href=\"https://downloads.php.net/~derick\">download page</a>.</p>\\n     \\n     <p>\\n     Please carefully test this version and report any issues found in the <a href=\"http://bugs.php.net\">bug reporting system</a>.\\n     </p>\\n     \\n     <p>\\n     <b>Please DO NOT use this version in production, it is an early test\\n     version.</b>\\n     </p>\\n     \\n     <p>\\n      For more information on the new features and other changes, you can read the\\n      <a href=\"https://github.com/php/php-src/blob/php-7.4.0alpha3/NEWS\">NEWS</a> file,\\n      or the <a href=\"https://github.com/php/php-src/blob/php-7.4.0alpha3/UPGRADING\">UPGRADING</a>\\n      file for a complete list of upgrading notes. These files can also be found in the release archive.\\n     </p>\\n     \\n     <p>\\n     The next release would be <b>Beta 1</b>, planned for July 25th.\\n     </p>\\n     \\n     <p>The signatures for the release can be found in <a href=\"https://gist.github.com/derickr/dc86e4edfedf69bd121026cbf3db8643\">the\\n     manifest</a> or on <a href=\"https://qa.php.net/\">the QA site</a>. </p>\\n     \\n     <p>Thank you for helping us make PHP better.</p>\\n    </div>\\n  \\n  </div>\\n</article><article class=\"newsentry\">\\n  <header class=\"title\">\\n    <time datetime=\"2019-06-26T23:34:49+00:00\">26 Jun 2019</time>\\n    <h2 class=\"newstitle\">\\n      <a href=\"https://www.php.net/archive/2019.php#id2019-06-26-1\" id=\"id2019-06-26-1\">PHP 7.4.0 alpha 2 Released</a>\\n    </h2>\\n  </header>\\n  <div class=\"newscontent\">\\n    <div>\\n     <p>\\n     PHP team is glad to announce the release of the second PHP 7.4.0 version, PHP 7.4.0 Alpha 2.\\n     This continues the PHP 7.4 release cycle, the rough outline of which is specified in the\\n     <a href=\"https://wiki.php.net/todo/php74\">PHP Wiki</a>.\\n     </p>\\n     \\n     <p>For source downloads of PHP 7.4.0 Alpha 2 please visit the <a href=\"https://downloads.php.net/~derick\">download page</a>.</p>\\n     \\n     <p>\\n     Please carefully test this version and report any issues found in the <a href=\"http://bugs.php.net\">bug reporting system</a>.\\n     </p>\\n     \\n     <p>\\n     <b>Please DO NOT use this version in production, it is an early test version.</b>\\n     </p>\\n     \\n     <p>\\n         For more information on the new features and other changes, you can read the\\n         <a href=\"https://github.com/php/php-src/blob/php-7.4.0alpha2/NEWS\">NEWS</a> file,\\n         or the <a href=\"https://github.com/php/php-src/blob/php-7.4.0alpha2/UPGRADING\">UPGRADING</a>\\n         file for a complete list of upgrading notes. These files can also be found in the release archive.\\n     </p>\\n     \\n     <p>\\n     The next release would be Alpha 3, planned for July 11th.\\n     </p>\\n     \\n     <p>The signatures for the release can be found in <a href=\"https://gist.github.com/derickr/0cb88c72a785ae8642ae1d81cc2e96f8\">the manifest</a> or on <a href=\"https://qa.php.net/\">the\\n     QA site</a>.\\n     </p>\\n     \\n     <p>Thank you for helping us make PHP better.</p>\\n    </div>\\n  \\n  </div>\\n</article><article class=\"newsentry\">\\n  <header class=\"title\">\\n    <time datetime=\"2019-06-13T11:24:11+00:00\">13 Jun 2019</time>\\n    <h2 class=\"newstitle\">\\n      <a href=\"https://www.php.net/archive/2019.php#id2019-06-13-1\" id=\"id2019-06-13-1\">PHP 7.4.0 alpha 1 Released</a>\\n    </h2>\\n  </header>\\n  <div class=\"newscontent\">\\n    <div>\\n     <p>\\n     PHP team is glad to announce the release of the first PHP 7.4.0 version, PHP 7.4.0 Alpha 1.\\n     This starts the PHP 7.4 release cycle, the rough outline of which is specified in the\\n     <a href=\"https://wiki.php.net/todo/php74\">PHP Wiki</a>.\\n     </p>\\n     \\n     <p>For source downloads of PHP 7.4.0 Alpha 1 please visit the <a href=\"https://downloads.php.net/~derick\">download page</a>.</p>\\n     \\n     <p>\\n     Please carefully test this version and report any issues found in the <a href=\" http://bugs.php.net\">bug reporting system</a>.\\n     </p>\\n     \\n     <p>\\n     <b>Please DO NOT use this version in production, it is an early test version.</b>\\n     </p>\\n     \\n     <p>\\n         For more information on the new features and other changes, you can read the\\n         <a href=\"https://github.com/php/php-src/blob/php-7.4.0alpha1/NEWS\">NEWS</a> file,\\n         or the <a href=\"https://github.com/php/php-src/blob/php-7.4.0alpha1/UPGRADING\">UPGRADING</a>\\n         file for a complete list of upgrading notes. These files can also be found in the release archive.\\n     </p>\\n     \\n     <p>\\n     The next release would be Alpha 2, planned for June 27.\\n     </p>\\n     \\n     <p>The signatures for the release can be found in <a href=\"https://gist.github.com/derickr/000139654a28966ae0bb74560f51f2a7\">the manifest</a> or on <a href=\"https://qa.php.net/\">the\\n     QA site</a>.\\n     </p>\\n     \\n     <p>Thank you for helping us make PHP better.</p>\\n    </div>\\n  \\n  </div>\\n</article><article class=\"newsentry\">\\n  <header class=\"title\">\\n    <time datetime=\"2018-11-22T12:22:47+01:00\">22 Nov 2018</time>\\n    <h2 class=\"newstitle\">\\n      <a href=\"https://www.php.net/archive/2018.php#id2018-11-22-1\" id=\"id2018-11-22-1\">PHP 7.3.0RC6 Released</a>\\n    </h2>\\n  </header>\\n  <div class=\"newscontent\">\\n    <div>\\n      <p>\\n        The PHP team is glad to announce the presumably last PHP 7.3.0 pre-release, PHP 7.3.0RC6.\\n        The rough outline of the PHP 7.3 release cycle is specified in the\\n        <a href=\"https://wiki.php.net/todo/php73\">PHP Wiki</a>.\\n      </p>\\n\\n      <p>\\n        For source downloads of PHP 7.3.0RC6 please visit the <a href=\"https://downloads.php.net/~cmb/\">download page</a>.\\n        Windows sources and binaries can be found on <a href=\"https://windows.php.net/qa/\">windows.php.net/qa/</a>.\\n      </p>\\n\\n      <p>\\n        Please carefully test this version and report any issues found in the <a href=\" https://bugs.php.net\">bug reporting system</a>.\\n      </p>\\n\\n      <p>\\n        <b>THIS IS A DEVELOPMENT PREVIEW - DO NOT USE IT IN PRODUCTION!</b>\\n      </p>\\n\\n      <p>\\n        For more information on the new features and other changes, you can read the\\n        <a href=\"https://github.com/php/php-src/blob/php-7.3.0RC6/NEWS\">NEWS</a> file,\\n        or the <a href=\"https://github.com/php/php-src/blob/php-7.3.0RC6/UPGRADING\">UPGRADING</a>\\n        file for a complete list of upgrading notes. Internal changes are listed in the\\n        <a href=\"https://github.com/php/php-src/blob/php-7.3.0RC6/UPGRADING.INTERNALS\">UPGRADING.INTERNALS</a> file.\\n        These files can also be found in the release archive.\\n      </p>\\n\\n      <p>\\n        The next release would be 7.3.0 (GA), planned for December 6th.\\n      </p>\\n\\n      <p>\\n        The signatures for the release can be found in <a href=\"https://gist.github.com/cmb69/6d9574612d0fb78b8549e42ec096a5a6\">the manifest</a>\\n        or on <a href=\"https://qa.php.net/\">the QA site</a>.\\n      </p>\\n\\n      <p>\\n        Thank you for helping us make PHP better.\\n      </p>\\n    </div>\\n  \\n  </div>\\n</article><article class=\"newsentry\">\\n  <header class=\"title\">\\n    <time datetime=\"2018-11-08T11:11:26+01:00\">08 Nov 2018</time>\\n    <h2 class=\"newstitle\">\\n      <a href=\"https://www.php.net/archive/2018.php#id2018-11-08-1\" id=\"id2018-11-08-1\">PHP 7.3.0RC5 Released</a>\\n    </h2>\\n  </header>\\n  <div class=\"newscontent\">\\n    <div>\\n      <p>\\n        The PHP team is glad to announce the next PHP 7.3.0 pre-release, PHP 7.3.0RC5.\\n        The rough outline of the PHP 7.3 release cycle is specified in the\\n        <a href=\"https://wiki.php.net/todo/php73\">PHP Wiki</a>.\\n      </p>\\n\\n      <p>\\n        For source downloads of PHP 7.3.0RC5 please visit the <a href=\"https://downloads.php.net/~cmb/\">download page</a>.\\n        Windows sources and binaries can be found on <a href=\"https://windows.php.net/qa/\">windows.php.net/qa/</a>.\\n      </p>\\n\\n      <p>\\n        Please carefully test this version and report any issues found in the <a href=\" https://bugs.php.net\">bug reporting system</a>.\\n      </p>\\n\\n      <p>\\n        <b>THIS IS A DEVELOPMENT PREVIEW - DO NOT USE IT IN PRODUCTION!</b>\\n      </p>\\n\\n      <p>\\n        For more information on the new features and other changes, you can read the\\n        <a href=\"https://github.com/php/php-src/blob/php-7.3.0RC5/NEWS\">NEWS</a> file,\\n        or the <a href=\"https://github.com/php/php-src/blob/php-7.3.0RC5/UPGRADING\">UPGRADING</a>\\n        file for a complete list of upgrading notes. Internal changes are listed in the\\n        <a href=\"https://github.com/php/php-src/blob/php-7.3.0RC5/UPGRADING.INTERNALS\">UPGRADING.INTERNALS</a> file.\\n        These files can also be found in the release archive.\\n      </p>\\n\\n      <p>\\n        The next release would be RC6, planned for November 22nd.\\n      </p>\\n\\n      <p>\\n        The signatures for the release can be found in <a href=\"https://gist.github.com/cmb69/a14634afdd52b7f69d65d2bd5a79ac99\">the manifest</a>\\n        or on <a href=\"https://qa.php.net/\">the QA site</a>.\\n      </p>\\n\\n      <p>\\n        Thank you for helping us make PHP better.\\n      </p>\\n    </div>\\n  \\n  </div>\\n</article><article class=\"newsentry\">\\n  <header class=\"title\">\\n    <time datetime=\"2018-10-25T11:07:32+02:00\">25 Oct 2018</time>\\n    <h2 class=\"newstitle\">\\n      <a href=\"https://www.php.net/archive/2018.php#id2018-10-25-1\" id=\"id2018-10-25-1\">PHP 7.3.0RC4 Released</a>\\n    </h2>\\n  </header>\\n  <div class=\"newscontent\">\\n    <div>\\n      <p>\\n        The PHP team is glad to announce the next PHP 7.3.0 pre-release, PHP 7.3.0RC4.\\n        The rough outline of the PHP 7.3 release cycle is specified in the\\n        <a href=\"https://wiki.php.net/todo/php73\">PHP Wiki</a>.\\n      </p>\\n\\n      <p>\\n        For source downloads of PHP 7.3.0RC4 please visit the <a href=\"https://downloads.php.net/~cmb/\">download page</a>.\\n        Windows sources and binaries can be found on <a href=\"https://windows.php.net/qa/\">windows.php.net/qa/</a>.\\n      </p>\\n\\n      <p>\\n        Please carefully test this version and report any issues found in the <a href=\" https://bugs.php.net\">bug reporting system</a>.\\n      </p>\\n\\n      <p>\\n        <b>THIS IS A DEVELOPMENT PREVIEW - DO NOT USE IT IN PRODUCTION!</b>\\n      </p>\\n\\n      <p>\\n        For more information on the new features and other changes, you can read the\\n        <a href=\"https://github.com/php/php-src/blob/php-7.3.0RC4/NEWS\">NEWS</a> file,\\n        or the <a href=\"https://github.com/php/php-src/blob/php-7.3.0RC4/UPGRADING\">UPGRADING</a>\\n        file for a complete list of upgrading notes. Internal changes are listed in the\\n        <a href=\"https://github.com/php/php-src/blob/php-7.3.0RC4/UPGRADING.INTERNALS\">UPGRADING.INTERNALS</a> file.\\n        These files can also be found in the release archive.\\n      </p>\\n\\n      <p>\\n        The next release would be RC5, planned for November 8th.\\n      </p>\\n\\n      <p>\\n        The signatures for the release can be found in <a href=\"https://gist.github.com/cmb69/594d9a18290f1b019b2ba68a098413c6\">the manifest</a>\\n        or on <a href=\"https://qa.php.net/\">the QA site</a>.\\n      </p>\\n\\n      <p>\\n        Thank you for helping us make PHP better.\\n      </p>\\n    </div>\\n  \\n  </div>\\n</article><article class=\"newsentry\">\\n  <header class=\"title\">\\n    <time datetime=\"2018-10-11T13:47:50+02:00\">11 Oct 2018</time>\\n    <h2 class=\"newstitle\">\\n      <a href=\"https://www.php.net/archive/2018.php#id2018-10-11-1\" id=\"id2018-10-11-1\">PHP 7.3.0RC3 Released</a>\\n    </h2>\\n  </header>\\n  <div class=\"newscontent\">\\n    <div>\\n      <p>\\n        The PHP team is glad to announce the next PHP 7.3.0 pre-release, PHP 7.3.0RC3.\\n        The rough outline of the PHP 7.3 release cycle is specified in the\\n        <a href=\"https://wiki.php.net/todo/php73\">PHP Wiki</a>.\\n      </p>\\n\\n      <p>\\n        For source downloads of PHP 7.3.0RC3 please visit the <a href=\"https://downloads.php.net/~cmb/\">download page</a>.\\n        Windows sources and binaries can be found on <a href=\"https://windows.php.net/qa/\">windows.php.net/qa/</a>.\\n      </p>\\n\\n      <p>\\n        Please carefully test this version and report any issues found in the <a href=\" https://bugs.php.net\">bug reporting system</a>.\\n      </p>\\n\\n      <p>\\n        <b>THIS IS A DEVELOPMENT PREVIEW - DO NOT USE IT IN PRODUCTION!</b>\\n      </p>\\n\\n      <p>\\n        For more information on the new features and other changes, you can read the\\n        <a href=\"https://github.com/php/php-src/blob/php-7.3.0RC3/NEWS\">NEWS</a> file,\\n        or the <a href=\"https://github.com/php/php-src/blob/php-7.3.0RC3/UPGRADING\">UPGRADING</a>\\n        file for a complete list of upgrading notes. Internal changes are listed in the\\n        <a href=\"https://github.com/php/php-src/blob/php-7.3.0RC3/UPGRADING.INTERNALS\">UPGRADING.INTERNALS</a> file.\\n        These files can also be found in the release archive.\\n      </p>\\n\\n      <p>\\n        The next release would be RC4, planned for October 25th.\\n      </p>\\n\\n      <p>\\n        The signatures for the release can be found in <a href=\"https://gist.github.com/cmb69/3b521933b5524c92e880fc96559a5f5c\">the manifest</a>\\n        or on <a href=\"https://qa.php.net/\">the QA site</a>.\\n      </p>\\n\\n      <p>\\n        Thank you for helping us make PHP better.\\n      </p>\\n    </div>\\n  \\n  </div>\\n</article><article class=\"newsentry\">\\n  <header class=\"title\">\\n    <time datetime=\"2018-09-28T10:31:16+02:00\">28 Sep 2018</time>\\n    <h2 class=\"newstitle\">\\n      <a href=\"https://www.php.net/archive/2018.php#id2018-09-28-1\" id=\"id2018-09-28-1\">PHP 7.3.0RC2 Released</a>\\n    </h2>\\n  </header>\\n  <div class=\"newscontent\">\\n    <div>\\n      <p>\\n        The PHP team is glad to announce the next PHP 7.3.0 pre-release, PHP 7.3.0RC2.\\n        The rough outline of the PHP 7.3 release cycle is specified in the\\n        <a href=\"https://wiki.php.net/todo/php73\">PHP Wiki</a>.\\n      </p>\\n\\n      <p>\\n        For source downloads of PHP 7.3.0RC2 please visit the <a href=\"https://downloads.php.net/~cmb/\">download page</a>.\\n        Windows sources and binaries can be found on <a href=\"https://windows.php.net/qa/\">windows.php.net/qa/</a>.\\n      </p>\\n\\n      <p>\\n        Please carefully test this version and report any issues found in the <a href=\" https://bugs.php.net\">bug reporting system</a>.\\n      </p>\\n\\n      <p>\\n        <b>THIS IS A DEVELOPMENT PREVIEW - DO NOT USE IT IN PRODUCTION!</b>\\n      </p>\\n\\n      <p>\\n        For more information on the new features and other changes, you can read the\\n        <a href=\"https://github.com/php/php-src/blob/php-7.3.0RC2/NEWS\">NEWS</a> file,\\n        or the <a href=\"https://github.com/php/php-src/blob/php-7.3.0RC2/UPGRADING\">UPGRADING</a>\\n        file for a complete list of upgrading notes. Internal changes are listed in the\\n        <a href=\"https://github.com/php/php-src/blob/php-7.3.0RC2/UPGRADING.INTERNALS\">UPGRADING.INTERNALS</a> file.\\n        These files can also be found in the release archive.\\n      </p>\\n\\n      <p>\\n        The next release would be RC3, planned for October 11th.\\n      </p>\\n\\n      <p>\\n        The signatures for the release can be found in <a href=\"https://gist.github.com/cmb69/ffe9373d127254a19e73e73251e4ff7d\">the manifest</a>\\n        or on <a href=\"https://qa.php.net/\">the QA site</a>.\\n      </p>\\n\\n      <p>\\n        Thank you for helping us make PHP better.\\n      </p>\\n    </div>\\n  \\n  </div>\\n</article><article class=\"newsentry\">\\n  <header class=\"title\">\\n    <time datetime=\"2018-09-13T10:57:40+02:00\">13 Sep 2018</time>\\n    <h2 class=\"newstitle\">\\n      <a href=\"https://www.php.net/archive/2018.php#id2018-09-13-2\" id=\"id2018-09-13-2\">PHP 7.3.0RC1 Released</a>\\n    </h2>\\n  </header>\\n  <div class=\"newscontent\">\\n    <div>\\n      <p>\\n        The PHP team is glad to announce the release of the next PHP 7.3.0 pre-release, PHP 7.3.0RC1.\\n        The rough outline of the PHP 7.3 release cycle is specified in the\\n        <a href=\"https://wiki.php.net/todo/php73\">PHP Wiki</a>.\\n      </p>\\n\\n      <p>\\n        For source downloads of PHP 7.3.0RC1 please visit the <a href=\"https://downloads.php.net/~cmb/\">download page</a>.\\n        Windows sources and binaries can be found on <a href=\"https://windows.php.net/qa/\">windows.php.net/qa/</a>.\\n      </p>\\n\\n      <p>\\n        Please carefully test this version and report any issues found in the <a href=\" https://bugs.php.net\">bug reporting system</a>.\\n      </p>\\n\\n      <p>\\n        <b>THIS IS A DEVELOPMENT PREVIEW - DO NOT USE IT IN PRODUCTION!</b>\\n      </p>\\n\\n      <p>\\n        For more information on the new features and other changes, you can read the\\n        <a href=\"https://github.com/php/php-src/blob/php-7.3.0RC1/NEWS\">NEWS</a> file,\\n        or the <a href=\"https://github.com/php/php-src/blob/php-7.3.0RC1/UPGRADING\">UPGRADING</a>\\n        file for a complete list of upgrading notes. Internal changes are listed in the\\n        <a href=\"https://github.com/php/php-src/blob/php-7.3.0RC1/UPGRADING.INTERNALS\">UPGRADING.INTERNALS</a> file.\\n        These files can also be found in the release archive.\\n      </p>\\n\\n      <p>\\n        The next release would be RC2, planned for September 27th.\\n      </p>\\n\\n      <p>\\n        The signatures for the release can be found in <a href=\"https://gist.github.com/cmb69/224ae1ef28b1e3f2e0a62a4ab50966e4\">the manifest</a>\\n        or on <a href=\"https://qa.php.net/\">the QA site</a>.\\n      </p>\\n\\n      <p>\\n        Thank you for helping us make PHP better.\\n      </p>\\n    </div>\\n  \\n  </div>\\n</article><article class=\"newsentry\">\\n  <header class=\"title\">\\n    <time datetime=\"2018-08-30T17:37:34+02:00\">30 Aug 2018</time>\\n    <h2 class=\"newstitle\">\\n      <a href=\"https://www.php.net/archive/2018.php#id2018-08-30-1\" id=\"id2018-08-30-1\">PHP 7.3.0.beta3 Released</a>\\n    </h2>\\n  </header>\\n  <div class=\"newscontent\">\\n    <div>\\n      <p>\\n        The PHP team is glad to announce the release of the seventh PHP 7.3.0 version, PHP 7.3.0beta3.\\n        The rough outline of the PHP 7.3 release cycle is specified in the\\n        <a href=\"https://wiki.php.net/todo/php73\">PHP Wiki</a>.\\n      </p>\\n\\n      <p>\\n        For source downloads of PHP 7.3.0beta3 please visit the <a href=\"https://downloads.php.net/~cmb/\">download page</a>.\\n        Windows sources and binaries can be found on <a href=\"https://windows.php.net/qa/\">windows.php.net/qa/</a>.\\n      </p>\\n\\n      <p>\\n        Please carefully test this version and report any issues found in the <a href=\" https://bugs.php.net\">bug reporting system</a>.\\n      </p>\\n\\n      <p>\\n        <b>THIS IS A DEVELOPMENT PREVIEW - DO NOT USE IT IN PRODUCTION!</b>\\n      </p>\\n\\n      <p>\\n        For more information on the new features and other changes, you can read the\\n        <a href=\"https://github.com/php/php-src/blob/php-7.3.0beta3/NEWS\">NEWS</a> file,\\n        or the <a href=\"https://github.com/php/php-src/blob/php-7.3.0beta3/UPGRADING\">UPGRADING</a>\\n        file for a complete list of upgrading notes. Internal changes are listed in the\\n        <a href=\"https://github.com/php/php-src/blob/php-7.3.0beta3/UPGRADING.INTERNALS\">UPGRADING.INTERNALS</a> file.\\n        These files can also be found in the release archive.\\n      </p>\\n\\n      <p>\\n        The next release would be RC1, planned for September 13th.\\n      </p>\\n\\n      <p>\\n        The signatures for the release can be found in <a href=\"https://gist.github.com/cmb69/aeef8c8877a451ba6fce6f990dd3860b\">the manifest</a>\\n        or on <a href=\"https://qa.php.net/\">the QA site</a>.\\n      </p>\\n\\n      <p>\\n        Thank you for helping us make PHP better.\\n      </p>\\n    </div>\\n  \\n  </div>\\n</article><article class=\"newsentry\">\\n  <header class=\"title\">\\n    <time datetime=\"2018-08-16T14:11:38+02:00\">16 Aug 2018</time>\\n    <h2 class=\"newstitle\">\\n      <a href=\"https://www.php.net/archive/2018.php#id2018-08-16-1\" id=\"id2018-08-16-1\">PHP 7.3.0.beta2 Released</a>\\n    </h2>\\n  </header>\\n  <div class=\"newscontent\">\\n    <div>\\n      <p>\\n        The PHP team is glad to announce the release of the sixth PHP 7.3.0 version, PHP 7.3.0beta2.\\n        The rough outline of the PHP 7.3 release cycle is specified in the\\n        <a href=\"https://wiki.php.net/todo/php73\">PHP Wiki</a>.\\n      </p>\\n\\n      <p>\\n        For source downloads of PHP 7.3.0beta2 please visit the <a href=\"https://downloads.php.net/~cmb/\">download page</a>.\\n        Windows sources and binaries can be found on <a href=\"https://windows.php.net/qa/\">windows.php.net/qa/</a>.\\n      </p>\\n\\n      <p>\\n        Please carefully test this version and report any issues found in the <a href=\" https://bugs.php.net\">bug reporting system</a>.\\n      </p>\\n\\n      <p>\\n        <b>THIS IS A DEVELOPMENT PREVIEW - DO NOT USE IT IN PRODUCTION!</b>\\n      </p>\\n\\n      <p>\\n        For more information on the new features and other changes, you can read the\\n        <a href=\"https://github.com/php/php-src/blob/php-7.3.0beta2/NEWS\">NEWS</a> file,\\n        or the <a href=\"https://github.com/php/php-src/blob/php-7.3.0beta2/UPGRADING\">UPGRADING</a>\\n        file for a complete list of upgrading notes. Internal changes are listed in the\\n        <a href=\"https://github.com/php/php-src/blob/php-7.3.0beta2/UPGRADING.INTERNALS\">UPGRADING.INTERNALS</a> file.\\n        These files can also be found in the release archive.\\n      </p>\\n\\n      <p>\\n        The next release would be Beta 3, planned for August 30th.\\n      </p>\\n\\n      <p>\\n        The signatures for the release can be found in <a href=\"https://gist.github.com/cmb69/4bfd2f4d54ebc01cd37ba3dc86f1f814\">the manifest</a>\\n        or on <a href=\"https://qa.php.net/\">the QA site</a>.\\n      </p>\\n\\n      <p>\\n        Thank you for helping us make PHP better.\\n      </p>\\n    </div>\\n  \\n  </div>\\n</article><article class=\"newsentry\">\\n  <header class=\"title\">\\n    <time datetime=\"2018-08-02T11:44:58+02:00\">02 Aug 2018</time>\\n    <h2 class=\"newstitle\">\\n      <a href=\"https://www.php.net/archive/2018.php#id2018-08-02-1\" id=\"id2018-08-02-1\">PHP 7.3.0.beta1 Released</a>\\n    </h2>\\n  </header>\\n  <div class=\"newscontent\">\\n    <div>\\n      <p>\\n        The PHP team is glad to announce the release of the fifth PHP 7.3.0 version, PHP 7.3.0beta1.\\n        The rough outline of the PHP 7.3 release cycle is specified in the\\n        <a href=\"https://wiki.php.net/todo/php73\">PHP Wiki</a>.\\n      </p>\\n\\n      <p>\\n        For source downloads of PHP 7.3.0beta1 please visit the <a href=\"https://downloads.php.net/~cmb/\">download page</a>.\\n        Windows sources and binaries can be found on <a href=\"https://windows.php.net/qa/\">windows.php.net/qa/</a>.\\n      </p>\\n\\n      <p>\\n        Please carefully test this version and report any issues found in the <a href=\" https://bugs.php.net\">bug reporting system</a>.\\n      </p>\\n\\n      <p>\\n        <b>THIS IS A DEVELOPMENT PREVIEW - DO NOT USE IT IN PRODUCTION!</b>\\n      </p>\\n\\n      <p>\\n        For more information on the new features and other changes, you can read the\\n        <a href=\"https://github.com/php/php-src/blob/php-7.3.0beta1/NEWS\">NEWS</a> file,\\n        or the <a href=\"https://github.com/php/php-src/blob/php-7.3.0beta1/UPGRADING\">UPGRADING</a>\\n        file for a complete list of upgrading notes. These files can also be found in the release archive.\\n      </p>\\n\\n      <p>\\n        The next release would be Beta 2, planned for August 16th.\\n      </p>\\n\\n      <p>\\n        The signatures for the release can be found in <a href=\"https://gist.github.com/cmb69/e666c3f1622321f868de9282bee67e43\">the manifest</a>\\n        or on <a href=\"https://qa.php.net/\">the QA site</a>.\\n      </p>\\n\\n      <p>\\n        Thank you for helping us make PHP better.\\n      </p>\\n\\n    </div>\\n  \\n  </div>\\n</article><article class=\"newsentry\">\\n  <header class=\"title\">\\n    <time datetime=\"2018-07-19T11:02:21+02:00\">19 Jul 2018</time>\\n    <h2 class=\"newstitle\">\\n      <a href=\"https://www.php.net/archive/2018.php#id2018-07-19-1\" id=\"id2018-07-19-1\">PHP 7.3.0alpha4 Released</a>\\n    </h2>\\n  </header>\\n  <div class=\"newscontent\">\\n    <div>\\n      <p>\\n        The PHP team is glad to announce the release of the fourth PHP 7.3.0 version, PHP 7.3.0alpha4.\\n        The rough outline of the PHP 7.3 release cycle is specified in the\\n        <a href=\"https://wiki.php.net/todo/php73\">PHP Wiki</a>.\\n      </p>\\n\\n      <p>\\n        For source downloads of PHP 7.3.0alpha4 please visit the <a href=\"https://downloads.php.net/~cmb/\">download page</a>.\\n        Windows sources and binaries can be found on <a href=\"https://windows.php.net/qa/\">windows.php.net/qa/</a>.\\n      </p>\\n\\n      <p>\\n        Please carefully test this version and report any issues found in the <a href=\" https://bugs.php.net\">bug reporting system</a>.\\n      </p>\\n\\n      <p>\\n        <b>THIS IS A DEVELOPMENT PREVIEW - DO NOT USE IT IN PRODUCTION!</b>\\n      </p>\\n\\n      <p>\\n        For more information on the new features and other changes, you can read the\\n        <a href=\"https://github.com/php/php-src/blob/php-7.3.0alpha4/NEWS\">NEWS</a> file,\\n        or the <a href=\"https://github.com/php/php-src/blob/php-7.3.0alpha4/UPGRADING\">UPGRADING</a>\\n        file for a complete list of upgrading notes. These files can also be found in the release archive.\\n      </p>\\n\\n      <p>\\n        The next release would be Beta 1, planned for August 2nd.\\n      </p>\\n\\n      <p>\\n        The signatures for the release can be found in <a href=\"https://gist.github.com/cmb69/b30366855341382046687ce7adb20f69\">the manifest</a> or on <a href=\"https://qa.php.net/\">the QA site</a>.\\n      </p>\\n\\n      <p>\\n        Thank you for helping us make PHP better.\\n      </p>\\n    </div>\\n  \\n  </div>\\n</article><article class=\"newsentry\">\\n  <header class=\"title\">\\n    <time datetime=\"2018-07-05T11:41:41+02:00\">05 Jul 2018</time>\\n    <h2 class=\"newstitle\">\\n      <a href=\"https://www.php.net/archive/2018.php#id2018-07-05-1\" id=\"id2018-07-05-1\">PHP 7.3.0 alpha 3 Released</a>\\n    </h2>\\n  </header>\\n  <div class=\"newscontent\">\\n    <div>\\n     <p>\\n      The PHP team is glad to announce the release of the third PHP 7.3.0 version, PHP 7.3.0 Alpha 3.\\n      The rough outline of the PHP 7.3 release cycle is specified in the\\n      <a href=\"https://wiki.php.net/todo/php73\">PHP Wiki</a>.\\n     </p>\\n\\n     <p>\\n      For source downloads of PHP 7.3.0 Alpha 3 please visit the <a href=\"https://downloads.php.net/~cmb/\">download page</a>.\\n      Windows sources and binaries can be found on <a href=\"https://windows.php.net/qa/\">windows.php.net/qa/</a>.\\n     </p>\\n\\n     <p>\\n      Please carefully test this version and report any issues found in the <a href=\" http://bugs.php.net\">bug reporting system</a>.\\n     </p>\\n\\n     <p>\\n      <b>THIS IS A DEVELOPMENT PREVIEW - DO NOT USE IT IN PRODUCTION!</b>\\n     </p>\\n\\n     <p>\\n      For more information on the new features and other changes, you can read the\\n      <a href=\"https://github.com/php/php-src/blob/php-7.3.0alpha3/NEWS\">NEWS</a> file,\\n      or the <a href=\"https://github.com/php/php-src/blob/php-7.3.0alpha3/UPGRADING\">UPGRADING</a>\\n      file for a complete list of upgrading notes. These files can also be found in the release archive.\\n     </p>\\n\\n     <p>\\n      The next release would be Beta 1, planned for July 19th.\\n     </p>\\n\\n     <p>\\n      The signatures for the release can be found in <a href=\"https://gist.github.com/cmb69/e2e76ac0072474b019b0c9f1aef249f1\">the manifest</a> or on <a href=\"https://qa.php.net/\">the QA site</a>.\\n     </p>\\n\\n     <p>\\n      Thank you for helping us make PHP better.\\n     </p>\\n    </div>\\n  \\n  </div>\\n</article><article class=\"newsentry\">\\n  <header class=\"title\">\\n    <time datetime=\"2018-06-21T11:46:20+02:00\">21 Jun 2018</time>\\n    <h2 class=\"newstitle\">\\n      <a href=\"https://www.php.net/archive/2018.php#id2018-06-21-1\" id=\"id2018-06-21-1\">PHP 7.3.0 alpha 2 Released</a>\\n    </h2>\\n  </header>\\n  <div class=\"newscontent\">\\n    <div>\\n     <p>\\n      The PHP team is glad to announce the release of the second PHP 7.3.0 version, PHP 7.3.0 Alpha 2.\\n      The rough outline of the PHP 7.3 release cycle is specified in the\\n      <a href=\"https://wiki.php.net/todo/php73\">PHP Wiki</a>.\\n     </p>\\n\\n     <p>\\n      For source downloads of PHP 7.3.0 Alpha 2 please visit the <a href=\"https://downloads.php.net/~cmb/\">download page</a>.\\n      Windows sources and binaries can be found on <a href=\"https://windows.php.net/qa/\">windows.php.net/qa/</a>.\\n     </p>\\n\\n     <p>\\n      Please carefully test this version and report any issues found in the <a href=\" http://bugs.php.net\">bug reporting system</a>.\\n     </p>\\n\\n     <p>\\n      <b>THIS IS A DEVELOPMENT PREVIEW - DO NOT USE IT IN PRODUCTION!</b>\\n     </p>\\n\\n     <p>\\n      For more information on the new features and other changes, you can read the\\n      <a href=\"https://github.com/php/php-src/blob/php-7.3.0alpha2/NEWS\">NEWS</a> file,\\n      or the <a href=\"https://github.com/php/php-src/blob/php-7.3.0alpha2/UPGRADING\">UPGRADING</a>\\n      file for a complete list of upgrading notes. These files can also be found in the release archive.\\n     </p>\\n\\n     <p>\\n      The next release would be Alpha 3, planned for July 5.\\n     </p>\\n\\n     <p>\\n      The signatures for the release can be found in <a href=\"https://gist.github.com/cmb69/2c54d0972b296a905062f52c0852e7cb\">the manifest</a> or on <a href=\"https://qa.php.net/\">the QA site</a>.\\n     </p>\\n\\n     <p>\\n      Thank you for helping us make PHP better.\\n     </p>\\n    </div>\\n  \\n  </div>\\n</article><article class=\"newsentry\">\\n  <header class=\"title\">\\n    <time datetime=\"2018-06-07T18:36:37+00:00\">07 Jun 2018</time>\\n    <h2 class=\"newstitle\">\\n      <a href=\"https://www.php.net/archive/2018.php#id2018-06-07-1\" id=\"id2018-06-07-1\">PHP 7.3.0 alpha 1 Released</a>\\n    </h2>\\n  </header>\\n  <div class=\"newscontent\">\\n    <div>\\n     <p>\\n     PHP team is glad to announce the release of the first PHP 7.3.0 version, PHP 7.3.0 Alpha 1.\\n\\t This starts the PHP 7.3 release cycle, the rough outline of which is specified in the\\n\\t <a href=\"https://wiki.php.net/todo/php73\">PHP Wiki</a>.\\n     </p>\\n\\n     <p>For source downloads of PHP 7.3.0 Alpha 1 please visit the <a href=\"https://downloads.php.net/~stas/\">download page</a>.</p>\\n\\n     <p>\\n     Please carefully test this version and report any issues found in the <a href=\" http://bugs.php.net\">bug reporting system</a>.\\n     </p>\\n\\n     <p>\\n     <b>Please DO NOT use this version in production, it is an early test version.</b>\\n     </p>\\n\\n     <p>\\n\\t     For more information on the new features and other changes, you can read the\\n\\t     <a href=\"https://github.com/php/php-src/blob/php-7.3.0alpha1/NEWS\">NEWS</a> file,\\n\\t     or the <a href=\"https://github.com/php/php-src/blob/php-7.3.0alpha1/UPGRADING\">UPGRADING</a>\\n\\t     file for a complete list of upgrading notes. These files can also be found in the release archive.\\n\\t </p>\\n\\n     <p>\\n     The next release would be Alpha 2, planned for June 21.\\n     </p>\\n\\n     <p>The signatures for the release can be found in <a href=\"https://gist.github.com/smalyshev/b0994d4dd138007237911429702ee040\">the manifest</a> or on <a href=\"https://qa.php.net/\">the QA site</a>.\\n     </p>\\n\\n     <p>Thank you for helping us make PHP better.</p>\\n    </div>\\n  \\n  </div>\\n</article><article class=\"newsentry\">\\n  <header class=\"title\">\\n    <time datetime=\"2018-02-01T09:12:34+00:00\">01 Feb 2018</time>\\n    <h2 class=\"newstitle\">\\n      <a href=\"https://www.php.net/archive/2018.php#id2018-02-01-1\" id=\"id2018-02-01-1\">PHP 7.2.2 Released</a>\\n    </h2>\\n  </header>\\n  <div class=\"newscontent\">\\n    <div>\\n      <p>The PHP development team announces the immediate availability of PHP\\n      7.2.2. This is a bugfix release, with several bug fixes included.</p>\\n\\n      <p>All PHP 7.2 users are encouraged to upgrade to this version.</p>\\n\\n      <p>For source downloads of PHP 7.2.2 please visit our <a href=\"http://www.php.net/downloads.php\">downloads page</a>,\\n      Windows source and binaries can be found on <a href=\"http://windows.php.net/download/\">windows.php.net/download/</a>.\\n      The list of changes is recorded in the <a href=\"http://www.php.net/ChangeLog-7.php#7.2.2\">ChangeLog</a>.\\n      </p>\\n    </div>\\n  \\n  </div>\\n</article><article class=\"newsentry\">\\n  <header class=\"title\">\\n    <time datetime=\"2017-10-12T11:46:49+02:00\">12 Oct 2017</time>\\n    <h2 class=\"newstitle\">\\n      <a href=\"https://www.php.net/archive/2017.php#id2017-10-12-1\" id=\"id2017-10-12-1\">PHP 7.2.0 Release Candidate 4 Released</a>\\n    </h2>\\n  </header>\\n  <div class=\"newscontent\">\\n    <div>\\n     <p>\\n     The PHP development team announces the immediate availability of PHP 7.2.0 RC4.\\n     This release is the fourth Release Candidate for 7.2.0.\\n     All users of PHP are encouraged to test this version carefully, and report any bugs\\n     and incompatibilities in the <a href=\"https://bugs.php.net/\">bug tracking system</a>.\\n     </p>\\n\\n     <p><strong>THIS IS A DEVELOPMENT PREVIEW - DO NOT USE IT IN PRODUCTION!</strong></p>\\n\\n     <p>\\n     For more information on the new features and other changes, you can read the\\n     <a href=\"https://github.com/php/php-src/blob/php-7.2.0RC4/NEWS\">NEWS</a> file,\\n     or the <a href=\"https://github.com/php/php-src/blob/php-7.2.0RC4/UPGRADING\">UPGRADING</a>\\n     file for a complete list of upgrading notes. These files can also be found in the release archive.\\n     </p>\\n\\n     <p>\\n     For source downloads of PHP 7.2.0 Release Candidate 4 please visit the\\n     <a href=\"https://downloads.php.net/~remi/\">download</a> page,\\n     Windows sources and binaries can be found at\\n     <a href=\"http://windows.php.net/qa/\">windows.php.net/qa/</a>.\\n     </p>\\n\\n     <p>\\n     The next Release Candidate will be announced on the 26th of October.\\n     You can also read the full list of planned releases on\\n     <a href=\"https://wiki.php.net/todo/php72\">our wiki</a>.\\n     </p>\\n\\n     <p>Thank you for helping us make PHP better.</p>\\n    </div>\\n  \\n  </div>\\n</article><article class=\"newsentry\">\\n  <header class=\"title\">\\n    <time datetime=\"2017-09-28T12:58:56+02:00\">28 Sep 2017</time>\\n    <h2 class=\"newstitle\">\\n      <a href=\"https://www.php.net/archive/2017.php#id2017-09-28-2\" id=\"id2017-09-28-2\">PHP 7.2.0 Release Candidate 3 Released</a>\\n    </h2>\\n  </header>\\n  <div class=\"newscontent\">\\n    <div>\\n     <p>\\n     The PHP development team announces the immediate availability of PHP 7.2.0 RC3.\\n     This release is the third Release Candidate for 7.2.0.\\n     All users of PHP are encouraged to test this version carefully, and report any bugs\\n     and incompatibilities in the <a href=\"https://bugs.php.net/\">bug tracking system</a>.\\n     </p>\\n\\n     <p><strong>THIS IS A DEVELOPMENT PREVIEW - DO NOT USE IT IN PRODUCTION!</strong></p>\\n\\n     <p>\\n     For more information on the new features and other changes, you can read the\\n     <a href=\"https://github.com/php/php-src/blob/php-7.2.0RC3/NEWS\">NEWS</a> file,\\n     or the <a href=\"https://github.com/php/php-src/blob/php-7.2.0RC3/UPGRADING\">UPGRADING</a>\\n     file for a complete list of upgrading notes. These files can also be found in the release archive.\\n     </p>\\n\\n     <p>\\n     For source downloads of PHP 7.2.0 Release Candidate 3 please visit the\\n     <a href=\"https://downloads.php.net/~remi/\">download</a> page,\\n     Windows sources and binaries can be found at\\n     <a href=\"http://windows.php.net/qa/\">windows.php.net/qa/</a>.\\n     </p>\\n\\n     <p>\\n     The next Release Candidate will be announced on the 12th of October.\\n     You can also read the full list of planned releases on\\n     <a href=\"https://wiki.php.net/todo/php72\">our wiki</a>.\\n     </p>\\n\\n     <p>Thank you for helping us make PHP better.</p>\\n    </div>\\n  \\n  </div>\\n</article><article class=\"newsentry\">\\n  <header class=\"title\">\\n    <time datetime=\"2017-08-31T10:53:58+02:00\">31 Aug 2017</time>\\n    <h2 class=\"newstitle\">\\n      <a href=\"https://www.php.net/archive/2017.php#id2017-08-31-1\" id=\"id2017-08-31-1\">PHP 7.2.0 Release Candidate 1 Released</a>\\n    </h2>\\n  </header>\\n  <div class=\"newscontent\">\\n    <div>\\n      <p>\\n      The PHP development team announces the immediate availability of PHP 7.2.0 Release\\n      Candidate 1. This release is the first Release Candidate for 7.2.0.\\n      All users of PHP are encouraged to test this version carefully, and report any bugs\\n      and incompatibilities in the <a href=\"https://bugs.php.net/\">bug tracking system</a>.\\n      </p>\\n\\n      <p><strong>THIS IS A DEVELOPMENT PREVIEW - DO NOT USE IT IN PRODUCTION!</strong></p>\\n\\n      <p>\\n      For more information on the new features and other changes, you can read the\\n      <a href=\"https://github.com/php/php-src/blob/php-7.2.0RC1/NEWS\">NEWS</a> file,\\n      or the <a href=\"https://github.com/php/php-src/blob/php-7.2.0RC1/UPGRADING\">UPGRADING</a>\\n      file for a complete list of upgrading notes. These files can also be found in the release archive.\\n      </p>\\n\\n      <p>\\n      For source downloads of PHP 7.2.0 Release Candidate 1 please visit the\\n      <a href=\"https://downloads.php.net/~remi/\">download</a> page,\\n      Windows sources and binaries can be found at\\n      <a href=\"http://windows.php.net/qa/\">windows.php.net/qa/</a>.\\n      </p>\\n\\n      <p>\\n      The second Release Candidate will be released on the 14th of September.\\n      You can also read the full list of planned releases on\\n      <a href=\"https://wiki.php.net/todo/php72\">our wiki</a>.\\n      </p>\\n\\n      <p>Thank you for helping us make PHP better.</p>\\n    </div>\\n  \\n  </div>\\n</article><article class=\"newsentry\">\\n  <header class=\"title\">\\n    <time datetime=\"2017-08-17T10:17:44+02:00\">17 Aug 2017</time>\\n    <h2 class=\"newstitle\">\\n      <a href=\"https://www.php.net/archive/2017.php#id2017-08-17-1\" id=\"id2017-08-17-1\">PHP 7.2.0 Beta 3 Released</a>\\n    </h2>\\n  </header>\\n  <div class=\"newscontent\">\\n    <div>\\n      <p>\\n      The PHP development team announces the immediate availability of PHP 7.2.0 Beta 3.\\n      This release is the third and final beta for 7.2.0. All users of PHP are encouraged\\n      to test this version carefully, and report any bugs and incompatibilities in the\\n      <a href=\"https://bugs.php.net/\">bug tracking system</a>.\\n      </p>\\n\\n      <p><strong>THIS IS A DEVELOPMENT PREVIEW - DO NOT USE IT IN PRODUCTION!</strong></p>\\n\\n      <p>\\n      For more information on the new features and other changes, you can read the\\n      <a href=\"https://github.com/php/php-src/blob/php-7.2.0beta3/NEWS\">NEWS</a> file,\\n      or the <a href=\"https://github.com/php/php-src/blob/php-7.2.0beta3/UPGRADING\">UPGRADING</a>\\n      file for a complete list of upgrading notes. These files can also be found in the release archive.\\n      </p>\\n\\n      <p>\\n      For source downloads of PHP 7.2.0 Beta 3 please visit the\\n      <a href=\"https://downloads.php.net/~remi/\">download</a> page,\\n      Windows sources and binaries can be found at\\n      <a href=\"http://windows.php.net/qa/\">windows.php.net/qa/</a>.\\n      </p>\\n\\n      <p>\\n      The first Release Candidate will be released on the 31th of August.\\n      You can also read the full list of planned releases on\\n      <a href=\"https://wiki.php.net/todo/php72\">our wiki</a>.\\n      </p>\\n\\n      <p>Thank you for helping us make PHP better.</p>\\n    </div>\\n  \\n  </div>\\n</article><article class=\"newsentry\">\\n  <header class=\"title\">\\n    <time datetime=\"2017-07-06T12:25:08+02:00\">06 Jul 2017</time>\\n    <h2 class=\"newstitle\">\\n      <a href=\"https://www.php.net/archive/2017.php#id2017-07-06-2\" id=\"id2017-07-06-2\">PHP 7.2.0 Alpha 3 Released</a>\\n    </h2>\\n  </header>\\n  <div class=\"newscontent\">\\n    <div>\\n     <p>The PHP development team announces the immediate availability of PHP 7.2.0 Alpha 3.\\n     This release contains fixes and improvements relative to Alpha 2.\\n     All users of PHP are encouraged to test this version carefully,\\n     and report any bugs and incompatibilities in the\\n     <a href=\"https://bugs.php.net/\">bug tracking system</a>.</p>\\n\\n     <p><strong>THIS IS A DEVELOPMENT PREVIEW - DO NOT USE IT IN PRODUCTION!</strong></p>\\n\\n     <p>For information on new features and other changes, you can read the\\n     <a href=\"https://github.com/php/php-src/blob/php-7.2.0alpha3/NEWS\">NEWS</a> file,\\n     or the <a href=\"https://github.com/php/php-src/blob/php-7.2.0alpha3/UPGRADING\">UPGRADING</a> file\\n     for a complete list of upgrading notes. These files can also be found in the release archive.</p>\\n\\n     <p>For source downloads of PHP 7.2.0 Alpha 3 please visit the <a href=\"https://downloads.php.net/~remi/\">download</a> page,\\n     Windows sources and binaries can be found on <a href=\"http://windows.php.net/qa/\">windows.php.net/qa/</a>.</p>\\n\\n     <p>The first beta will be released on the 20th of July. You can also read the full list of planned releases on our\\n     <a href=\"https://wiki.php.net/todo/php72#timetable\">wiki</a>.</p>\\n\\n     <p>Thank you for helping us make PHP better.</p>\\n    </div>\\n  \\n  </div>\\n</article><p class=\"archive\"><a href=\"/archive/\">Older News Entries</a></p></div>    </section><!-- layout-content -->\\n    \\n<aside class=\"tips\">\\n    <div class=\"inner\">\\n<div class=\"panel\">  <a href=\"/conferences\" class=\"headline\" title=\"Upcoming conferences\">Upcoming conferences</a><div class=\"body\"><ul><li><a href=\\'https://www.php.net/conferences/index.php#id2019-10-02-1\\' title=\\'PHP UK Conference 2020\\'>PHP UK Conference 2020</a></li><li><a href=\\'https://www.php.net/conferences/index.php#id2019-09-17-1\\' title=\\'Bulgaria PHP Conference 2019\\'>Bulgaria PHP Conference 2019</a></li><li><a href=\\'https://www.php.net/conferences/index.php#id2019-08-08-2\\' title=\\'PHP Conference Japan 2019\\'>PHP Conference Japan 2019</a></li><li><a href=\\'https://www.php.net/conferences/index.php#id2019-07-31-2\\' title=\\'PHP fwdays\\'20\\'>PHP fwdays\\'20</a></li></ul></div></div>\\n    <p class=\\'panel\\'><a href=\\'/cal.php\\'>User Group Events</a></p>\\n    <p class=\\'panel\\'><a href=\\'/thanks.php\\'>Special Thanks</a></p>\\n    <p class=\\'panel social-media\\'>\\n      <span class=\\'headline\\'>Social media</span>\\n      <div class=\\'body\\'>\\n        <ul>\\n          <li>\\n            <a href=\"https://twitter.com/official_php\">\\n              <i class=\"icon-twitter\"></i>\\n              @official_php\\n            </a>\\n          </li>\\n        </ul>\\n      </div>\\n    </p>\\n</div>\\n</aside>\\n\\n  </div><!-- layout -->\\n\\n  <footer>\\n    <div class=\"container footer-content\">\\n      <div class=\"row-fluid\">\\n      <ul class=\"footmenu\">\\n        <li><a href=\"/copyright.php\">Copyright &copy; 2001-2019 The PHP Group</a></li>\\n        <li><a href=\"/my.php\">My PHP.net</a></li>\\n        <li><a href=\"/contact.php\">Contact</a></li>\\n        <li><a href=\"/sites.php\">Other PHP.net sites</a></li>\\n        <li><a href=\"/privacy.php\">Privacy policy</a></li>\\n      </ul>\\n      </div>\\n    </div>\\n  </footer>\\n\\n    <div class=\\'elephpants\\'><div class=images></div></div>\\n <!-- External and third party libraries. -->\\n <script src=\"//ajax.googleapis.com/ajax/libs/jquery/1.10.2/jquery.min.js\"></script>\\n<script src=\"/cached.php?t=1421837618&amp;f=/js/ext/modernizr.js\"></script>\\n<script src=\"/cached.php?t=1421837618&amp;f=/js/ext/hogan-2.0.0.min.js\"></script>\\n<script src=\"/cached.php?t=1421837618&amp;f=/js/ext/typeahead.min.js\"></script>\\n<script src=\"/cached.php?t=1421837618&amp;f=/js/ext/mousetrap.min.js\"></script>\\n<script src=\"/cached.php?t=1421837618&amp;f=/js/search.js\"></script>\\n<script src=\"/cached.php?t=1539765004&amp;f=/js/common.js\"></script>\\n\\n<a id=\"toTop\" href=\"javascript:;\"><span id=\"toTopHover\"></span><img width=\"40\" height=\"40\" alt=\"To Top\" src=\"/images/to-top@2x.png\"></a>\\n\\n</body>\\n</html>\\n'\n"
     ]
    }
   ],
   "source": [
    "import nltk\n",
    "import urllib.request\n",
    "response = urllib.request.urlopen('http://php.net/')\n",
    "html = response.read()\n",
    "print (html)"
   ]
  },
  {
   "cell_type": "markdown",
   "metadata": {},
   "source": [
    "the result contains a lot of HTML tags that need to be cleaned. We can use BeautifulSoup to clean the grabbed text like this:"
   ]
  },
  {
   "cell_type": "code",
   "execution_count": 2,
   "metadata": {},
   "outputs": [
    {
     "name": "stdout",
     "output_type": "stream",
     "text": [
      "PHP: Hypertext PreprocessorDownloadsDocumentationGet InvolvedHelpGetting StartedIntroductionA simple tutorialLanguage ReferenceBasic syntaxTypesVariablesConstantsExpressionsOperatorsControl StructuresFunctionsClasses and ObjectsNamespacesErrorsExceptionsGeneratorsReferences ExplainedPredefined VariablesPredefined ExceptionsPredefined Interfaces and ClassesContext options and parametersSupported Protocols and WrappersSecurityIntroductionGeneral considerationsInstalled as CGI binaryInstalled as an Apache moduleSession SecurityFilesystem SecurityDatabase SecurityError ReportingUsing Register GlobalsUser Submitted DataMagic QuotesHiding PHPKeeping CurrentFeaturesHTTP authentication with PHPCookiesSessionsDealing with XFormsHandling file uploadsUsing remote filesConnection handlingPersistent Database ConnectionsSafe ModeCommand line usageGarbage CollectionDTrace Dynamic TracingFunction ReferenceAffecting PHP's BehaviourAudio Formats ManipulationAuthentication ServicesCommand Line Specific ExtensionsCompression and Archive ExtensionsCredit Card ProcessingCryptography ExtensionsDatabase ExtensionsDate and Time Related ExtensionsFile System Related ExtensionsHuman Language and Character Encoding SupportImage Processing and GenerationMail Related ExtensionsMathematical ExtensionsNon-Text MIME OutputProcess Control ExtensionsOther Basic ExtensionsOther ServicesSearch Engine ExtensionsServer Specific ExtensionsSession ExtensionsText ProcessingVariable and Type Related ExtensionsWeb ServicesWindows Only ExtensionsXML ManipulationGUI ExtensionsKeyboard Shortcuts?This helpjNext menu itemkPrevious menu itemg pPrevious man pageg nNext man pageGScroll to bottomg gScroll to topg hGoto homepageg sGoto search(current page)/Focus search boxPHP is a popular general-purpose scripting language that is especially suited to web development.Fast, flexible and pragmatic, PHP powers everything from your blog to the most popular websites in the world.Download7.1.32·Release Notes·Upgrading7.2.23·Release Notes·Upgrading7.3.10·Release Notes·Upgrading03 Oct 2019PHP 7.4.0RC3 Released!The PHP team is glad to announce the third release candidate of PHP 7.4:\n",
      "     PHP 7.4.0RC3. This continues the PHP 7.4 release cycle, the rough outline of\n",
      "     which is specified in thePHP\n",
      "     Wiki.Please DO NOT use this version in production, it is an early test\n",
      "     version.For source downloads of PHP 7.4.0RC3 please visit thedownload page.Please carefully test this version and report any issues found in thebug reporting system.For more information on the new features and other changes, you can read theNEWSfile, or theUPGRADINGfile for a complete list of upgrading notes. These files can also be found in\n",
      "     the release archive.The next release would be7.4.0RC4, planned for October 17th.The signatures for the release can be found inthe\n",
      "     manifestor onthe QA site.Thank you for helping us make PHP better.26 Sep 2019PHP 7.2.23 Release AnnouncementThe PHP development team announces the immediate availability of PHP\n",
      "       7.2.23. This is a bugfix release.For source downloads of PHP 7.2.23 please visit ourdownloads page,\n",
      "       Windows source and binaries can be found onwindows.php.net/download/.\n",
      "       The list of changes is recorded in theChangeLog.26 Sep 2019PHP 7.3.10 ReleasedThe PHP development team announces the immediate availability of PHP\n",
      "      7.3.10. This is a security release which also contains several bug fixes.All PHP 7.3 users are encouraged to upgrade to this version.For source downloads of PHP 7.3.10 please visit ourdownloads page,\n",
      "      Windows source and binaries can be found onwindows.php.net/download/.\n",
      "      The list of changes is recorded in theChangeLog.19 Sep 2019PHP 7.4.0RC2 Released!The PHP team is glad to announce the second release candidate of PHP 7.4:\n",
      "     PHP 7.4.0RC2. This continues the PHP 7.4 release cycle, the rough outline of\n",
      "     which is specified in thePHP\n",
      "     Wiki.Please DO NOT use this version in production, it is an early test\n",
      "     version.For source downloads of PHP 7.4.0RC2 please visit thedownload page.Please carefully test this version and report any issues found in thebug reporting system.For more information on the new features and other changes, you can read theNEWSfile, or theUPGRADINGfile for a complete list of upgrading notes. These files can also be found in\n",
      "     the release archive.The next release would be7.4.0RC3, planned for October 3rd.The signatures for the release can be found inthe\n",
      "     manifestor onthe QA site.Thank you for helping us make PHP better.05 Sep 2019PHP 7.4.0RC1 Released!The PHP team is glad to announce the first release candidate of PHP 7.4:\n",
      "     PHP 7.4.0RC1. This continues the PHP 7.4 release cycle, the rough outline of\n",
      "     which is specified in thePHP\n",
      "     Wiki.Please DO NOT use this version in production, it is an early test\n",
      "     version.For source downloads of PHP 7.4.0RC1 please visit thedownload page.Please carefully test this version and report any issues found in thebug reporting system.For more information on the new features and other changes, you can read theNEWSfile, or theUPGRADINGfile for a complete list of upgrading notes. These files can also be found in\n",
      "     the release archive.The next release would be7.4.0RC2, planned for September 19th.The signatures for the release can be found inthe\n",
      "     manifestor onthe QA site.Thank you for helping us make PHP better.30 Aug 2019PHP 7.1.32 ReleasedThe PHP development team announces the immediate availability of PHP\n",
      "       7.1.32. This is a security release.All PHP 7.1 users are encouraged to upgrade to this version.For source downloads of PHP 7.1.32 please visit ourdownloads page,\n",
      "       Windows source and binaries can be found onwindows.php.net/download/.\n",
      "       The list of changes is recorded in theChangeLog.29 Aug 2019PHP 7.2.22 ReleasedThe PHP development team announces the immediate availability of PHP\n",
      "       7.2.22. This is a security release which also contains several bug fixes.All PHP 7.2 users are encouraged to upgrade to this version.For source downloads of PHP 7.2.22 please visit ourdownloads page,\n",
      "       Windows source and binaries can be found onwindows.php.net/download/.\n",
      "       The list of changes is recorded in theChangeLog.29 Aug 2019PHP 7.3.9 Release AnnouncementThe PHP development team announces the immediate availability of PHP\n",
      "      7.3.9. This is a security release which also contains several bug fixes.All PHP 7.3 users are encouraged to upgrade to this version.For source downloads of PHP 7.3.9 please visit ourdownloads page,\n",
      "      Windows source and binaries can be found onwindows.php.net/download/.\n",
      "      The list of changes is recorded in theChangeLog.22 Aug 2019PHP 7.4.0beta4 released!The PHP team is glad to announce the third and last beta release of PHP 7.4:\n",
      "     PHP 7.4.0beta4. This continues the PHP 7.4 release cycle, the rough outline of\n",
      "     which is specified in thePHP\n",
      "     Wiki.For source downloads of PHP 7.4.0beta4 please visit thedownload page.Please carefully test this version and report any issues found in thebug reporting system.Please DO NOT use this version in production, it is an early test\n",
      "     version.For more information on the new features and other changes, you can read theNEWSfile, or theUPGRADINGfile for a complete list of upgrading notes. These files can also be found in\n",
      "     the release archive.The next release would beRC 1, planned for September 5th.The signatures for the release can be found inthe\n",
      "     manifestor onthe QA site.Thank you for helping us make PHP better.08 Aug 2019PHP 7.4.0beta2 released!The PHP team is glad to announce the second beta release of PHP 7.4: PHP\n",
      "     7.4.0beta2. This continues the PHP 7.4 release cycle, the rough outline of\n",
      "     which is specified in thePHP\n",
      "     Wiki.For source downloads of PHP 7.4.0beta2 please visit thedownload page.Please carefully test this version and report any issues found in thebug reporting system.Please DO NOT use this version in production, it is an early test\n",
      "     version.For more information on the new features and other changes, you can read theNEWSfile, or theUPGRADINGfile for a complete list of upgrading notes. These files can also be found in\n",
      "     the release archive.The next release would beBeta 3, planned for August 22nd.The signatures for the release can be found inthe\n",
      "     manifestor onthe QA site.Thank you for helping us make PHP better.01 Aug 2019PHP 7.1.31 ReleasedThe PHP development team announces the immediate availability of PHP\n",
      "       7.1.31. This is a security release.All PHP 7.1 users are encouraged to upgrade to this version.For source downloads of PHP 7.1.31 please visit ourdownloads page,\n",
      "       Windows source and binaries can be found onwindows.php.net/download/.\n",
      "       The list of changes is recorded in theChangeLog.25 Jul 2019PHP 7.4.0beta1 released!The PHP team is glad to announce the first beta release of PHP 7.4: PHP\n",
      "     7.4.0beta1. This continues the PHP 7.4 release cycle, the rough outline of\n",
      "     which is specified in thePHP\n",
      "     Wiki.For source downloads of PHP 7.4.0beta1 please visit thedownload page.Please carefully test this version and report any issues found in thebug reporting system.Please DO NOT use this version in production, it is an early test\n",
      "     version.For more information on the new features and other changes, you can read theNEWSfile, or theUPGRADINGfile for a complete list of upgrading notes. These files can also be found in\n",
      "     the release archive.The next release would beBeta 2, planned for August 8th.The signatures for the release can be found inthe\n",
      "     manifestor onthe QA site.Thank you for helping us make PHP better.11 Jul 2019PHP 7.4.0 alpha 3 ReleasedPHP team is glad to announce the release of the third PHP 7.4.0 version, PHP\n",
      "     7.4.0 Alpha 3. This continues the PHP 7.4 release cycle, the rough outline of\n",
      "     which is specified in thePHP\n",
      "     Wiki.For source downloads of PHP 7.4.0 Alpha 3 please visit thedownload page.Please carefully test this version and report any issues found in thebug reporting system.Please DO NOT use this version in production, it is an early test\n",
      "     version.For more information on the new features and other changes, you can read theNEWSfile,\n",
      "      or theUPGRADINGfile for a complete list of upgrading notes. These files can also be found in the release archive.The next release would beBeta 1, planned for July 25th.The signatures for the release can be found inthe\n",
      "     manifestor onthe QA site.Thank you for helping us make PHP better.26 Jun 2019PHP 7.4.0 alpha 2 ReleasedPHP team is glad to announce the release of the second PHP 7.4.0 version, PHP 7.4.0 Alpha 2.\n",
      "     This continues the PHP 7.4 release cycle, the rough outline of which is specified in thePHP Wiki.For source downloads of PHP 7.4.0 Alpha 2 please visit thedownload page.Please carefully test this version and report any issues found in thebug reporting system.Please DO NOT use this version in production, it is an early test version.For more information on the new features and other changes, you can read theNEWSfile,\n",
      "         or theUPGRADINGfile for a complete list of upgrading notes. These files can also be found in the release archive.The next release would be Alpha 3, planned for July 11th.The signatures for the release can be found inthe manifestor onthe\n",
      "     QA site.Thank you for helping us make PHP better.13 Jun 2019PHP 7.4.0 alpha 1 ReleasedPHP team is glad to announce the release of the first PHP 7.4.0 version, PHP 7.4.0 Alpha 1.\n",
      "     This starts the PHP 7.4 release cycle, the rough outline of which is specified in thePHP Wiki.For source downloads of PHP 7.4.0 Alpha 1 please visit thedownload page.Please carefully test this version and report any issues found in thebug reporting system.Please DO NOT use this version in production, it is an early test version.For more information on the new features and other changes, you can read theNEWSfile,\n",
      "         or theUPGRADINGfile for a complete list of upgrading notes. These files can also be found in the release archive.The next release would be Alpha 2, planned for June 27.The signatures for the release can be found inthe manifestor onthe\n",
      "     QA site.Thank you for helping us make PHP better.22 Nov 2018PHP 7.3.0RC6 ReleasedThe PHP team is glad to announce the presumably last PHP 7.3.0 pre-release, PHP 7.3.0RC6.\n",
      "        The rough outline of the PHP 7.3 release cycle is specified in thePHP Wiki.For source downloads of PHP 7.3.0RC6 please visit thedownload page.\n",
      "        Windows sources and binaries can be found onwindows.php.net/qa/.Please carefully test this version and report any issues found in thebug reporting system.THIS IS A DEVELOPMENT PREVIEW - DO NOT USE IT IN PRODUCTION!For more information on the new features and other changes, you can read theNEWSfile,\n",
      "        or theUPGRADINGfile for a complete list of upgrading notes. Internal changes are listed in theUPGRADING.INTERNALSfile.\n",
      "        These files can also be found in the release archive.The next release would be 7.3.0 (GA), planned for December 6th.The signatures for the release can be found inthe manifestor onthe QA site.Thank you for helping us make PHP better.08 Nov 2018PHP 7.3.0RC5 ReleasedThe PHP team is glad to announce the next PHP 7.3.0 pre-release, PHP 7.3.0RC5.\n",
      "        The rough outline of the PHP 7.3 release cycle is specified in thePHP Wiki.For source downloads of PHP 7.3.0RC5 please visit thedownload page.\n",
      "        Windows sources and binaries can be found onwindows.php.net/qa/.Please carefully test this version and report any issues found in thebug reporting system.THIS IS A DEVELOPMENT PREVIEW - DO NOT USE IT IN PRODUCTION!For more information on the new features and other changes, you can read theNEWSfile,\n",
      "        or theUPGRADINGfile for a complete list of upgrading notes. Internal changes are listed in theUPGRADING.INTERNALSfile.\n",
      "        These files can also be found in the release archive.The next release would be RC6, planned for November 22nd.The signatures for the release can be found inthe manifestor onthe QA site.Thank you for helping us make PHP better.25 Oct 2018PHP 7.3.0RC4 ReleasedThe PHP team is glad to announce the next PHP 7.3.0 pre-release, PHP 7.3.0RC4.\n",
      "        The rough outline of the PHP 7.3 release cycle is specified in thePHP Wiki.For source downloads of PHP 7.3.0RC4 please visit thedownload page.\n",
      "        Windows sources and binaries can be found onwindows.php.net/qa/.Please carefully test this version and report any issues found in thebug reporting system.THIS IS A DEVELOPMENT PREVIEW - DO NOT USE IT IN PRODUCTION!For more information on the new features and other changes, you can read theNEWSfile,\n",
      "        or theUPGRADINGfile for a complete list of upgrading notes. Internal changes are listed in theUPGRADING.INTERNALSfile.\n",
      "        These files can also be found in the release archive.The next release would be RC5, planned for November 8th.The signatures for the release can be found inthe manifestor onthe QA site.Thank you for helping us make PHP better.11 Oct 2018PHP 7.3.0RC3 ReleasedThe PHP team is glad to announce the next PHP 7.3.0 pre-release, PHP 7.3.0RC3.\n",
      "        The rough outline of the PHP 7.3 release cycle is specified in thePHP Wiki.For source downloads of PHP 7.3.0RC3 please visit thedownload page.\n",
      "        Windows sources and binaries can be found onwindows.php.net/qa/.Please carefully test this version and report any issues found in thebug reporting system.THIS IS A DEVELOPMENT PREVIEW - DO NOT USE IT IN PRODUCTION!For more information on the new features and other changes, you can read theNEWSfile,\n",
      "        or theUPGRADINGfile for a complete list of upgrading notes. Internal changes are listed in theUPGRADING.INTERNALSfile.\n",
      "        These files can also be found in the release archive.The next release would be RC4, planned for October 25th.The signatures for the release can be found inthe manifestor onthe QA site.Thank you for helping us make PHP better.28 Sep 2018PHP 7.3.0RC2 ReleasedThe PHP team is glad to announce the next PHP 7.3.0 pre-release, PHP 7.3.0RC2.\n",
      "        The rough outline of the PHP 7.3 release cycle is specified in thePHP Wiki.For source downloads of PHP 7.3.0RC2 please visit thedownload page.\n",
      "        Windows sources and binaries can be found onwindows.php.net/qa/.Please carefully test this version and report any issues found in thebug reporting system.THIS IS A DEVELOPMENT PREVIEW - DO NOT USE IT IN PRODUCTION!For more information on the new features and other changes, you can read theNEWSfile,\n",
      "        or theUPGRADINGfile for a complete list of upgrading notes. Internal changes are listed in theUPGRADING.INTERNALSfile.\n",
      "        These files can also be found in the release archive.The next release would be RC3, planned for October 11th.The signatures for the release can be found inthe manifestor onthe QA site.Thank you for helping us make PHP better.13 Sep 2018PHP 7.3.0RC1 ReleasedThe PHP team is glad to announce the release of the next PHP 7.3.0 pre-release, PHP 7.3.0RC1.\n",
      "        The rough outline of the PHP 7.3 release cycle is specified in thePHP Wiki.For source downloads of PHP 7.3.0RC1 please visit thedownload page.\n",
      "        Windows sources and binaries can be found onwindows.php.net/qa/.Please carefully test this version and report any issues found in thebug reporting system.THIS IS A DEVELOPMENT PREVIEW - DO NOT USE IT IN PRODUCTION!For more information on the new features and other changes, you can read theNEWSfile,\n",
      "        or theUPGRADINGfile for a complete list of upgrading notes. Internal changes are listed in theUPGRADING.INTERNALSfile.\n",
      "        These files can also be found in the release archive.The next release would be RC2, planned for September 27th.The signatures for the release can be found inthe manifestor onthe QA site.Thank you for helping us make PHP better.30 Aug 2018PHP 7.3.0.beta3 ReleasedThe PHP team is glad to announce the release of the seventh PHP 7.3.0 version, PHP 7.3.0beta3.\n",
      "        The rough outline of the PHP 7.3 release cycle is specified in thePHP Wiki.For source downloads of PHP 7.3.0beta3 please visit thedownload page.\n",
      "        Windows sources and binaries can be found onwindows.php.net/qa/.Please carefully test this version and report any issues found in thebug reporting system.THIS IS A DEVELOPMENT PREVIEW - DO NOT USE IT IN PRODUCTION!For more information on the new features and other changes, you can read theNEWSfile,\n",
      "        or theUPGRADINGfile for a complete list of upgrading notes. Internal changes are listed in theUPGRADING.INTERNALSfile.\n",
      "        These files can also be found in the release archive.The next release would be RC1, planned for September 13th.The signatures for the release can be found inthe manifestor onthe QA site.Thank you for helping us make PHP better.16 Aug 2018PHP 7.3.0.beta2 ReleasedThe PHP team is glad to announce the release of the sixth PHP 7.3.0 version, PHP 7.3.0beta2.\n",
      "        The rough outline of the PHP 7.3 release cycle is specified in thePHP Wiki.For source downloads of PHP 7.3.0beta2 please visit thedownload page.\n",
      "        Windows sources and binaries can be found onwindows.php.net/qa/.Please carefully test this version and report any issues found in thebug reporting system.THIS IS A DEVELOPMENT PREVIEW - DO NOT USE IT IN PRODUCTION!For more information on the new features and other changes, you can read theNEWSfile,\n",
      "        or theUPGRADINGfile for a complete list of upgrading notes. Internal changes are listed in theUPGRADING.INTERNALSfile.\n",
      "        These files can also be found in the release archive.The next release would be Beta 3, planned for August 30th.The signatures for the release can be found inthe manifestor onthe QA site.Thank you for helping us make PHP better.02 Aug 2018PHP 7.3.0.beta1 ReleasedThe PHP team is glad to announce the release of the fifth PHP 7.3.0 version, PHP 7.3.0beta1.\n",
      "        The rough outline of the PHP 7.3 release cycle is specified in thePHP Wiki.For source downloads of PHP 7.3.0beta1 please visit thedownload page.\n",
      "        Windows sources and binaries can be found onwindows.php.net/qa/.Please carefully test this version and report any issues found in thebug reporting system.THIS IS A DEVELOPMENT PREVIEW - DO NOT USE IT IN PRODUCTION!For more information on the new features and other changes, you can read theNEWSfile,\n",
      "        or theUPGRADINGfile for a complete list of upgrading notes. These files can also be found in the release archive.The next release would be Beta 2, planned for August 16th.The signatures for the release can be found inthe manifestor onthe QA site.Thank you for helping us make PHP better.19 Jul 2018PHP 7.3.0alpha4 ReleasedThe PHP team is glad to announce the release of the fourth PHP 7.3.0 version, PHP 7.3.0alpha4.\n",
      "        The rough outline of the PHP 7.3 release cycle is specified in thePHP Wiki.For source downloads of PHP 7.3.0alpha4 please visit thedownload page.\n",
      "        Windows sources and binaries can be found onwindows.php.net/qa/.Please carefully test this version and report any issues found in thebug reporting system.THIS IS A DEVELOPMENT PREVIEW - DO NOT USE IT IN PRODUCTION!For more information on the new features and other changes, you can read theNEWSfile,\n",
      "        or theUPGRADINGfile for a complete list of upgrading notes. These files can also be found in the release archive.The next release would be Beta 1, planned for August 2nd.The signatures for the release can be found inthe manifestor onthe QA site.Thank you for helping us make PHP better.05 Jul 2018PHP 7.3.0 alpha 3 ReleasedThe PHP team is glad to announce the release of the third PHP 7.3.0 version, PHP 7.3.0 Alpha 3.\n",
      "      The rough outline of the PHP 7.3 release cycle is specified in thePHP Wiki.For source downloads of PHP 7.3.0 Alpha 3 please visit thedownload page.\n",
      "      Windows sources and binaries can be found onwindows.php.net/qa/.Please carefully test this version and report any issues found in thebug reporting system.THIS IS A DEVELOPMENT PREVIEW - DO NOT USE IT IN PRODUCTION!For more information on the new features and other changes, you can read theNEWSfile,\n",
      "      or theUPGRADINGfile for a complete list of upgrading notes. These files can also be found in the release archive.The next release would be Beta 1, planned for July 19th.The signatures for the release can be found inthe manifestor onthe QA site.Thank you for helping us make PHP better.21 Jun 2018PHP 7.3.0 alpha 2 ReleasedThe PHP team is glad to announce the release of the second PHP 7.3.0 version, PHP 7.3.0 Alpha 2.\n",
      "      The rough outline of the PHP 7.3 release cycle is specified in thePHP Wiki.For source downloads of PHP 7.3.0 Alpha 2 please visit thedownload page.\n",
      "      Windows sources and binaries can be found onwindows.php.net/qa/.Please carefully test this version and report any issues found in thebug reporting system.THIS IS A DEVELOPMENT PREVIEW - DO NOT USE IT IN PRODUCTION!For more information on the new features and other changes, you can read theNEWSfile,\n",
      "      or theUPGRADINGfile for a complete list of upgrading notes. These files can also be found in the release archive.The next release would be Alpha 3, planned for July 5.The signatures for the release can be found inthe manifestor onthe QA site.Thank you for helping us make PHP better.07 Jun 2018PHP 7.3.0 alpha 1 ReleasedPHP team is glad to announce the release of the first PHP 7.3.0 version, PHP 7.3.0 Alpha 1.\n",
      "\t This starts the PHP 7.3 release cycle, the rough outline of which is specified in thePHP Wiki.For source downloads of PHP 7.3.0 Alpha 1 please visit thedownload page.Please carefully test this version and report any issues found in thebug reporting system.Please DO NOT use this version in production, it is an early test version.For more information on the new features and other changes, you can read theNEWSfile,\n",
      "\t     or theUPGRADINGfile for a complete list of upgrading notes. These files can also be found in the release archive.The next release would be Alpha 2, planned for June 21.The signatures for the release can be found inthe manifestor onthe QA site.Thank you for helping us make PHP better.01 Feb 2018PHP 7.2.2 ReleasedThe PHP development team announces the immediate availability of PHP\n",
      "      7.2.2. This is a bugfix release, with several bug fixes included.All PHP 7.2 users are encouraged to upgrade to this version.For source downloads of PHP 7.2.2 please visit ourdownloads page,\n",
      "      Windows source and binaries can be found onwindows.php.net/download/.\n",
      "      The list of changes is recorded in theChangeLog.12 Oct 2017PHP 7.2.0 Release Candidate 4 ReleasedThe PHP development team announces the immediate availability of PHP 7.2.0 RC4.\n",
      "     This release is the fourth Release Candidate for 7.2.0.\n",
      "     All users of PHP are encouraged to test this version carefully, and report any bugs\n",
      "     and incompatibilities in thebug tracking system.THIS IS A DEVELOPMENT PREVIEW - DO NOT USE IT IN PRODUCTION!For more information on the new features and other changes, you can read theNEWSfile,\n",
      "     or theUPGRADINGfile for a complete list of upgrading notes. These files can also be found in the release archive.For source downloads of PHP 7.2.0 Release Candidate 4 please visit thedownloadpage,\n",
      "     Windows sources and binaries can be found atwindows.php.net/qa/.The next Release Candidate will be announced on the 26th of October.\n",
      "     You can also read the full list of planned releases onour wiki.Thank you for helping us make PHP better.28 Sep 2017PHP 7.2.0 Release Candidate 3 ReleasedThe PHP development team announces the immediate availability of PHP 7.2.0 RC3.\n",
      "     This release is the third Release Candidate for 7.2.0.\n",
      "     All users of PHP are encouraged to test this version carefully, and report any bugs\n",
      "     and incompatibilities in thebug tracking system.THIS IS A DEVELOPMENT PREVIEW - DO NOT USE IT IN PRODUCTION!For more information on the new features and other changes, you can read theNEWSfile,\n",
      "     or theUPGRADINGfile for a complete list of upgrading notes. These files can also be found in the release archive.For source downloads of PHP 7.2.0 Release Candidate 3 please visit thedownloadpage,\n",
      "     Windows sources and binaries can be found atwindows.php.net/qa/.The next Release Candidate will be announced on the 12th of October.\n",
      "     You can also read the full list of planned releases onour wiki.Thank you for helping us make PHP better.31 Aug 2017PHP 7.2.0 Release Candidate 1 ReleasedThe PHP development team announces the immediate availability of PHP 7.2.0 Release\n",
      "      Candidate 1. This release is the first Release Candidate for 7.2.0.\n",
      "      All users of PHP are encouraged to test this version carefully, and report any bugs\n",
      "      and incompatibilities in thebug tracking system.THIS IS A DEVELOPMENT PREVIEW - DO NOT USE IT IN PRODUCTION!For more information on the new features and other changes, you can read theNEWSfile,\n",
      "      or theUPGRADINGfile for a complete list of upgrading notes. These files can also be found in the release archive.For source downloads of PHP 7.2.0 Release Candidate 1 please visit thedownloadpage,\n",
      "      Windows sources and binaries can be found atwindows.php.net/qa/.The second Release Candidate will be released on the 14th of September.\n",
      "      You can also read the full list of planned releases onour wiki.Thank you for helping us make PHP better.17 Aug 2017PHP 7.2.0 Beta 3 ReleasedThe PHP development team announces the immediate availability of PHP 7.2.0 Beta 3.\n",
      "      This release is the third and final beta for 7.2.0. All users of PHP are encouraged\n",
      "      to test this version carefully, and report any bugs and incompatibilities in thebug tracking system.THIS IS A DEVELOPMENT PREVIEW - DO NOT USE IT IN PRODUCTION!For more information on the new features and other changes, you can read theNEWSfile,\n",
      "      or theUPGRADINGfile for a complete list of upgrading notes. These files can also be found in the release archive.For source downloads of PHP 7.2.0 Beta 3 please visit thedownloadpage,\n",
      "      Windows sources and binaries can be found atwindows.php.net/qa/.The first Release Candidate will be released on the 31th of August.\n",
      "      You can also read the full list of planned releases onour wiki.Thank you for helping us make PHP better.06 Jul 2017PHP 7.2.0 Alpha 3 ReleasedThe PHP development team announces the immediate availability of PHP 7.2.0 Alpha 3.\n",
      "     This release contains fixes and improvements relative to Alpha 2.\n",
      "     All users of PHP are encouraged to test this version carefully,\n",
      "     and report any bugs and incompatibilities in thebug tracking system.THIS IS A DEVELOPMENT PREVIEW - DO NOT USE IT IN PRODUCTION!For information on new features and other changes, you can read theNEWSfile,\n",
      "     or theUPGRADINGfile\n",
      "     for a complete list of upgrading notes. These files can also be found in the release archive.For source downloads of PHP 7.2.0 Alpha 3 please visit thedownloadpage,\n",
      "     Windows sources and binaries can be found onwindows.php.net/qa/.The first beta will be released on the 20th of July. You can also read the full list of planned releases on ourwiki.Thank you for helping us make PHP better.Older News EntriesUpcoming conferencesPHP UK Conference 2020Bulgaria PHP Conference 2019PHP Conference Japan 2019PHP fwdays'20User Group EventsSpecial ThanksSocial media@official_phpCopyright © 2001-2019 The PHP GroupMy PHP.netContactOther PHP.net sitesPrivacy policy\n"
     ]
    }
   ],
   "source": [
    "from bs4 import BeautifulSoup\n",
    "'''\n",
    "Beautiful Soup is a Python package for parsing HTML and XML documents \n",
    "including having malformed markup, i.e. non-closed tags, so named after tag soup).\n",
    "It creates a parse tree for parsed pages that can be used to extract data from HTML,\n",
    "which is useful for web scraping.\n",
    "'''\n",
    "import urllib.request \n",
    "response = urllib.request.urlopen('http://php.net/') \n",
    "html = response.read()\n",
    "#soup = BeautifulSoup(html,\"html5lib\")\n",
    "soup = BeautifulSoup(html,\"html.parser\")\n",
    "text = soup.get_text(strip=True)\n",
    "print (text)"
   ]
  },
  {
   "cell_type": "markdown",
   "metadata": {},
   "source": [
    "let's convert that text into tokens by splitting the text like this:"
   ]
  },
  {
   "cell_type": "code",
   "execution_count": 3,
   "metadata": {},
   "outputs": [
    {
     "name": "stdout",
     "output_type": "stream",
     "text": [
      "['PHP:', 'Hypertext', 'PreprocessorDownloadsDocumentationGet', 'InvolvedHelpGetting', 'StartedIntroductionA', 'simple', 'tutorialLanguage', 'ReferenceBasic', 'syntaxTypesVariablesConstantsExpressionsOperatorsControl', 'StructuresFunctionsClasses', 'and', 'ObjectsNamespacesErrorsExceptionsGeneratorsReferences', 'ExplainedPredefined', 'VariablesPredefined', 'ExceptionsPredefined', 'Interfaces', 'and', 'ClassesContext', 'options', 'and', 'parametersSupported', 'Protocols', 'and', 'WrappersSecurityIntroductionGeneral', 'considerationsInstalled', 'as', 'CGI', 'binaryInstalled', 'as', 'an', 'Apache', 'moduleSession', 'SecurityFilesystem', 'SecurityDatabase', 'SecurityError', 'ReportingUsing', 'Register', 'GlobalsUser', 'Submitted', 'DataMagic', 'QuotesHiding', 'PHPKeeping', 'CurrentFeaturesHTTP', 'authentication', 'with', 'PHPCookiesSessionsDealing', 'with', 'XFormsHandling', 'file', 'uploadsUsing', 'remote', 'filesConnection', 'handlingPersistent', 'Database', 'ConnectionsSafe', 'ModeCommand', 'line', 'usageGarbage', 'CollectionDTrace', 'Dynamic', 'TracingFunction', 'ReferenceAffecting', \"PHP's\", 'BehaviourAudio', 'Formats', 'ManipulationAuthentication', 'ServicesCommand', 'Line', 'Specific', 'ExtensionsCompression', 'and', 'Archive', 'ExtensionsCredit', 'Card', 'ProcessingCryptography', 'ExtensionsDatabase', 'ExtensionsDate', 'and', 'Time', 'Related', 'ExtensionsFile', 'System', 'Related', 'ExtensionsHuman', 'Language', 'and', 'Character', 'Encoding', 'SupportImage', 'Processing', 'and', 'GenerationMail', 'Related', 'ExtensionsMathematical', 'ExtensionsNon-Text', 'MIME', 'OutputProcess', 'Control', 'ExtensionsOther', 'Basic', 'ExtensionsOther', 'ServicesSearch', 'Engine', 'ExtensionsServer', 'Specific', 'ExtensionsSession', 'ExtensionsText', 'ProcessingVariable', 'and', 'Type', 'Related', 'ExtensionsWeb', 'ServicesWindows', 'Only', 'ExtensionsXML', 'ManipulationGUI', 'ExtensionsKeyboard', 'Shortcuts?This', 'helpjNext', 'menu', 'itemkPrevious', 'menu', 'itemg', 'pPrevious', 'man', 'pageg', 'nNext', 'man', 'pageGScroll', 'to', 'bottomg', 'gScroll', 'to', 'topg', 'hGoto', 'homepageg', 'sGoto', 'search(current', 'page)/Focus', 'search', 'boxPHP', 'is', 'a', 'popular', 'general-purpose', 'scripting', 'language', 'that', 'is', 'especially', 'suited', 'to', 'web', 'development.Fast,', 'flexible', 'and', 'pragmatic,', 'PHP', 'powers', 'everything', 'from', 'your', 'blog', 'to', 'the', 'most', 'popular', 'websites', 'in', 'the', 'world.Download7.1.32·Release', 'Notes·Upgrading7.2.23·Release', 'Notes·Upgrading7.3.10·Release', 'Notes·Upgrading03', 'Oct', '2019PHP', '7.4.0RC3', 'Released!The', 'PHP', 'team', 'is', 'glad', 'to', 'announce', 'the', 'third', 'release', 'candidate', 'of', 'PHP', '7.4:', 'PHP', '7.4.0RC3.', 'This', 'continues', 'the', 'PHP', '7.4', 'release', 'cycle,', 'the', 'rough', 'outline', 'of', 'which', 'is', 'specified', 'in', 'thePHP', 'Wiki.Please', 'DO', 'NOT', 'use', 'this', 'version', 'in', 'production,', 'it', 'is', 'an', 'early', 'test', 'version.For', 'source', 'downloads', 'of', 'PHP', '7.4.0RC3', 'please', 'visit', 'thedownload', 'page.Please', 'carefully', 'test', 'this', 'version', 'and', 'report', 'any', 'issues', 'found', 'in', 'thebug', 'reporting', 'system.For', 'more', 'information', 'on', 'the', 'new', 'features', 'and', 'other', 'changes,', 'you', 'can', 'read', 'theNEWSfile,', 'or', 'theUPGRADINGfile', 'for', 'a', 'complete', 'list', 'of', 'upgrading', 'notes.', 'These', 'files', 'can', 'also', 'be', 'found', 'in', 'the', 'release', 'archive.The', 'next', 'release', 'would', 'be7.4.0RC4,', 'planned', 'for', 'October', '17th.The', 'signatures', 'for', 'the', 'release', 'can', 'be', 'found', 'inthe', 'manifestor', 'onthe', 'QA', 'site.Thank', 'you', 'for', 'helping', 'us', 'make', 'PHP', 'better.26', 'Sep', '2019PHP', '7.2.23', 'Release', 'AnnouncementThe', 'PHP', 'development', 'team', 'announces', 'the', 'immediate', 'availability', 'of', 'PHP', '7.2.23.', 'This', 'is', 'a', 'bugfix', 'release.For', 'source', 'downloads', 'of', 'PHP', '7.2.23', 'please', 'visit', 'ourdownloads', 'page,', 'Windows', 'source', 'and', 'binaries', 'can', 'be', 'found', 'onwindows.php.net/download/.', 'The', 'list', 'of', 'changes', 'is', 'recorded', 'in', 'theChangeLog.26', 'Sep', '2019PHP', '7.3.10', 'ReleasedThe', 'PHP', 'development', 'team', 'announces', 'the', 'immediate', 'availability', 'of', 'PHP', '7.3.10.', 'This', 'is', 'a', 'security', 'release', 'which', 'also', 'contains', 'several', 'bug', 'fixes.All', 'PHP', '7.3', 'users', 'are', 'encouraged', 'to', 'upgrade', 'to', 'this', 'version.For', 'source', 'downloads', 'of', 'PHP', '7.3.10', 'please', 'visit', 'ourdownloads', 'page,', 'Windows', 'source', 'and', 'binaries', 'can', 'be', 'found', 'onwindows.php.net/download/.', 'The', 'list', 'of', 'changes', 'is', 'recorded', 'in', 'theChangeLog.19', 'Sep', '2019PHP', '7.4.0RC2', 'Released!The', 'PHP', 'team', 'is', 'glad', 'to', 'announce', 'the', 'second', 'release', 'candidate', 'of', 'PHP', '7.4:', 'PHP', '7.4.0RC2.', 'This', 'continues', 'the', 'PHP', '7.4', 'release', 'cycle,', 'the', 'rough', 'outline', 'of', 'which', 'is', 'specified', 'in', 'thePHP', 'Wiki.Please', 'DO', 'NOT', 'use', 'this', 'version', 'in', 'production,', 'it', 'is', 'an', 'early', 'test', 'version.For', 'source', 'downloads', 'of', 'PHP', '7.4.0RC2', 'please', 'visit', 'thedownload', 'page.Please', 'carefully', 'test', 'this', 'version', 'and', 'report', 'any', 'issues', 'found', 'in', 'thebug', 'reporting', 'system.For', 'more', 'information', 'on', 'the', 'new', 'features', 'and', 'other', 'changes,', 'you', 'can', 'read', 'theNEWSfile,', 'or', 'theUPGRADINGfile', 'for', 'a', 'complete', 'list', 'of', 'upgrading', 'notes.', 'These', 'files', 'can', 'also', 'be', 'found', 'in', 'the', 'release', 'archive.The', 'next', 'release', 'would', 'be7.4.0RC3,', 'planned', 'for', 'October', '3rd.The', 'signatures', 'for', 'the', 'release', 'can', 'be', 'found', 'inthe', 'manifestor', 'onthe', 'QA', 'site.Thank', 'you', 'for', 'helping', 'us', 'make', 'PHP', 'better.05', 'Sep', '2019PHP', '7.4.0RC1', 'Released!The', 'PHP', 'team', 'is', 'glad', 'to', 'announce', 'the', 'first', 'release', 'candidate', 'of', 'PHP', '7.4:', 'PHP', '7.4.0RC1.', 'This', 'continues', 'the', 'PHP', '7.4', 'release', 'cycle,', 'the', 'rough', 'outline', 'of', 'which', 'is', 'specified', 'in', 'thePHP', 'Wiki.Please', 'DO', 'NOT', 'use', 'this', 'version', 'in', 'production,', 'it', 'is', 'an', 'early', 'test', 'version.For', 'source', 'downloads', 'of', 'PHP', '7.4.0RC1', 'please', 'visit', 'thedownload', 'page.Please', 'carefully', 'test', 'this', 'version', 'and', 'report', 'any', 'issues', 'found', 'in', 'thebug', 'reporting', 'system.For', 'more', 'information', 'on', 'the', 'new', 'features', 'and', 'other', 'changes,', 'you', 'can', 'read', 'theNEWSfile,', 'or', 'theUPGRADINGfile', 'for', 'a', 'complete', 'list', 'of', 'upgrading', 'notes.', 'These', 'files', 'can', 'also', 'be', 'found', 'in', 'the', 'release', 'archive.The', 'next', 'release', 'would', 'be7.4.0RC2,', 'planned', 'for', 'September', '19th.The', 'signatures', 'for', 'the', 'release', 'can', 'be', 'found', 'inthe', 'manifestor', 'onthe', 'QA', 'site.Thank', 'you', 'for', 'helping', 'us', 'make', 'PHP', 'better.30', 'Aug', '2019PHP', '7.1.32', 'ReleasedThe', 'PHP', 'development', 'team', 'announces', 'the', 'immediate', 'availability', 'of', 'PHP', '7.1.32.', 'This', 'is', 'a', 'security', 'release.All', 'PHP', '7.1', 'users', 'are', 'encouraged', 'to', 'upgrade', 'to', 'this', 'version.For', 'source', 'downloads', 'of', 'PHP', '7.1.32', 'please', 'visit', 'ourdownloads', 'page,', 'Windows', 'source', 'and', 'binaries', 'can', 'be', 'found', 'onwindows.php.net/download/.', 'The', 'list', 'of', 'changes', 'is', 'recorded', 'in', 'theChangeLog.29', 'Aug', '2019PHP', '7.2.22', 'ReleasedThe', 'PHP', 'development', 'team', 'announces', 'the', 'immediate', 'availability', 'of', 'PHP', '7.2.22.', 'This', 'is', 'a', 'security', 'release', 'which', 'also', 'contains', 'several', 'bug', 'fixes.All', 'PHP', '7.2', 'users', 'are', 'encouraged', 'to', 'upgrade', 'to', 'this', 'version.For', 'source', 'downloads', 'of', 'PHP', '7.2.22', 'please', 'visit', 'ourdownloads', 'page,', 'Windows', 'source', 'and', 'binaries', 'can', 'be', 'found', 'onwindows.php.net/download/.', 'The', 'list', 'of', 'changes', 'is', 'recorded', 'in', 'theChangeLog.29', 'Aug', '2019PHP', '7.3.9', 'Release', 'AnnouncementThe', 'PHP', 'development', 'team', 'announces', 'the', 'immediate', 'availability', 'of', 'PHP', '7.3.9.', 'This', 'is', 'a', 'security', 'release', 'which', 'also', 'contains', 'several', 'bug', 'fixes.All', 'PHP', '7.3', 'users', 'are', 'encouraged', 'to', 'upgrade', 'to', 'this', 'version.For', 'source', 'downloads', 'of', 'PHP', '7.3.9', 'please', 'visit', 'ourdownloads', 'page,', 'Windows', 'source', 'and', 'binaries', 'can', 'be', 'found', 'onwindows.php.net/download/.', 'The', 'list', 'of', 'changes', 'is', 'recorded', 'in', 'theChangeLog.22', 'Aug', '2019PHP', '7.4.0beta4', 'released!The', 'PHP', 'team', 'is', 'glad', 'to', 'announce', 'the', 'third', 'and', 'last', 'beta', 'release', 'of', 'PHP', '7.4:', 'PHP', '7.4.0beta4.', 'This', 'continues', 'the', 'PHP', '7.4', 'release', 'cycle,', 'the', 'rough', 'outline', 'of', 'which', 'is', 'specified', 'in', 'thePHP', 'Wiki.For', 'source', 'downloads', 'of', 'PHP', '7.4.0beta4', 'please', 'visit', 'thedownload', 'page.Please', 'carefully', 'test', 'this', 'version', 'and', 'report', 'any', 'issues', 'found', 'in', 'thebug', 'reporting', 'system.Please', 'DO', 'NOT', 'use', 'this', 'version', 'in', 'production,', 'it', 'is', 'an', 'early', 'test', 'version.For', 'more', 'information', 'on', 'the', 'new', 'features', 'and', 'other', 'changes,', 'you', 'can', 'read', 'theNEWSfile,', 'or', 'theUPGRADINGfile', 'for', 'a', 'complete', 'list', 'of', 'upgrading', 'notes.', 'These', 'files', 'can', 'also', 'be', 'found', 'in', 'the', 'release', 'archive.The', 'next', 'release', 'would', 'beRC', '1,', 'planned', 'for', 'September', '5th.The', 'signatures', 'for', 'the', 'release', 'can', 'be', 'found', 'inthe', 'manifestor', 'onthe', 'QA', 'site.Thank', 'you', 'for', 'helping', 'us', 'make', 'PHP', 'better.08', 'Aug', '2019PHP', '7.4.0beta2', 'released!The', 'PHP', 'team', 'is', 'glad', 'to', 'announce', 'the', 'second', 'beta', 'release', 'of', 'PHP', '7.4:', 'PHP', '7.4.0beta2.', 'This', 'continues', 'the', 'PHP', '7.4', 'release', 'cycle,', 'the', 'rough', 'outline', 'of', 'which', 'is', 'specified', 'in', 'thePHP', 'Wiki.For', 'source', 'downloads', 'of', 'PHP', '7.4.0beta2', 'please', 'visit', 'thedownload', 'page.Please', 'carefully', 'test', 'this', 'version', 'and', 'report', 'any', 'issues', 'found', 'in', 'thebug', 'reporting', 'system.Please', 'DO', 'NOT', 'use', 'this', 'version', 'in', 'production,', 'it', 'is', 'an', 'early', 'test', 'version.For', 'more', 'information', 'on', 'the', 'new', 'features', 'and', 'other', 'changes,', 'you', 'can', 'read', 'theNEWSfile,', 'or', 'theUPGRADINGfile', 'for', 'a', 'complete', 'list', 'of', 'upgrading', 'notes.', 'These', 'files', 'can', 'also', 'be', 'found', 'in', 'the', 'release', 'archive.The', 'next', 'release', 'would', 'beBeta', '3,', 'planned', 'for', 'August', '22nd.The', 'signatures', 'for', 'the', 'release', 'can', 'be', 'found', 'inthe', 'manifestor', 'onthe', 'QA', 'site.Thank', 'you', 'for', 'helping', 'us', 'make', 'PHP', 'better.01', 'Aug', '2019PHP', '7.1.31', 'ReleasedThe', 'PHP', 'development', 'team', 'announces', 'the', 'immediate', 'availability', 'of', 'PHP', '7.1.31.', 'This', 'is', 'a', 'security', 'release.All', 'PHP', '7.1', 'users', 'are', 'encouraged', 'to', 'upgrade', 'to', 'this', 'version.For', 'source', 'downloads', 'of', 'PHP', '7.1.31', 'please', 'visit', 'ourdownloads', 'page,', 'Windows', 'source', 'and', 'binaries', 'can', 'be', 'found', 'onwindows.php.net/download/.', 'The', 'list', 'of', 'changes', 'is', 'recorded', 'in', 'theChangeLog.25', 'Jul', '2019PHP', '7.4.0beta1', 'released!The', 'PHP', 'team', 'is', 'glad', 'to', 'announce', 'the', 'first', 'beta', 'release', 'of', 'PHP', '7.4:', 'PHP', '7.4.0beta1.', 'This', 'continues', 'the', 'PHP', '7.4', 'release', 'cycle,', 'the', 'rough', 'outline', 'of', 'which', 'is', 'specified', 'in', 'thePHP', 'Wiki.For', 'source', 'downloads', 'of', 'PHP', '7.4.0beta1', 'please', 'visit', 'thedownload', 'page.Please', 'carefully', 'test', 'this', 'version', 'and', 'report', 'any', 'issues', 'found', 'in', 'thebug', 'reporting', 'system.Please', 'DO', 'NOT', 'use', 'this', 'version', 'in', 'production,', 'it', 'is', 'an', 'early', 'test', 'version.For', 'more', 'information', 'on', 'the', 'new', 'features', 'and', 'other', 'changes,', 'you', 'can', 'read', 'theNEWSfile,', 'or', 'theUPGRADINGfile', 'for', 'a', 'complete', 'list', 'of', 'upgrading', 'notes.', 'These', 'files', 'can', 'also', 'be', 'found', 'in', 'the', 'release', 'archive.The', 'next', 'release', 'would', 'beBeta', '2,', 'planned', 'for', 'August', '8th.The', 'signatures', 'for', 'the', 'release', 'can', 'be', 'found', 'inthe', 'manifestor', 'onthe', 'QA', 'site.Thank', 'you', 'for', 'helping', 'us', 'make', 'PHP', 'better.11', 'Jul', '2019PHP', '7.4.0', 'alpha', '3', 'ReleasedPHP', 'team', 'is', 'glad', 'to', 'announce', 'the', 'release', 'of', 'the', 'third', 'PHP', '7.4.0', 'version,', 'PHP', '7.4.0', 'Alpha', '3.', 'This', 'continues', 'the', 'PHP', '7.4', 'release', 'cycle,', 'the', 'rough', 'outline', 'of', 'which', 'is', 'specified', 'in', 'thePHP', 'Wiki.For', 'source', 'downloads', 'of', 'PHP', '7.4.0', 'Alpha', '3', 'please', 'visit', 'thedownload', 'page.Please', 'carefully', 'test', 'this', 'version', 'and', 'report', 'any', 'issues', 'found', 'in', 'thebug', 'reporting', 'system.Please', 'DO', 'NOT', 'use', 'this', 'version', 'in', 'production,', 'it', 'is', 'an', 'early', 'test', 'version.For', 'more', 'information', 'on', 'the', 'new', 'features', 'and', 'other', 'changes,', 'you', 'can', 'read', 'theNEWSfile,', 'or', 'theUPGRADINGfile', 'for', 'a', 'complete', 'list', 'of', 'upgrading', 'notes.', 'These', 'files', 'can', 'also', 'be', 'found', 'in', 'the', 'release', 'archive.The', 'next', 'release', 'would', 'beBeta', '1,', 'planned', 'for', 'July', '25th.The', 'signatures', 'for', 'the', 'release', 'can', 'be', 'found', 'inthe', 'manifestor', 'onthe', 'QA', 'site.Thank', 'you', 'for', 'helping', 'us', 'make', 'PHP', 'better.26', 'Jun', '2019PHP', '7.4.0', 'alpha', '2', 'ReleasedPHP', 'team', 'is', 'glad', 'to', 'announce', 'the', 'release', 'of', 'the', 'second', 'PHP', '7.4.0', 'version,', 'PHP', '7.4.0', 'Alpha', '2.', 'This', 'continues', 'the', 'PHP', '7.4', 'release', 'cycle,', 'the', 'rough', 'outline', 'of', 'which', 'is', 'specified', 'in', 'thePHP', 'Wiki.For', 'source', 'downloads', 'of', 'PHP', '7.4.0', 'Alpha', '2', 'please', 'visit', 'thedownload', 'page.Please', 'carefully', 'test', 'this', 'version', 'and', 'report', 'any', 'issues', 'found', 'in', 'thebug', 'reporting', 'system.Please', 'DO', 'NOT', 'use', 'this', 'version', 'in', 'production,', 'it', 'is', 'an', 'early', 'test', 'version.For', 'more', 'information', 'on', 'the', 'new', 'features', 'and', 'other', 'changes,', 'you', 'can', 'read', 'theNEWSfile,', 'or', 'theUPGRADINGfile', 'for', 'a', 'complete', 'list', 'of', 'upgrading', 'notes.', 'These', 'files', 'can', 'also', 'be', 'found', 'in', 'the', 'release', 'archive.The', 'next', 'release', 'would', 'be', 'Alpha', '3,', 'planned', 'for', 'July', '11th.The', 'signatures', 'for', 'the', 'release', 'can', 'be', 'found', 'inthe', 'manifestor', 'onthe', 'QA', 'site.Thank', 'you', 'for', 'helping', 'us', 'make', 'PHP', 'better.13', 'Jun', '2019PHP', '7.4.0', 'alpha', '1', 'ReleasedPHP', 'team', 'is', 'glad', 'to', 'announce', 'the', 'release', 'of', 'the', 'first', 'PHP', '7.4.0', 'version,', 'PHP', '7.4.0', 'Alpha', '1.', 'This', 'starts', 'the', 'PHP', '7.4', 'release', 'cycle,', 'the', 'rough', 'outline', 'of', 'which', 'is', 'specified', 'in', 'thePHP', 'Wiki.For', 'source', 'downloads', 'of', 'PHP', '7.4.0', 'Alpha', '1', 'please', 'visit', 'thedownload', 'page.Please', 'carefully', 'test', 'this', 'version', 'and', 'report', 'any', 'issues', 'found', 'in', 'thebug', 'reporting', 'system.Please', 'DO', 'NOT', 'use', 'this', 'version', 'in', 'production,', 'it', 'is', 'an', 'early', 'test', 'version.For', 'more', 'information', 'on', 'the', 'new', 'features', 'and', 'other', 'changes,', 'you', 'can', 'read', 'theNEWSfile,', 'or', 'theUPGRADINGfile', 'for', 'a', 'complete', 'list', 'of', 'upgrading', 'notes.', 'These', 'files', 'can', 'also', 'be', 'found', 'in', 'the', 'release', 'archive.The', 'next', 'release', 'would', 'be', 'Alpha', '2,', 'planned', 'for', 'June', '27.The', 'signatures', 'for', 'the', 'release', 'can', 'be', 'found', 'inthe', 'manifestor', 'onthe', 'QA', 'site.Thank', 'you', 'for', 'helping', 'us', 'make', 'PHP', 'better.22', 'Nov', '2018PHP', '7.3.0RC6', 'ReleasedThe', 'PHP', 'team', 'is', 'glad', 'to', 'announce', 'the', 'presumably', 'last', 'PHP', '7.3.0', 'pre-release,', 'PHP', '7.3.0RC6.', 'The', 'rough', 'outline', 'of', 'the', 'PHP', '7.3', 'release', 'cycle', 'is', 'specified', 'in', 'thePHP', 'Wiki.For', 'source', 'downloads', 'of', 'PHP', '7.3.0RC6', 'please', 'visit', 'thedownload', 'page.', 'Windows', 'sources', 'and', 'binaries', 'can', 'be', 'found', 'onwindows.php.net/qa/.Please', 'carefully', 'test', 'this', 'version', 'and', 'report', 'any', 'issues', 'found', 'in', 'thebug', 'reporting', 'system.THIS', 'IS', 'A', 'DEVELOPMENT', 'PREVIEW', '-', 'DO', 'NOT', 'USE', 'IT', 'IN', 'PRODUCTION!For', 'more', 'information', 'on', 'the', 'new', 'features', 'and', 'other', 'changes,', 'you', 'can', 'read', 'theNEWSfile,', 'or', 'theUPGRADINGfile', 'for', 'a', 'complete', 'list', 'of', 'upgrading', 'notes.', 'Internal', 'changes', 'are', 'listed', 'in', 'theUPGRADING.INTERNALSfile.', 'These', 'files', 'can', 'also', 'be', 'found', 'in', 'the', 'release', 'archive.The', 'next', 'release', 'would', 'be', '7.3.0', '(GA),', 'planned', 'for', 'December', '6th.The', 'signatures', 'for', 'the', 'release', 'can', 'be', 'found', 'inthe', 'manifestor', 'onthe', 'QA', 'site.Thank', 'you', 'for', 'helping', 'us', 'make', 'PHP', 'better.08', 'Nov', '2018PHP', '7.3.0RC5', 'ReleasedThe', 'PHP', 'team', 'is', 'glad', 'to', 'announce', 'the', 'next', 'PHP', '7.3.0', 'pre-release,', 'PHP', '7.3.0RC5.', 'The', 'rough', 'outline', 'of', 'the', 'PHP', '7.3', 'release', 'cycle', 'is', 'specified', 'in', 'thePHP', 'Wiki.For', 'source', 'downloads', 'of', 'PHP', '7.3.0RC5', 'please', 'visit', 'thedownload', 'page.', 'Windows', 'sources', 'and', 'binaries', 'can', 'be', 'found', 'onwindows.php.net/qa/.Please', 'carefully', 'test', 'this', 'version', 'and', 'report', 'any', 'issues', 'found', 'in', 'thebug', 'reporting', 'system.THIS', 'IS', 'A', 'DEVELOPMENT', 'PREVIEW', '-', 'DO', 'NOT', 'USE', 'IT', 'IN', 'PRODUCTION!For', 'more', 'information', 'on', 'the', 'new', 'features', 'and', 'other', 'changes,', 'you', 'can', 'read', 'theNEWSfile,', 'or', 'theUPGRADINGfile', 'for', 'a', 'complete', 'list', 'of', 'upgrading', 'notes.', 'Internal', 'changes', 'are', 'listed', 'in', 'theUPGRADING.INTERNALSfile.', 'These', 'files', 'can', 'also', 'be', 'found', 'in', 'the', 'release', 'archive.The', 'next', 'release', 'would', 'be', 'RC6,', 'planned', 'for', 'November', '22nd.The', 'signatures', 'for', 'the', 'release', 'can', 'be', 'found', 'inthe', 'manifestor', 'onthe', 'QA', 'site.Thank', 'you', 'for', 'helping', 'us', 'make', 'PHP', 'better.25', 'Oct', '2018PHP', '7.3.0RC4', 'ReleasedThe', 'PHP', 'team', 'is', 'glad', 'to', 'announce', 'the', 'next', 'PHP', '7.3.0', 'pre-release,', 'PHP', '7.3.0RC4.', 'The', 'rough', 'outline', 'of', 'the', 'PHP', '7.3', 'release', 'cycle', 'is', 'specified', 'in', 'thePHP', 'Wiki.For', 'source', 'downloads', 'of', 'PHP', '7.3.0RC4', 'please', 'visit', 'thedownload', 'page.', 'Windows', 'sources', 'and', 'binaries', 'can', 'be', 'found', 'onwindows.php.net/qa/.Please', 'carefully', 'test', 'this', 'version', 'and', 'report', 'any', 'issues', 'found', 'in', 'thebug', 'reporting', 'system.THIS', 'IS', 'A', 'DEVELOPMENT', 'PREVIEW', '-', 'DO', 'NOT', 'USE', 'IT', 'IN', 'PRODUCTION!For', 'more', 'information', 'on', 'the', 'new', 'features', 'and', 'other', 'changes,', 'you', 'can', 'read', 'theNEWSfile,', 'or', 'theUPGRADINGfile', 'for', 'a', 'complete', 'list', 'of', 'upgrading', 'notes.', 'Internal', 'changes', 'are', 'listed', 'in', 'theUPGRADING.INTERNALSfile.', 'These', 'files', 'can', 'also', 'be', 'found', 'in', 'the', 'release', 'archive.The', 'next', 'release', 'would', 'be', 'RC5,', 'planned', 'for', 'November', '8th.The', 'signatures', 'for', 'the', 'release', 'can', 'be', 'found', 'inthe', 'manifestor', 'onthe', 'QA', 'site.Thank', 'you', 'for', 'helping', 'us', 'make', 'PHP', 'better.11', 'Oct', '2018PHP', '7.3.0RC3', 'ReleasedThe', 'PHP', 'team', 'is', 'glad', 'to', 'announce', 'the', 'next', 'PHP', '7.3.0', 'pre-release,', 'PHP', '7.3.0RC3.', 'The', 'rough', 'outline', 'of', 'the', 'PHP', '7.3', 'release', 'cycle', 'is', 'specified', 'in', 'thePHP', 'Wiki.For', 'source', 'downloads', 'of', 'PHP', '7.3.0RC3', 'please', 'visit', 'thedownload', 'page.', 'Windows', 'sources', 'and', 'binaries', 'can', 'be', 'found', 'onwindows.php.net/qa/.Please', 'carefully', 'test', 'this', 'version', 'and', 'report', 'any', 'issues', 'found', 'in', 'thebug', 'reporting', 'system.THIS', 'IS', 'A', 'DEVELOPMENT', 'PREVIEW', '-', 'DO', 'NOT', 'USE', 'IT', 'IN', 'PRODUCTION!For', 'more', 'information', 'on', 'the', 'new', 'features', 'and', 'other', 'changes,', 'you', 'can', 'read', 'theNEWSfile,', 'or', 'theUPGRADINGfile', 'for', 'a', 'complete', 'list', 'of', 'upgrading', 'notes.', 'Internal', 'changes', 'are', 'listed', 'in', 'theUPGRADING.INTERNALSfile.', 'These', 'files', 'can', 'also', 'be', 'found', 'in', 'the', 'release', 'archive.The', 'next', 'release', 'would', 'be', 'RC4,', 'planned', 'for', 'October', '25th.The', 'signatures', 'for', 'the', 'release', 'can', 'be', 'found', 'inthe', 'manifestor', 'onthe', 'QA', 'site.Thank', 'you', 'for', 'helping', 'us', 'make', 'PHP', 'better.28', 'Sep', '2018PHP', '7.3.0RC2', 'ReleasedThe', 'PHP', 'team', 'is', 'glad', 'to', 'announce', 'the', 'next', 'PHP', '7.3.0', 'pre-release,', 'PHP', '7.3.0RC2.', 'The', 'rough', 'outline', 'of', 'the', 'PHP', '7.3', 'release', 'cycle', 'is', 'specified', 'in', 'thePHP', 'Wiki.For', 'source', 'downloads', 'of', 'PHP', '7.3.0RC2', 'please', 'visit', 'thedownload', 'page.', 'Windows', 'sources', 'and', 'binaries', 'can', 'be', 'found', 'onwindows.php.net/qa/.Please', 'carefully', 'test', 'this', 'version', 'and', 'report', 'any', 'issues', 'found', 'in', 'thebug', 'reporting', 'system.THIS', 'IS', 'A', 'DEVELOPMENT', 'PREVIEW', '-', 'DO', 'NOT', 'USE', 'IT', 'IN', 'PRODUCTION!For', 'more', 'information', 'on', 'the', 'new', 'features', 'and', 'other', 'changes,', 'you', 'can', 'read', 'theNEWSfile,', 'or', 'theUPGRADINGfile', 'for', 'a', 'complete', 'list', 'of', 'upgrading', 'notes.', 'Internal', 'changes', 'are', 'listed', 'in', 'theUPGRADING.INTERNALSfile.', 'These', 'files', 'can', 'also', 'be', 'found', 'in', 'the', 'release', 'archive.The', 'next', 'release', 'would', 'be', 'RC3,', 'planned', 'for', 'October', '11th.The', 'signatures', 'for', 'the', 'release', 'can', 'be', 'found', 'inthe', 'manifestor', 'onthe', 'QA', 'site.Thank', 'you', 'for', 'helping', 'us', 'make', 'PHP', 'better.13', 'Sep', '2018PHP', '7.3.0RC1', 'ReleasedThe', 'PHP', 'team', 'is', 'glad', 'to', 'announce', 'the', 'release', 'of', 'the', 'next', 'PHP', '7.3.0', 'pre-release,', 'PHP', '7.3.0RC1.', 'The', 'rough', 'outline', 'of', 'the', 'PHP', '7.3', 'release', 'cycle', 'is', 'specified', 'in', 'thePHP', 'Wiki.For', 'source', 'downloads', 'of', 'PHP', '7.3.0RC1', 'please', 'visit', 'thedownload', 'page.', 'Windows', 'sources', 'and', 'binaries', 'can', 'be', 'found', 'onwindows.php.net/qa/.Please', 'carefully', 'test', 'this', 'version', 'and', 'report', 'any', 'issues', 'found', 'in', 'thebug', 'reporting', 'system.THIS', 'IS', 'A', 'DEVELOPMENT', 'PREVIEW', '-', 'DO', 'NOT', 'USE', 'IT', 'IN', 'PRODUCTION!For', 'more', 'information', 'on', 'the', 'new', 'features', 'and', 'other', 'changes,', 'you', 'can', 'read', 'theNEWSfile,', 'or', 'theUPGRADINGfile', 'for', 'a', 'complete', 'list', 'of', 'upgrading', 'notes.', 'Internal', 'changes', 'are', 'listed', 'in', 'theUPGRADING.INTERNALSfile.', 'These', 'files', 'can', 'also', 'be', 'found', 'in', 'the', 'release', 'archive.The', 'next', 'release', 'would', 'be', 'RC2,', 'planned', 'for', 'September', '27th.The', 'signatures', 'for', 'the', 'release', 'can', 'be', 'found', 'inthe', 'manifestor', 'onthe', 'QA', 'site.Thank', 'you', 'for', 'helping', 'us', 'make', 'PHP', 'better.30', 'Aug', '2018PHP', '7.3.0.beta3', 'ReleasedThe', 'PHP', 'team', 'is', 'glad', 'to', 'announce', 'the', 'release', 'of', 'the', 'seventh', 'PHP', '7.3.0', 'version,', 'PHP', '7.3.0beta3.', 'The', 'rough', 'outline', 'of', 'the', 'PHP', '7.3', 'release', 'cycle', 'is', 'specified', 'in', 'thePHP', 'Wiki.For', 'source', 'downloads', 'of', 'PHP', '7.3.0beta3', 'please', 'visit', 'thedownload', 'page.', 'Windows', 'sources', 'and', 'binaries', 'can', 'be', 'found', 'onwindows.php.net/qa/.Please', 'carefully', 'test', 'this', 'version', 'and', 'report', 'any', 'issues', 'found', 'in', 'thebug', 'reporting', 'system.THIS', 'IS', 'A', 'DEVELOPMENT', 'PREVIEW', '-', 'DO', 'NOT', 'USE', 'IT', 'IN', 'PRODUCTION!For', 'more', 'information', 'on', 'the', 'new', 'features', 'and', 'other', 'changes,', 'you', 'can', 'read', 'theNEWSfile,', 'or', 'theUPGRADINGfile', 'for', 'a', 'complete', 'list', 'of', 'upgrading', 'notes.', 'Internal', 'changes', 'are', 'listed', 'in', 'theUPGRADING.INTERNALSfile.', 'These', 'files', 'can', 'also', 'be', 'found', 'in', 'the', 'release', 'archive.The', 'next', 'release', 'would', 'be', 'RC1,', 'planned', 'for', 'September', '13th.The', 'signatures', 'for', 'the', 'release', 'can', 'be', 'found', 'inthe', 'manifestor', 'onthe', 'QA', 'site.Thank', 'you', 'for', 'helping', 'us', 'make', 'PHP', 'better.16', 'Aug', '2018PHP', '7.3.0.beta2', 'ReleasedThe', 'PHP', 'team', 'is', 'glad', 'to', 'announce', 'the', 'release', 'of', 'the', 'sixth', 'PHP', '7.3.0', 'version,', 'PHP', '7.3.0beta2.', 'The', 'rough', 'outline', 'of', 'the', 'PHP', '7.3', 'release', 'cycle', 'is', 'specified', 'in', 'thePHP', 'Wiki.For', 'source', 'downloads', 'of', 'PHP', '7.3.0beta2', 'please', 'visit', 'thedownload', 'page.', 'Windows', 'sources', 'and', 'binaries', 'can', 'be', 'found', 'onwindows.php.net/qa/.Please', 'carefully', 'test', 'this', 'version', 'and', 'report', 'any', 'issues', 'found', 'in', 'thebug', 'reporting', 'system.THIS', 'IS', 'A', 'DEVELOPMENT', 'PREVIEW', '-', 'DO', 'NOT', 'USE', 'IT', 'IN', 'PRODUCTION!For', 'more', 'information', 'on', 'the', 'new', 'features', 'and', 'other', 'changes,', 'you', 'can', 'read', 'theNEWSfile,', 'or', 'theUPGRADINGfile', 'for', 'a', 'complete', 'list', 'of', 'upgrading', 'notes.', 'Internal', 'changes', 'are', 'listed', 'in', 'theUPGRADING.INTERNALSfile.', 'These', 'files', 'can', 'also', 'be', 'found', 'in', 'the', 'release', 'archive.The', 'next', 'release', 'would', 'be', 'Beta', '3,', 'planned', 'for', 'August', '30th.The', 'signatures', 'for', 'the', 'release', 'can', 'be', 'found', 'inthe', 'manifestor', 'onthe', 'QA', 'site.Thank', 'you', 'for', 'helping', 'us', 'make', 'PHP', 'better.02', 'Aug', '2018PHP', '7.3.0.beta1', 'ReleasedThe', 'PHP', 'team', 'is', 'glad', 'to', 'announce', 'the', 'release', 'of', 'the', 'fifth', 'PHP', '7.3.0', 'version,', 'PHP', '7.3.0beta1.', 'The', 'rough', 'outline', 'of', 'the', 'PHP', '7.3', 'release', 'cycle', 'is', 'specified', 'in', 'thePHP', 'Wiki.For', 'source', 'downloads', 'of', 'PHP', '7.3.0beta1', 'please', 'visit', 'thedownload', 'page.', 'Windows', 'sources', 'and', 'binaries', 'can', 'be', 'found', 'onwindows.php.net/qa/.Please', 'carefully', 'test', 'this', 'version', 'and', 'report', 'any', 'issues', 'found', 'in', 'thebug', 'reporting', 'system.THIS', 'IS', 'A', 'DEVELOPMENT', 'PREVIEW', '-', 'DO', 'NOT', 'USE', 'IT', 'IN', 'PRODUCTION!For', 'more', 'information', 'on', 'the', 'new', 'features', 'and', 'other', 'changes,', 'you', 'can', 'read', 'theNEWSfile,', 'or', 'theUPGRADINGfile', 'for', 'a', 'complete', 'list', 'of', 'upgrading', 'notes.', 'These', 'files', 'can', 'also', 'be', 'found', 'in', 'the', 'release', 'archive.The', 'next', 'release', 'would', 'be', 'Beta', '2,', 'planned', 'for', 'August', '16th.The', 'signatures', 'for', 'the', 'release', 'can', 'be', 'found', 'inthe', 'manifestor', 'onthe', 'QA', 'site.Thank', 'you', 'for', 'helping', 'us', 'make', 'PHP', 'better.19', 'Jul', '2018PHP', '7.3.0alpha4', 'ReleasedThe', 'PHP', 'team', 'is', 'glad', 'to', 'announce', 'the', 'release', 'of', 'the', 'fourth', 'PHP', '7.3.0', 'version,', 'PHP', '7.3.0alpha4.', 'The', 'rough', 'outline', 'of', 'the', 'PHP', '7.3', 'release', 'cycle', 'is', 'specified', 'in', 'thePHP', 'Wiki.For', 'source', 'downloads', 'of', 'PHP', '7.3.0alpha4', 'please', 'visit', 'thedownload', 'page.', 'Windows', 'sources', 'and', 'binaries', 'can', 'be', 'found', 'onwindows.php.net/qa/.Please', 'carefully', 'test', 'this', 'version', 'and', 'report', 'any', 'issues', 'found', 'in', 'thebug', 'reporting', 'system.THIS', 'IS', 'A', 'DEVELOPMENT', 'PREVIEW', '-', 'DO', 'NOT', 'USE', 'IT', 'IN', 'PRODUCTION!For', 'more', 'information', 'on', 'the', 'new', 'features', 'and', 'other', 'changes,', 'you', 'can', 'read', 'theNEWSfile,', 'or', 'theUPGRADINGfile', 'for', 'a', 'complete', 'list', 'of', 'upgrading', 'notes.', 'These', 'files', 'can', 'also', 'be', 'found', 'in', 'the', 'release', 'archive.The', 'next', 'release', 'would', 'be', 'Beta', '1,', 'planned', 'for', 'August', '2nd.The', 'signatures', 'for', 'the', 'release', 'can', 'be', 'found', 'inthe', 'manifestor', 'onthe', 'QA', 'site.Thank', 'you', 'for', 'helping', 'us', 'make', 'PHP', 'better.05', 'Jul', '2018PHP', '7.3.0', 'alpha', '3', 'ReleasedThe', 'PHP', 'team', 'is', 'glad', 'to', 'announce', 'the', 'release', 'of', 'the', 'third', 'PHP', '7.3.0', 'version,', 'PHP', '7.3.0', 'Alpha', '3.', 'The', 'rough', 'outline', 'of', 'the', 'PHP', '7.3', 'release', 'cycle', 'is', 'specified', 'in', 'thePHP', 'Wiki.For', 'source', 'downloads', 'of', 'PHP', '7.3.0', 'Alpha', '3', 'please', 'visit', 'thedownload', 'page.', 'Windows', 'sources', 'and', 'binaries', 'can', 'be', 'found', 'onwindows.php.net/qa/.Please', 'carefully', 'test', 'this', 'version', 'and', 'report', 'any', 'issues', 'found', 'in', 'thebug', 'reporting', 'system.THIS', 'IS', 'A', 'DEVELOPMENT', 'PREVIEW', '-', 'DO', 'NOT', 'USE', 'IT', 'IN', 'PRODUCTION!For', 'more', 'information', 'on', 'the', 'new', 'features', 'and', 'other', 'changes,', 'you', 'can', 'read', 'theNEWSfile,', 'or', 'theUPGRADINGfile', 'for', 'a', 'complete', 'list', 'of', 'upgrading', 'notes.', 'These', 'files', 'can', 'also', 'be', 'found', 'in', 'the', 'release', 'archive.The', 'next', 'release', 'would', 'be', 'Beta', '1,', 'planned', 'for', 'July', '19th.The', 'signatures', 'for', 'the', 'release', 'can', 'be', 'found', 'inthe', 'manifestor', 'onthe', 'QA', 'site.Thank', 'you', 'for', 'helping', 'us', 'make', 'PHP', 'better.21', 'Jun', '2018PHP', '7.3.0', 'alpha', '2', 'ReleasedThe', 'PHP', 'team', 'is', 'glad', 'to', 'announce', 'the', 'release', 'of', 'the', 'second', 'PHP', '7.3.0', 'version,', 'PHP', '7.3.0', 'Alpha', '2.', 'The', 'rough', 'outline', 'of', 'the', 'PHP', '7.3', 'release', 'cycle', 'is', 'specified', 'in', 'thePHP', 'Wiki.For', 'source', 'downloads', 'of', 'PHP', '7.3.0', 'Alpha', '2', 'please', 'visit', 'thedownload', 'page.', 'Windows', 'sources', 'and', 'binaries', 'can', 'be', 'found', 'onwindows.php.net/qa/.Please', 'carefully', 'test', 'this', 'version', 'and', 'report', 'any', 'issues', 'found', 'in', 'thebug', 'reporting', 'system.THIS', 'IS', 'A', 'DEVELOPMENT', 'PREVIEW', '-', 'DO', 'NOT', 'USE', 'IT', 'IN', 'PRODUCTION!For', 'more', 'information', 'on', 'the', 'new', 'features', 'and', 'other', 'changes,', 'you', 'can', 'read', 'theNEWSfile,', 'or', 'theUPGRADINGfile', 'for', 'a', 'complete', 'list', 'of', 'upgrading', 'notes.', 'These', 'files', 'can', 'also', 'be', 'found', 'in', 'the', 'release', 'archive.The', 'next', 'release', 'would', 'be', 'Alpha', '3,', 'planned', 'for', 'July', '5.The', 'signatures', 'for', 'the', 'release', 'can', 'be', 'found', 'inthe', 'manifestor', 'onthe', 'QA', 'site.Thank', 'you', 'for', 'helping', 'us', 'make', 'PHP', 'better.07', 'Jun', '2018PHP', '7.3.0', 'alpha', '1', 'ReleasedPHP', 'team', 'is', 'glad', 'to', 'announce', 'the', 'release', 'of', 'the', 'first', 'PHP', '7.3.0', 'version,', 'PHP', '7.3.0', 'Alpha', '1.', 'This', 'starts', 'the', 'PHP', '7.3', 'release', 'cycle,', 'the', 'rough', 'outline', 'of', 'which', 'is', 'specified', 'in', 'thePHP', 'Wiki.For', 'source', 'downloads', 'of', 'PHP', '7.3.0', 'Alpha', '1', 'please', 'visit', 'thedownload', 'page.Please', 'carefully', 'test', 'this', 'version', 'and', 'report', 'any', 'issues', 'found', 'in', 'thebug', 'reporting', 'system.Please', 'DO', 'NOT', 'use', 'this', 'version', 'in', 'production,', 'it', 'is', 'an', 'early', 'test', 'version.For', 'more', 'information', 'on', 'the', 'new', 'features', 'and', 'other', 'changes,', 'you', 'can', 'read', 'theNEWSfile,', 'or', 'theUPGRADINGfile', 'for', 'a', 'complete', 'list', 'of', 'upgrading', 'notes.', 'These', 'files', 'can', 'also', 'be', 'found', 'in', 'the', 'release', 'archive.The', 'next', 'release', 'would', 'be', 'Alpha', '2,', 'planned', 'for', 'June', '21.The', 'signatures', 'for', 'the', 'release', 'can', 'be', 'found', 'inthe', 'manifestor', 'onthe', 'QA', 'site.Thank', 'you', 'for', 'helping', 'us', 'make', 'PHP', 'better.01', 'Feb', '2018PHP', '7.2.2', 'ReleasedThe', 'PHP', 'development', 'team', 'announces', 'the', 'immediate', 'availability', 'of', 'PHP', '7.2.2.', 'This', 'is', 'a', 'bugfix', 'release,', 'with', 'several', 'bug', 'fixes', 'included.All', 'PHP', '7.2', 'users', 'are', 'encouraged', 'to', 'upgrade', 'to', 'this', 'version.For', 'source', 'downloads', 'of', 'PHP', '7.2.2', 'please', 'visit', 'ourdownloads', 'page,', 'Windows', 'source', 'and', 'binaries', 'can', 'be', 'found', 'onwindows.php.net/download/.', 'The', 'list', 'of', 'changes', 'is', 'recorded', 'in', 'theChangeLog.12', 'Oct', '2017PHP', '7.2.0', 'Release', 'Candidate', '4', 'ReleasedThe', 'PHP', 'development', 'team', 'announces', 'the', 'immediate', 'availability', 'of', 'PHP', '7.2.0', 'RC4.', 'This', 'release', 'is', 'the', 'fourth', 'Release', 'Candidate', 'for', '7.2.0.', 'All', 'users', 'of', 'PHP', 'are', 'encouraged', 'to', 'test', 'this', 'version', 'carefully,', 'and', 'report', 'any', 'bugs', 'and', 'incompatibilities', 'in', 'thebug', 'tracking', 'system.THIS', 'IS', 'A', 'DEVELOPMENT', 'PREVIEW', '-', 'DO', 'NOT', 'USE', 'IT', 'IN', 'PRODUCTION!For', 'more', 'information', 'on', 'the', 'new', 'features', 'and', 'other', 'changes,', 'you', 'can', 'read', 'theNEWSfile,', 'or', 'theUPGRADINGfile', 'for', 'a', 'complete', 'list', 'of', 'upgrading', 'notes.', 'These', 'files', 'can', 'also', 'be', 'found', 'in', 'the', 'release', 'archive.For', 'source', 'downloads', 'of', 'PHP', '7.2.0', 'Release', 'Candidate', '4', 'please', 'visit', 'thedownloadpage,', 'Windows', 'sources', 'and', 'binaries', 'can', 'be', 'found', 'atwindows.php.net/qa/.The', 'next', 'Release', 'Candidate', 'will', 'be', 'announced', 'on', 'the', '26th', 'of', 'October.', 'You', 'can', 'also', 'read', 'the', 'full', 'list', 'of', 'planned', 'releases', 'onour', 'wiki.Thank', 'you', 'for', 'helping', 'us', 'make', 'PHP', 'better.28', 'Sep', '2017PHP', '7.2.0', 'Release', 'Candidate', '3', 'ReleasedThe', 'PHP', 'development', 'team', 'announces', 'the', 'immediate', 'availability', 'of', 'PHP', '7.2.0', 'RC3.', 'This', 'release', 'is', 'the', 'third', 'Release', 'Candidate', 'for', '7.2.0.', 'All', 'users', 'of', 'PHP', 'are', 'encouraged', 'to', 'test', 'this', 'version', 'carefully,', 'and', 'report', 'any', 'bugs', 'and', 'incompatibilities', 'in', 'thebug', 'tracking', 'system.THIS', 'IS', 'A', 'DEVELOPMENT', 'PREVIEW', '-', 'DO', 'NOT', 'USE', 'IT', 'IN', 'PRODUCTION!For', 'more', 'information', 'on', 'the', 'new', 'features', 'and', 'other', 'changes,', 'you', 'can', 'read', 'theNEWSfile,', 'or', 'theUPGRADINGfile', 'for', 'a', 'complete', 'list', 'of', 'upgrading', 'notes.', 'These', 'files', 'can', 'also', 'be', 'found', 'in', 'the', 'release', 'archive.For', 'source', 'downloads', 'of', 'PHP', '7.2.0', 'Release', 'Candidate', '3', 'please', 'visit', 'thedownloadpage,', 'Windows', 'sources', 'and', 'binaries', 'can', 'be', 'found', 'atwindows.php.net/qa/.The', 'next', 'Release', 'Candidate', 'will', 'be', 'announced', 'on', 'the', '12th', 'of', 'October.', 'You', 'can', 'also', 'read', 'the', 'full', 'list', 'of', 'planned', 'releases', 'onour', 'wiki.Thank', 'you', 'for', 'helping', 'us', 'make', 'PHP', 'better.31', 'Aug', '2017PHP', '7.2.0', 'Release', 'Candidate', '1', 'ReleasedThe', 'PHP', 'development', 'team', 'announces', 'the', 'immediate', 'availability', 'of', 'PHP', '7.2.0', 'Release', 'Candidate', '1.', 'This', 'release', 'is', 'the', 'first', 'Release', 'Candidate', 'for', '7.2.0.', 'All', 'users', 'of', 'PHP', 'are', 'encouraged', 'to', 'test', 'this', 'version', 'carefully,', 'and', 'report', 'any', 'bugs', 'and', 'incompatibilities', 'in', 'thebug', 'tracking', 'system.THIS', 'IS', 'A', 'DEVELOPMENT', 'PREVIEW', '-', 'DO', 'NOT', 'USE', 'IT', 'IN', 'PRODUCTION!For', 'more', 'information', 'on', 'the', 'new', 'features', 'and', 'other', 'changes,', 'you', 'can', 'read', 'theNEWSfile,', 'or', 'theUPGRADINGfile', 'for', 'a', 'complete', 'list', 'of', 'upgrading', 'notes.', 'These', 'files', 'can', 'also', 'be', 'found', 'in', 'the', 'release', 'archive.For', 'source', 'downloads', 'of', 'PHP', '7.2.0', 'Release', 'Candidate', '1', 'please', 'visit', 'thedownloadpage,', 'Windows', 'sources', 'and', 'binaries', 'can', 'be', 'found', 'atwindows.php.net/qa/.The', 'second', 'Release', 'Candidate', 'will', 'be', 'released', 'on', 'the', '14th', 'of', 'September.', 'You', 'can', 'also', 'read', 'the', 'full', 'list', 'of', 'planned', 'releases', 'onour', 'wiki.Thank', 'you', 'for', 'helping', 'us', 'make', 'PHP', 'better.17', 'Aug', '2017PHP', '7.2.0', 'Beta', '3', 'ReleasedThe', 'PHP', 'development', 'team', 'announces', 'the', 'immediate', 'availability', 'of', 'PHP', '7.2.0', 'Beta', '3.', 'This', 'release', 'is', 'the', 'third', 'and', 'final', 'beta', 'for', '7.2.0.', 'All', 'users', 'of', 'PHP', 'are', 'encouraged', 'to', 'test', 'this', 'version', 'carefully,', 'and', 'report', 'any', 'bugs', 'and', 'incompatibilities', 'in', 'thebug', 'tracking', 'system.THIS', 'IS', 'A', 'DEVELOPMENT', 'PREVIEW', '-', 'DO', 'NOT', 'USE', 'IT', 'IN', 'PRODUCTION!For', 'more', 'information', 'on', 'the', 'new', 'features', 'and', 'other', 'changes,', 'you', 'can', 'read', 'theNEWSfile,', 'or', 'theUPGRADINGfile', 'for', 'a', 'complete', 'list', 'of', 'upgrading', 'notes.', 'These', 'files', 'can', 'also', 'be', 'found', 'in', 'the', 'release', 'archive.For', 'source', 'downloads', 'of', 'PHP', '7.2.0', 'Beta', '3', 'please', 'visit', 'thedownloadpage,', 'Windows', 'sources', 'and', 'binaries', 'can', 'be', 'found', 'atwindows.php.net/qa/.The', 'first', 'Release', 'Candidate', 'will', 'be', 'released', 'on', 'the', '31th', 'of', 'August.', 'You', 'can', 'also', 'read', 'the', 'full', 'list', 'of', 'planned', 'releases', 'onour', 'wiki.Thank', 'you', 'for', 'helping', 'us', 'make', 'PHP', 'better.06', 'Jul', '2017PHP', '7.2.0', 'Alpha', '3', 'ReleasedThe', 'PHP', 'development', 'team', 'announces', 'the', 'immediate', 'availability', 'of', 'PHP', '7.2.0', 'Alpha', '3.', 'This', 'release', 'contains', 'fixes', 'and', 'improvements', 'relative', 'to', 'Alpha', '2.', 'All', 'users', 'of', 'PHP', 'are', 'encouraged', 'to', 'test', 'this', 'version', 'carefully,', 'and', 'report', 'any', 'bugs', 'and', 'incompatibilities', 'in', 'thebug', 'tracking', 'system.THIS', 'IS', 'A', 'DEVELOPMENT', 'PREVIEW', '-', 'DO', 'NOT', 'USE', 'IT', 'IN', 'PRODUCTION!For', 'information', 'on', 'new', 'features', 'and', 'other', 'changes,', 'you', 'can', 'read', 'theNEWSfile,', 'or', 'theUPGRADINGfile', 'for', 'a', 'complete', 'list', 'of', 'upgrading', 'notes.', 'These', 'files', 'can', 'also', 'be', 'found', 'in', 'the', 'release', 'archive.For', 'source', 'downloads', 'of', 'PHP', '7.2.0', 'Alpha', '3', 'please', 'visit', 'thedownloadpage,', 'Windows', 'sources', 'and', 'binaries', 'can', 'be', 'found', 'onwindows.php.net/qa/.The', 'first', 'beta', 'will', 'be', 'released', 'on', 'the', '20th', 'of', 'July.', 'You', 'can', 'also', 'read', 'the', 'full', 'list', 'of', 'planned', 'releases', 'on', 'ourwiki.Thank', 'you', 'for', 'helping', 'us', 'make', 'PHP', 'better.Older', 'News', 'EntriesUpcoming', 'conferencesPHP', 'UK', 'Conference', '2020Bulgaria', 'PHP', 'Conference', '2019PHP', 'Conference', 'Japan', '2019PHP', \"fwdays'20User\", 'Group', 'EventsSpecial', 'ThanksSocial', 'media@official_phpCopyright', '©', '2001-2019', 'The', 'PHP', 'GroupMy', 'PHP.netContactOther', 'PHP.net', 'sitesPrivacy', 'policy']\n"
     ]
    }
   ],
   "source": [
    "tokens = [t for t in text.split()] \n",
    "print (tokens)"
   ]
  },
  {
   "cell_type": "markdown",
   "metadata": {},
   "source": [
    "Count Word Frequency\n",
    "The text is much better now. Let's calculate the frequency distribution of those tokens using Python NLTK. There is a function in NLTK called FreqDist() that does the job:"
   ]
  },
  {
   "cell_type": "markdown",
   "metadata": {},
   "source": [
    "#### tokenization using split function"
   ]
  },
  {
   "cell_type": "code",
   "execution_count": 4,
   "metadata": {},
   "outputs": [
    {
     "name": "stdout",
     "output_type": "stream",
     "text": [
      "announced:2\n",
      "next:29\n",
      "VariablesPredefined:1\n",
      "development.Fast,:1\n",
      "7.3.0RC6:2\n",
      "announce:22\n",
      "of:134\n",
      "Wiki.Please:3\n",
      "outline:22\n",
      "(GA),:1\n",
      "releases:5\n",
      "2:4\n",
      "powers:1\n",
      "WrappersSecurityIntroductionGeneral:1\n",
      "better.26:2\n",
      "listed:8\n",
      "released!The:3\n",
      "RC5,:1\n",
      "October:4\n",
      "theNEWSfile,:27\n",
      "ExtensionsFile:1\n",
      "7.3.0RC5.:1\n",
      "2020Bulgaria:1\n",
      "PHP:183\n",
      "rough:22\n",
      "file:1\n",
      "line:1\n",
      "June:2\n",
      "Basic:1\n",
      "ExtensionsDatabase:1\n",
      "ExtensionsCredit:1\n",
      "Notes·Upgrading7.3.10·Release:1\n",
      "November:2\n",
      "will:5\n",
      "handlingPersistent:1\n",
      "©:1\n",
      "7.3:15\n",
      "7.1:2\n",
      "glad:22\n",
      "Japan:1\n",
      "bugs:5\n",
      "20th:1\n",
      "August.:1\n",
      "release,:1\n",
      "EntriesUpcoming:1\n",
      "sitesPrivacy:1\n",
      "7.3.0beta2.:1\n",
      "changes,:27\n",
      "for:102\n",
      "7.4.0RC1.:1\n",
      "onwindows.php.net/download/.:7\n",
      "especially:1\n",
      "archive.For:5\n",
      "7.3.10.:1\n",
      "Sep:7\n",
      "users:11\n",
      "7.3.0RC6.:1\n",
      "Oct:4\n",
      "remote:1\n",
      "IS:17\n",
      "XFormsHandling:1\n",
      "7.1.32.:1\n",
      "ModeCommand:1\n",
      "PHP's:1\n",
      "System:1\n",
      "carefully:22\n",
      "notes.:27\n",
      "2017PHP:5\n",
      "Windows:24\n",
      "archive.The:22\n",
      "gScroll:1\n",
      "7.3.0beta1.:1\n",
      "7.1.32:2\n",
      "uploadsUsing:1\n",
      "early:10\n",
      "GenerationMail:1\n",
      "All:5\n",
      "last:2\n",
      "27th.The:1\n",
      "ExplainedPredefined:1\n",
      "your:1\n",
      "new:27\n",
      "ExtensionsCompression:1\n",
      "7.2.0.:4\n",
      "EventsSpecial:1\n",
      "it:10\n",
      "binaries:24\n",
      "You:5\n",
      "theUPGRADINGfile:27\n",
      "PHPKeeping:1\n",
      "ManipulationGUI:1\n",
      "7.3.0.beta3:1\n",
      "DataMagic:1\n",
      "3.:4\n",
      "7.3.0RC3.:1\n",
      "SecurityError:1\n",
      "7.4.0RC2:2\n",
      "better.06:1\n",
      "ThanksSocial:1\n",
      "tutorialLanguage:1\n",
      "Language:1\n",
      "QuotesHiding:1\n",
      "7.2.0:15\n",
      "team:34\n",
      "BehaviourAudio:1\n",
      "media@official_phpCopyright:1\n",
      "full:5\n",
      "theChangeLog.29:2\n",
      "reporting:22\n",
      "7.4.0RC3:2\n",
      "second:5\n",
      "bottomg:1\n",
      "7.3.0alpha4.:1\n",
      "Candidate:14\n",
      "search(current:1\n",
      "RC1,:1\n",
      "beBeta:3\n",
      "22nd.The:2\n",
      "7.4.0beta2:2\n",
      "CGI:1\n",
      "relative:1\n",
      "ourdownloads:7\n",
      "signatures:22\n",
      "world.Download7.1.32·Release:1\n",
      "theChangeLog.19:1\n",
      "final:1\n",
      "version.For:16\n",
      "menu:2\n",
      "3:10\n",
      "19th.The:2\n",
      "other:27\n",
      "7.2.23:2\n",
      "boxPHP:1\n",
      "7.3.0.beta2:1\n",
      "RC3,:1\n",
      "7.3.0RC4:2\n",
      "PHP.net:1\n",
      "web:1\n",
      "ExtensionsSession:1\n",
      "visit:34\n",
      "ServicesCommand:1\n",
      "30th.The:1\n",
      "ProcessingVariable:1\n",
      "a:35\n",
      "1:6\n",
      "please:34\n",
      "RC4,:1\n",
      "RC4.:1\n",
      "ExtensionsKeyboard:1\n",
      "pragmatic,:1\n",
      "make:27\n",
      "everything:1\n",
      "ExtensionsWeb:1\n",
      "3,:4\n",
      "theChangeLog.12:1\n",
      "websites:1\n",
      "are:19\n",
      "version,:10\n",
      "the:168\n",
      "sGoto:1\n",
      "7.3.9:2\n",
      "downloads:34\n",
      "7.4.0RC3.:1\n",
      "filesConnection:1\n",
      "pre-release,:6\n",
      "you:54\n",
      "on:33\n",
      "onthe:22\n",
      "Character:1\n",
      "simple:1\n",
      "ReleasedPHP:4\n",
      "better.01:2\n",
      "ExtensionsHuman:1\n",
      "complete:27\n",
      "Beta:7\n",
      "found:95\n",
      "production,:10\n",
      "helping:27\n",
      "cycle:12\n",
      "syntaxTypesVariablesConstantsExpressionsOperatorsControl:1\n",
      "included.All:1\n",
      "files:27\n",
      "theChangeLog.26:1\n",
      "site.Thank:22\n",
      "better.05:2\n",
      "onwindows.php.net/qa/.Please:12\n",
      "theUPGRADING.INTERNALSfile.:8\n",
      "GroupMy:1\n",
      "hGoto:1\n",
      "PRODUCTION!For:17\n",
      "These:27\n",
      "ObjectsNamespacesErrorsExceptionsGeneratorsReferences:1\n",
      "7.3.0beta3.:1\n",
      "onour:4\n",
      "better.17:1\n",
      "Time:1\n",
      "Control:1\n",
      "Conference:3\n",
      "Notes·Upgrading03:1\n",
      "Release:16\n",
      "December:1\n",
      "14th:1\n",
      "July:4\n",
      "page)/Focus:1\n",
      "as:2\n",
      "ExtensionsNon-Text:1\n",
      "availability:12\n",
      "Register:1\n",
      "SecurityDatabase:1\n",
      "1,:4\n",
      "development:12\n",
      "upgrade:6\n",
      "better.25:1\n",
      "Database:1\n",
      "flexible:1\n",
      "7.2.2:2\n",
      "us:27\n",
      "Aug:11\n",
      "AnnouncementThe:2\n",
      "7.4.0beta4.:1\n",
      "alpha:6\n",
      "DO:27\n",
      "7.4.0beta1:2\n",
      "bug:4\n",
      "11th.The:2\n",
      "planned:27\n",
      "Encoding:1\n",
      "7.3.0RC4.:1\n",
      "7.3.0.beta1:1\n",
      "onwindows.php.net/qa/.The:1\n",
      "7.3.0RC1.:1\n",
      "27.The:1\n",
      "ExceptionsPredefined:1\n",
      "an:11\n",
      "7.3.10:2\n",
      "ReferenceAffecting:1\n",
      "this:43\n",
      "July.:1\n",
      "ourwiki.Thank:1\n",
      "usageGarbage:1\n",
      "TracingFunction:1\n",
      "7.3.0RC5:2\n",
      "7.4.0:12\n",
      "release:118\n",
      "cycle,:10\n",
      "parametersSupported:1\n",
      "fixes:2\n",
      "ServicesWindows:1\n",
      "7.3.0alpha4:2\n",
      "better.22:1\n",
      "GlobalsUser:1\n",
      "ServicesSearch:1\n",
      "read:32\n",
      "PreprocessorDownloadsDocumentationGet:1\n",
      "immediate:12\n",
      "be7.4.0RC3,:1\n",
      "September.:1\n",
      "options:1\n",
      "2001-2019:1\n",
      "search:1\n",
      "NOT:27\n",
      "better.21:1\n",
      "release.For:1\n",
      "Only:1\n",
      "7.3.0RC2.:1\n",
      "moduleSession:1\n",
      "scripting:1\n",
      "popular:2\n",
      "Jun:4\n",
      "security:5\n",
      "IT:17\n",
      "2,:4\n",
      "16th.The:1\n",
      "26th:1\n",
      "suited:1\n",
      "News:1\n",
      "7.4:9\n",
      "theChangeLog.22:1\n",
      "better.31:1\n",
      "7.3.0beta1:1\n",
      "better.13:2\n",
      "can:105\n",
      "3rd.The:1\n",
      "Apache:1\n",
      "several:4\n",
      "system.THIS:17\n",
      "would:22\n",
      "be7.4.0RC2,:1\n",
      "pageGScroll:1\n",
      "better.11:2\n",
      "7.3.0RC1:2\n",
      "also:35\n",
      "released:3\n",
      "Engine:1\n",
      "specified:22\n",
      "Specific:2\n",
      "2019PHP:17\n",
      "beRC:1\n",
      "that:1\n",
      "ExtensionsDate:1\n",
      "7.3.0RC2:2\n",
      "ReferenceBasic:1\n",
      "6th.The:1\n",
      "7.3.9.:1\n",
      "IN:17\n",
      "better.30:2\n",
      "policy:1\n",
      "list:39\n",
      "better.02:1\n",
      "more:26\n",
      "authentication:1\n",
      "better.19:1\n",
      "7.4.0beta1.:1\n",
      "Jul:5\n",
      "2018PHP:14\n",
      "ReleasedThe:22\n",
      "RC2,:1\n",
      "inthe:22\n",
      "to:44\n",
      "31th:1\n",
      "language:1\n",
      "Related:4\n",
      "encouraged:11\n",
      "test:37\n",
      "changes:15\n",
      "2.:3\n",
      "7.2:2\n",
      "SecurityFilesystem:1\n",
      "most:1\n",
      "ExtensionsText:1\n",
      "QA:22\n",
      "incompatibilities:5\n",
      "page.Please:10\n",
      "PHP.netContactOther:1\n",
      "fixes.All:3\n",
      "Nov:2\n",
      "source:41\n",
      "manifestor:22\n",
      "better.07:1\n",
      "Wiki.For:19\n",
      "wiki.Thank:4\n",
      "presumably:1\n",
      "7.3.0beta3:1\n",
      "sources:17\n",
      "fourth:2\n",
      "thedownload:22\n",
      "considerationsInstalled:1\n",
      "1.:3\n",
      "CurrentFeaturesHTTP:1\n",
      "OutputProcess:1\n",
      "announces:12\n",
      "5th.The:1\n",
      "A:17\n",
      "version:37\n",
      "Feb:1\n",
      "Submitted:1\n",
      "8th.The:2\n",
      "page,:7\n",
      "with:3\n",
      "7.1.31:2\n",
      "itemg:1\n",
      "August:5\n",
      "Line:1\n",
      "man:2\n",
      "StartedIntroductionA:1\n",
      "thePHP:22\n",
      "5.The:1\n",
      "Card:1\n",
      "first:7\n",
      "page.:12\n",
      "Internal:8\n",
      "ClassesContext:1\n",
      "itemkPrevious:1\n",
      "25th.The:2\n",
      "7.4.0RC2.:1\n",
      "PHP::1\n",
      "7.2.22:2\n",
      "seventh:1\n",
      "better.Older:1\n",
      "RC3.:1\n",
      "system.For:3\n",
      "system.Please:7\n",
      "fwdays'20User:1\n",
      "StructuresFunctionsClasses:1\n",
      "conferencesPHP:1\n",
      "ExtensionsXML:1\n",
      "candidate:3\n",
      "starts:2\n",
      "7.2.23.:1\n",
      "or:27\n",
      "thebug:27\n",
      "Archive:1\n",
      "from:1\n",
      "7.3.0RC3:2\n",
      "7.3.0:23\n",
      "Type:1\n",
      "InvolvedHelpGetting:1\n",
      "Shortcuts?This:1\n",
      "7.4.0beta4:2\n",
      "contains:4\n",
      "ProcessingCryptography:1\n",
      "third:6\n",
      "topg:1\n",
      "features:27\n",
      "7.4.0beta2.:1\n",
      "atwindows.php.net/qa/.The:4\n",
      "better.28:2\n",
      "information:27\n",
      "any:27\n",
      "upgrading:27\n",
      "release.All:2\n",
      "ManipulationAuthentication:1\n",
      "17th.The:1\n",
      "report:27\n",
      "This:22\n",
      "fifth:1\n",
      "ExtensionsOther:2\n",
      "DEVELOPMENT:17\n",
      "Formats:1\n",
      "better.16:1\n",
      "7.2.22.:1\n",
      "beta:5\n",
      "USE:17\n",
      "21.The:1\n",
      "UK:1\n",
      "carefully,:5\n",
      "Hypertext:1\n",
      "which:13\n",
      "theChangeLog.25:1\n",
      "PREVIEW:17\n",
      "ReportingUsing:1\n",
      "Interfaces:1\n",
      "issues:22\n",
      "13th.The:1\n",
      "Group:1\n",
      "September:4\n",
      "general-purpose:1\n",
      "Alpha:20\n",
      "ExtensionsMathematical:1\n",
      "October.:2\n",
      "helpjNext:1\n",
      "SupportImage:1\n",
      "pPrevious:1\n",
      "better.08:2\n",
      "thedownloadpage,:5\n",
      "4:2\n",
      "2nd.The:1\n",
      "blog:1\n",
      "Processing:1\n",
      "be7.4.0RC4,:1\n",
      "Released!The:3\n",
      "continues:8\n",
      "PHPCookiesSessionsDealing:1\n",
      "7.4.0RC1:2\n",
      "use:10\n",
      "7.1.31.:1\n",
      "nNext:1\n",
      "homepageg:1\n",
      "in:102\n",
      "binaryInstalled:1\n",
      "recorded:7\n",
      "-:17\n",
      "Dynamic:1\n",
      "tracking:5\n",
      "ExtensionsServer:1\n",
      "RC6,:1\n",
      "MIME:1\n",
      "bugfix:2\n",
      "12th:1\n",
      "improvements:1\n",
      "7.4::6\n",
      "be:93\n",
      "sixth:1\n",
      "is:74\n",
      "pageg:1\n",
      "and:96\n",
      "Protocols:1\n",
      "7.3.0beta2:1\n",
      "CollectionDTrace:1\n",
      "Notes·Upgrading7.2.23·Release:1\n",
      "The:20\n",
      "ConnectionsSafe:1\n",
      "7.2.2.:1\n"
     ]
    }
   ],
   "source": [
    "freq = nltk.FreqDist(tokens) \n",
    "for key,val in freq.items(): \n",
    "    print (str(key) + ':' + str(val))"
   ]
  },
  {
   "cell_type": "markdown",
   "metadata": {},
   "source": [
    "Remove Stop Words (like \"the,\" \"of,\" \"a,\" \"an,\" and so on. ) \n",
    "NLTK is shipped with stop words lists for most languages. To get English stop words, you can use this code:"
   ]
  },
  {
   "cell_type": "code",
   "execution_count": 5,
   "metadata": {},
   "outputs": [
    {
     "data": {
      "text/plain": [
       "['i',\n",
       " 'me',\n",
       " 'my',\n",
       " 'myself',\n",
       " 'we',\n",
       " 'our',\n",
       " 'ours',\n",
       " 'ourselves',\n",
       " 'you',\n",
       " \"you're\",\n",
       " \"you've\",\n",
       " \"you'll\",\n",
       " \"you'd\",\n",
       " 'your',\n",
       " 'yours',\n",
       " 'yourself',\n",
       " 'yourselves',\n",
       " 'he',\n",
       " 'him',\n",
       " 'his',\n",
       " 'himself',\n",
       " 'she',\n",
       " \"she's\",\n",
       " 'her',\n",
       " 'hers',\n",
       " 'herself',\n",
       " 'it',\n",
       " \"it's\",\n",
       " 'its',\n",
       " 'itself',\n",
       " 'they',\n",
       " 'them',\n",
       " 'their',\n",
       " 'theirs',\n",
       " 'themselves',\n",
       " 'what',\n",
       " 'which',\n",
       " 'who',\n",
       " 'whom',\n",
       " 'this',\n",
       " 'that',\n",
       " \"that'll\",\n",
       " 'these',\n",
       " 'those',\n",
       " 'am',\n",
       " 'is',\n",
       " 'are',\n",
       " 'was',\n",
       " 'were',\n",
       " 'be',\n",
       " 'been',\n",
       " 'being',\n",
       " 'have',\n",
       " 'has',\n",
       " 'had',\n",
       " 'having',\n",
       " 'do',\n",
       " 'does',\n",
       " 'did',\n",
       " 'doing',\n",
       " 'a',\n",
       " 'an',\n",
       " 'the',\n",
       " 'and',\n",
       " 'but',\n",
       " 'if',\n",
       " 'or',\n",
       " 'because',\n",
       " 'as',\n",
       " 'until',\n",
       " 'while',\n",
       " 'of',\n",
       " 'at',\n",
       " 'by',\n",
       " 'for',\n",
       " 'with',\n",
       " 'about',\n",
       " 'against',\n",
       " 'between',\n",
       " 'into',\n",
       " 'through',\n",
       " 'during',\n",
       " 'before',\n",
       " 'after',\n",
       " 'above',\n",
       " 'below',\n",
       " 'to',\n",
       " 'from',\n",
       " 'up',\n",
       " 'down',\n",
       " 'in',\n",
       " 'out',\n",
       " 'on',\n",
       " 'off',\n",
       " 'over',\n",
       " 'under',\n",
       " 'again',\n",
       " 'further',\n",
       " 'then',\n",
       " 'once',\n",
       " 'here',\n",
       " 'there',\n",
       " 'when',\n",
       " 'where',\n",
       " 'why',\n",
       " 'how',\n",
       " 'all',\n",
       " 'any',\n",
       " 'both',\n",
       " 'each',\n",
       " 'few',\n",
       " 'more',\n",
       " 'most',\n",
       " 'other',\n",
       " 'some',\n",
       " 'such',\n",
       " 'no',\n",
       " 'nor',\n",
       " 'not',\n",
       " 'only',\n",
       " 'own',\n",
       " 'same',\n",
       " 'so',\n",
       " 'than',\n",
       " 'too',\n",
       " 'very',\n",
       " 's',\n",
       " 't',\n",
       " 'can',\n",
       " 'will',\n",
       " 'just',\n",
       " 'don',\n",
       " \"don't\",\n",
       " 'should',\n",
       " \"should've\",\n",
       " 'now',\n",
       " 'd',\n",
       " 'll',\n",
       " 'm',\n",
       " 'o',\n",
       " 're',\n",
       " 've',\n",
       " 'y',\n",
       " 'ain',\n",
       " 'aren',\n",
       " \"aren't\",\n",
       " 'couldn',\n",
       " \"couldn't\",\n",
       " 'didn',\n",
       " \"didn't\",\n",
       " 'doesn',\n",
       " \"doesn't\",\n",
       " 'hadn',\n",
       " \"hadn't\",\n",
       " 'hasn',\n",
       " \"hasn't\",\n",
       " 'haven',\n",
       " \"haven't\",\n",
       " 'isn',\n",
       " \"isn't\",\n",
       " 'ma',\n",
       " 'mightn',\n",
       " \"mightn't\",\n",
       " 'mustn',\n",
       " \"mustn't\",\n",
       " 'needn',\n",
       " \"needn't\",\n",
       " 'shan',\n",
       " \"shan't\",\n",
       " 'shouldn',\n",
       " \"shouldn't\",\n",
       " 'wasn',\n",
       " \"wasn't\",\n",
       " 'weren',\n",
       " \"weren't\",\n",
       " 'won',\n",
       " \"won't\",\n",
       " 'wouldn',\n",
       " \"wouldn't\"]"
      ]
     },
     "execution_count": 5,
     "metadata": {},
     "output_type": "execute_result"
    }
   ],
   "source": [
    "from nltk.corpus import stopwords\n",
    "stopwords.words('english')"
   ]
  },
  {
   "cell_type": "code",
   "execution_count": 6,
   "metadata": {},
   "outputs": [],
   "source": [
    "clean_tokens = tokens[:] \n",
    "sr = stopwords.words('english')\n",
    "for token in tokens:\n",
    "    if token in stopwords.words('english'):\n",
    "        clean_tokens.remove(token)"
   ]
  },
  {
   "cell_type": "code",
   "execution_count": null,
   "metadata": {},
   "outputs": [],
   "source": []
  },
  {
   "cell_type": "markdown",
   "metadata": {},
   "source": [
    "#### Final Code looks like..."
   ]
  },
  {
   "cell_type": "code",
   "execution_count": 7,
   "metadata": {},
   "outputs": [
    {
     "name": "stdout",
     "output_type": "stream",
     "text": [
      "announced:2\n",
      "next:29\n",
      "VariablesPredefined:1\n",
      "development.Fast,:1\n",
      "7.3.0RC6:2\n",
      "announce:22\n",
      "Wiki.Please:3\n",
      "outline:22\n",
      "(GA),:1\n",
      "releases:5\n",
      "2:4\n",
      "powers:1\n",
      "WrappersSecurityIntroductionGeneral:1\n",
      "better.26:2\n",
      "listed:8\n",
      "released!The:3\n",
      "RC5,:1\n",
      "October:4\n",
      "theNEWSfile,:27\n",
      "ExtensionsFile:1\n",
      "7.3.0RC5.:1\n",
      "2020Bulgaria:1\n",
      "PHP:183\n",
      "rough:22\n",
      "file:1\n",
      "line:1\n",
      "June:2\n",
      "Basic:1\n",
      "ExtensionsDatabase:1\n",
      "ExtensionsCredit:1\n",
      "Notes·Upgrading7.3.10·Release:1\n",
      "November:2\n",
      "handlingPersistent:1\n",
      "usageGarbage:1\n",
      "7.3:15\n",
      "7.1:2\n",
      "Japan:1\n",
      "bugs:5\n",
      "20th:1\n",
      "August.:1\n",
      "release,:1\n",
      "EntriesUpcoming:1\n",
      "sitesPrivacy:1\n",
      "7.3.0beta2.:1\n",
      "changes,:27\n",
      "relative:1\n",
      "7.4.0RC1.:1\n",
      "onwindows.php.net/download/.:7\n",
      "especially:1\n",
      "archive.For:5\n",
      "7.3.10.:1\n",
      "Sep:7\n",
      "users:11\n",
      "7.3.0RC6.:1\n",
      "Oct:4\n",
      "remote:1\n",
      "IS:17\n",
      "XFormsHandling:1\n",
      "7.1.32.:1\n",
      "ModeCommand:1\n",
      "PHP's:1\n",
      "System:1\n",
      "carefully:22\n",
      "notes.:27\n",
      "2017PHP:5\n",
      "Windows:24\n",
      "archive.The:22\n",
      "gScroll:1\n",
      "7.3.0beta1.:1\n",
      "7.1.32:2\n",
      "uploadsUsing:1\n",
      "early:10\n",
      "GenerationMail:1\n",
      "All:5\n",
      "last:2\n",
      "27th.The:1\n",
      "ExplainedPredefined:1\n",
      "onwindows.php.net/qa/.Please:12\n",
      "new:27\n",
      "ExtensionsCompression:1\n",
      "7.2.0.:4\n",
      "page.Please:10\n",
      "binaries:24\n",
      "You:5\n",
      "theUPGRADINGfile:27\n",
      "PHPKeeping:1\n",
      "ManipulationGUI:1\n",
      "7.3.0.beta3:1\n",
      "DataMagic:1\n",
      "3.:4\n",
      "7.3.0RC3.:1\n",
      "SecurityError:1\n",
      "7.4.0RC2:2\n",
      "better.06:1\n",
      "ThanksSocial:1\n",
      "tutorialLanguage:1\n",
      "Language:1\n",
      "QuotesHiding:1\n",
      "7.2.0:15\n",
      "team:34\n",
      "BehaviourAudio:1\n",
      "media@official_phpCopyright:1\n",
      "full:5\n",
      "theChangeLog.29:2\n",
      "reporting:22\n",
      "7.4.0RC3:2\n",
      "second:5\n",
      "bottomg:1\n",
      "7.3.0alpha4.:1\n",
      "Candidate:14\n",
      "search(current:1\n",
      "RC1,:1\n",
      "beBeta:3\n",
      "22nd.The:2\n",
      "7.4.0beta2:2\n",
      "CGI:1\n",
      "ourdownloads:7\n",
      "signatures:22\n",
      "world.Download7.1.32·Release:1\n",
      "theChangeLog.19:1\n",
      "final:1\n",
      "version.For:16\n",
      "menu:2\n",
      "3:10\n",
      "19th.The:2\n",
      "glad:22\n",
      "7.2.23:2\n",
      "boxPHP:1\n",
      "7.3.0.beta2:1\n",
      "RC3,:1\n",
      "7.3.0RC4:2\n",
      "PHP.net:1\n",
      "web:1\n",
      "ExtensionsSession:1\n",
      "visit:34\n",
      "ServicesCommand:1\n",
      "30th.The:1\n",
      "ProcessingVariable:1\n",
      "better.17:1\n",
      "1:6\n",
      "please:34\n",
      "RC4,:1\n",
      "RC4.:1\n",
      "ExtensionsKeyboard:1\n",
      "pragmatic,:1\n",
      "make:27\n",
      "everything:1\n",
      "ExtensionsWeb:1\n",
      "3,:4\n",
      "theChangeLog.12:1\n",
      "websites:1\n",
      "This:22\n",
      "sGoto:1\n",
      "7.3.9:2\n",
      "downloads:34\n",
      "7.4.0RC3.:1\n",
      "7.3.0:23\n",
      "pre-release,:6\n",
      "7.3.0RC3:2\n",
      "onthe:22\n",
      "Character:1\n",
      "simple:1\n",
      "ReleasedPHP:4\n",
      "better.01:2\n",
      "ExtensionsHuman:1\n",
      "complete:27\n",
      "Beta:7\n",
      "found:95\n",
      "production,:10\n",
      "helping:27\n",
      "cycle:12\n",
      "syntaxTypesVariablesConstantsExpressionsOperatorsControl:1\n",
      "files:27\n",
      "theChangeLog.26:1\n",
      "site.Thank:22\n",
      "better.05:2\n",
      "theUPGRADING.INTERNALSfile.:8\n",
      "GroupMy:1\n",
      "hGoto:1\n",
      "PRODUCTION!For:17\n",
      "presumably:1\n",
      "ObjectsNamespacesErrorsExceptionsGeneratorsReferences:1\n",
      "7.3.0beta3.:1\n",
      "onour:4\n",
      "PHP.netContactOther:1\n",
      "Time:1\n",
      "Control:1\n",
      "Conference:3\n",
      "Notes·Upgrading03:1\n",
      "Release:16\n",
      "December:1\n",
      "14th:1\n",
      "July:4\n",
      "page)/Focus:1\n",
      "ExtensionsNon-Text:1\n",
      "availability:12\n",
      "Register:1\n",
      "USE:17\n",
      "1,:4\n",
      "development:12\n",
      "upgrade:6\n",
      "better.25:1\n",
      "Database:1\n",
      "flexible:1\n",
      "7.2.2:2\n",
      "us:27\n",
      "Aug:11\n",
      "AnnouncementThe:2\n",
      "7.4.0beta4.:1\n",
      "alpha:6\n",
      "DO:27\n",
      "7.4.0beta1:2\n",
      "bug:4\n",
      "11th.The:2\n",
      "planned:27\n",
      "Encoding:1\n",
      "7.3.0RC4.:1\n",
      "7.3.0.beta1:1\n",
      "onwindows.php.net/qa/.The:1\n",
      "7.3.0RC1.:1\n",
      "27.The:1\n",
      "ExceptionsPredefined:1\n",
      "topg:1\n",
      "7.3.10:2\n",
      "ReferenceAffecting:1\n",
      "Formats:1\n",
      "July.:1\n",
      "1.:3\n",
      "ourwiki.Thank:1\n",
      "GlobalsUser:1\n",
      "SecurityDatabase:1\n",
      "7.3.0RC5:2\n",
      "7.4.0:12\n",
      "EventsSpecial:1\n",
      "release:118\n",
      "cycle,:10\n",
      "parametersSupported:1\n",
      "fixes:2\n",
      "ServicesWindows:1\n",
      "7.3.0alpha4:2\n",
      "better.22:1\n",
      "ServicesSearch:1\n",
      "read:32\n",
      "PreprocessorDownloadsDocumentationGet:1\n",
      "immediate:12\n",
      "be7.4.0RC3,:1\n",
      "September.:1\n",
      "options:1\n",
      "2001-2019:1\n",
      "search:1\n",
      "NOT:27\n",
      "better.21:1\n",
      "release.For:1\n",
      "Only:1\n",
      "moduleSession:1\n",
      "scripting:1\n",
      "popular:2\n",
      "Jun:4\n",
      "security:5\n",
      "IT:17\n",
      "2,:4\n",
      "26th:1\n",
      "suited:1\n",
      "News:1\n",
      "7.4:9\n",
      "theChangeLog.22:1\n",
      "better.31:1\n",
      "7.3.0beta1:1\n",
      "better.13:2\n",
      "3rd.The:1\n",
      "Apache:1\n",
      "several:4\n",
      "system.THIS:17\n",
      "would:22\n",
      "be7.4.0RC2,:1\n",
      "pageGScroll:1\n",
      "better.11:2\n",
      "7.3.0RC1:2\n",
      "also:35\n",
      "released:3\n",
      "Engine:1\n",
      "©:1\n",
      "specified:22\n",
      "Specific:2\n",
      "2019PHP:17\n",
      "beRC:1\n",
      "ExtensionsDate:1\n",
      "7.3.0RC2:2\n",
      "ReferenceBasic:1\n",
      "6th.The:1\n",
      "7.3.9.:1\n",
      "IN:17\n",
      "better.30:2\n",
      "policy:1\n",
      "list:39\n",
      "better.02:1\n",
      "authentication:1\n",
      "better.19:1\n",
      "7.4.0beta1.:1\n",
      "Jul:5\n",
      "2018PHP:14\n",
      "ReleasedThe:22\n",
      "RC2,:1\n",
      "inthe:22\n",
      "31th:1\n",
      "language:1\n",
      "Related:4\n",
      "encouraged:11\n",
      "test:37\n",
      "changes:15\n",
      "2.:3\n",
      "7.2:2\n",
      "SecurityFilesystem:1\n",
      "ExtensionsText:1\n",
      "QA:22\n",
      "incompatibilities:5\n",
      "thebug:27\n",
      "fixes.All:3\n",
      "Nov:2\n",
      "source:41\n",
      "manifestor:22\n",
      "better.07:1\n",
      "Wiki.For:19\n",
      "wiki.Thank:4\n",
      "included.All:1\n",
      "7.3.0beta3:1\n",
      "sources:17\n",
      "fourth:2\n",
      "thedownload:22\n",
      "considerationsInstalled:1\n",
      "These:27\n",
      "CurrentFeaturesHTTP:1\n",
      "OutputProcess:1\n",
      "announces:12\n",
      "5th.The:1\n",
      "A:17\n",
      "version:37\n",
      "Feb:1\n",
      "Submitted:1\n",
      "8th.The:2\n",
      "page,:7\n",
      "improvements:1\n",
      "7.1.31:2\n",
      "itemg:1\n",
      "August:5\n",
      "Line:1\n",
      "man:2\n",
      "StartedIntroductionA:1\n",
      "thePHP:22\n",
      "5.The:1\n",
      "Card:1\n",
      "first:7\n",
      "page.:12\n",
      "Internal:8\n",
      "ClassesContext:1\n",
      "itemkPrevious:1\n",
      "25th.The:2\n",
      "7.4.0RC2.:1\n",
      "PHP::1\n",
      "7.2.22:2\n",
      "seventh:1\n",
      "better.Older:1\n",
      "RC3.:1\n",
      "system.For:3\n",
      "ExtensionsXML:1\n",
      "fwdays'20User:1\n",
      "StructuresFunctionsClasses:1\n",
      "conferencesPHP:1\n",
      "system.Please:7\n",
      "candidate:3\n",
      "starts:2\n",
      "7.2.23.:1\n",
      "issues:22\n",
      "Archive:1\n",
      "4:2\n",
      "Type:1\n",
      "InvolvedHelpGetting:1\n",
      "Shortcuts?This:1\n",
      "7.4.0beta4:2\n",
      "contains:4\n",
      "ProcessingCryptography:1\n",
      "third:6\n",
      "16th.The:1\n",
      "features:27\n",
      "7.4.0beta2.:1\n",
      "atwindows.php.net/qa/.The:4\n",
      "better.28:2\n",
      "information:27\n",
      "upgrading:27\n",
      "release.All:2\n",
      "ManipulationAuthentication:1\n",
      "17th.The:1\n",
      "report:27\n",
      "version,:10\n",
      "fifth:1\n",
      "ExtensionsOther:2\n",
      "DEVELOPMENT:17\n",
      "better.16:1\n",
      "7.2.22.:1\n",
      "beta:5\n",
      "21.The:1\n",
      "UK:1\n",
      "carefully,:5\n",
      "Hypertext:1\n",
      "theChangeLog.25:1\n",
      "PREVIEW:17\n",
      "ReportingUsing:1\n",
      "Interfaces:1\n",
      "13th.The:1\n",
      "Group:1\n",
      "September:4\n",
      "general-purpose:1\n",
      "Alpha:20\n",
      "ExtensionsMathematical:1\n",
      "October.:2\n",
      "helpjNext:1\n",
      "SupportImage:1\n",
      "7.3.0RC2.:1\n",
      "better.08:2\n",
      "thedownloadpage,:5\n",
      "2nd.The:1\n",
      "blog:1\n",
      "Processing:1\n",
      "be7.4.0RC4,:1\n",
      "Released!The:3\n",
      "continues:8\n",
      "PHPCookiesSessionsDealing:1\n",
      "7.4.0RC1:2\n",
      "use:10\n",
      "7.1.31.:1\n",
      "nNext:1\n",
      "homepageg:1\n",
      "filesConnection:1\n",
      "binaryInstalled:1\n",
      "recorded:7\n",
      "-:17\n",
      "Dynamic:1\n",
      "tracking:5\n",
      "ExtensionsServer:1\n",
      "TracingFunction:1\n",
      "RC6,:1\n",
      "MIME:1\n",
      "bugfix:2\n",
      "12th:1\n",
      "7.4::6\n",
      "sixth:1\n",
      "pageg:1\n",
      "pPrevious:1\n",
      "Protocols:1\n",
      "7.3.0beta2:1\n",
      "CollectionDTrace:1\n",
      "Notes·Upgrading7.2.23·Release:1\n",
      "The:20\n",
      "ConnectionsSafe:1\n",
      "7.2.2.:1\n"
     ]
    }
   ],
   "source": [
    "from bs4 import BeautifulSoup \n",
    "import urllib.request \n",
    "import nltk \n",
    "from nltk.corpus import stopwords \n",
    "response = urllib.request.urlopen('http://php.net/') \n",
    "html = response.read() \n",
    "#soup = BeautifulSoup(html,\"html5lib\") \n",
    "soup = BeautifulSoup(html,\"html.parser\")\n",
    "text = soup.get_text(strip=True) \n",
    "tokens = [t for t in text.split()] \n",
    "clean_tokens = tokens[:] \n",
    "sr = stopwords.words('english') \n",
    "for token in tokens: \n",
    "    if token in stopwords.words('english'): \n",
    "        clean_tokens.remove(token) \n",
    "freq = nltk.FreqDist(clean_tokens) \n",
    "for key,val in freq.items(): \n",
    "    print (str(key) + ':' + str(val))"
   ]
  },
  {
   "cell_type": "code",
   "execution_count": 8,
   "metadata": {},
   "outputs": [],
   "source": [
    "%matplotlib inline"
   ]
  },
  {
   "cell_type": "code",
   "execution_count": 9,
   "metadata": {},
   "outputs": [
    {
     "data": {
      "image/png": "[encoded data removed]",
      "text/plain": [
       "<Figure size 432x288 with 1 Axes>"
      ]
     },
     "metadata": {
      "needs_background": "light"
     },
     "output_type": "display_data"
    }
   ],
   "source": [
    "freq.plot(20,cumulative=False)"
   ]
  },
  {
   "cell_type": "markdown",
   "metadata": {},
   "source": [
    "#### Tokenize Text Using NLTK"
   ]
  },
  {
   "cell_type": "markdown",
   "metadata": {},
   "source": [
    "You can tokenize paragraphs to sentences and tokenize sentences to words according to your needs. NLTK is shipped with a sentence tokenizer and a word tokenizer."
   ]
  },
  {
   "cell_type": "markdown",
   "metadata": {},
   "source": [
    "Consider this Text: Hello Ram, how are you? I hope everything is going well.  Today is a good day, see you dude."
   ]
  },
  {
   "cell_type": "markdown",
   "metadata": {},
   "source": [
    "Tokenize this to a sentence"
   ]
  },
  {
   "cell_type": "code",
   "execution_count": 10,
   "metadata": {},
   "outputs": [
    {
     "name": "stdout",
     "output_type": "stream",
     "text": [
      "['Hello Ram, how are you?', 'I hope everything is going well.', 'Today is a good day, see you dude.']\n"
     ]
    }
   ],
   "source": [
    "from nltk.tokenize import sent_tokenize \n",
    "mytext = \"Hello Ram, how are you? I hope everything is going well. Today is a good day, see you dude.\" \n",
    "print(sent_tokenize(mytext))"
   ]
  },
  {
   "cell_type": "markdown",
   "metadata": {},
   "source": [
    "Looks easy, Uh? Can be achieved using regex and split.. but wait. "
   ]
  },
  {
   "cell_type": "markdown",
   "metadata": {},
   "source": [
    "Consider this: Hello Mr. Ram, how are you? I hope everything is going well. Today is a good day, see you dude."
   ]
  },
  {
   "cell_type": "markdown",
   "metadata": {},
   "source": [
    "The glitch is \"Mr.\" which would be treated as one independent sentence itself if we use split "
   ]
  },
  {
   "cell_type": "code",
   "execution_count": 11,
   "metadata": {},
   "outputs": [
    {
     "name": "stdout",
     "output_type": "stream",
     "text": [
      "['Hello Mr. Ram, how are you?', 'I hope everything is going well.', 'Today is a good day, see you dude.']\n"
     ]
    }
   ],
   "source": [
    "from nltk.tokenize import sent_tokenize \n",
    "mytext = \"Hello Mr. Ram, how are you? I hope everything is going well. Today is a good day, see you dude.\" \n",
    "print(sent_tokenize(mytext))"
   ]
  },
  {
   "cell_type": "markdown",
   "metadata": {},
   "source": [
    "The above worked beautifully even for Mr. Ram"
   ]
  },
  {
   "cell_type": "markdown",
   "metadata": {},
   "source": [
    "#### Let us now see word tokennizer from nltk"
   ]
  },
  {
   "cell_type": "code",
   "execution_count": 12,
   "metadata": {},
   "outputs": [
    {
     "name": "stdout",
     "output_type": "stream",
     "text": [
      "['Hello', 'Mr.', 'Ram', ',', 'how', 'are', 'you', '?', 'I', 'hope', 'everything', 'is', 'going', 'well', '.', 'Today', 'is', 'a', 'good', 'day', ',', 'see', 'you', 'dude', '.']\n"
     ]
    }
   ],
   "source": [
    "from nltk.tokenize import word_tokenize\n",
    "mytext = \"Hello Mr. Ram, how are you? I hope everything is going well. Today is a good day, see you dude.\"\n",
    "print(word_tokenize(mytext))"
   ]
  },
  {
   "cell_type": "markdown",
   "metadata": {},
   "source": [
    "#### nltk word stemming"
   ]
  },
  {
   "cell_type": "code",
   "execution_count": 13,
   "metadata": {},
   "outputs": [
    {
     "name": "stdout",
     "output_type": "stream",
     "text": [
      "work\n"
     ]
    }
   ],
   "source": [
    "from nltk.stem import PorterStemmer\n",
    "stemmer = PorterStemmer() \n",
    "print(stemmer.stem('working'))"
   ]
  },
  {
   "cell_type": "markdown",
   "metadata": {},
   "source": [
    "#### Let us see what stemming does?"
   ]
  },
  {
   "cell_type": "code",
   "execution_count": 14,
   "metadata": {},
   "outputs": [
    {
     "name": "stdout",
     "output_type": "stream",
     "text": [
      "increas\n"
     ]
    }
   ],
   "source": [
    "from nltk.stem import PorterStemmer \n",
    "stemmer = PorterStemmer() \n",
    "print(stemmer.stem('increases'))"
   ]
  },
  {
   "cell_type": "markdown",
   "metadata": {},
   "source": [
    "##### lemmatize the same word using NLTK WordNet, the result is correct"
   ]
  },
  {
   "cell_type": "code",
   "execution_count": 15,
   "metadata": {},
   "outputs": [
    {
     "name": "stdout",
     "output_type": "stream",
     "text": [
      "increase\n"
     ]
    }
   ],
   "source": [
    "from nltk.stem import WordNetLemmatizer\n",
    "lemmatizer = WordNetLemmatizer()\n",
    "print(lemmatizer.lemmatize('increases'))"
   ]
  },
  {
   "cell_type": "markdown",
   "metadata": {},
   "source": [
    "The result might end up with a synonym or a different word with the same meaning. Sometimes, if you try to lemmatize a word like the word playing, it will end up with the same word. This is because the default part of speech is nouns. "
   ]
  },
  {
   "cell_type": "code",
   "execution_count": 16,
   "metadata": {},
   "outputs": [
    {
     "name": "stdout",
     "output_type": "stream",
     "text": [
      "playing\n"
     ]
    }
   ],
   "source": [
    "from nltk.stem import WordNetLemmatizer\n",
    "lemmatizer = WordNetLemmatizer()\n",
    "print(lemmatizer.lemmatize('playing'))"
   ]
  },
  {
   "cell_type": "markdown",
   "metadata": {},
   "source": [
    "To get verbs, you should specify it like this:"
   ]
  },
  {
   "cell_type": "code",
   "execution_count": 17,
   "metadata": {},
   "outputs": [
    {
     "name": "stdout",
     "output_type": "stream",
     "text": [
      "play\n"
     ]
    }
   ],
   "source": [
    "from nltk.stem import WordNetLemmatizer\n",
    "lemmatizer = WordNetLemmatizer()\n",
    "print(lemmatizer.lemmatize('playing', pos=\"v\"))"
   ]
  },
  {
   "cell_type": "markdown",
   "metadata": {},
   "source": [
    "Actually, this is a very good level of text compression. You end up with about 50% to 60% compression. The result could be a verb, noun, adjective, or adverb:"
   ]
  },
  {
   "cell_type": "code",
   "execution_count": 18,
   "metadata": {},
   "outputs": [
    {
     "name": "stdout",
     "output_type": "stream",
     "text": [
      "play\n",
      "playing\n",
      "playing\n",
      "playing\n"
     ]
    }
   ],
   "source": [
    "from nltk.stem import WordNetLemmatizer \n",
    "lemmatizer = WordNetLemmatizer() \n",
    "print(lemmatizer.lemmatize('playing', pos=\"v\")) \n",
    "print(lemmatizer.lemmatize('playing', pos=\"n\")) \n",
    "print(lemmatizer.lemmatize('playing', pos=\"a\")) \n",
    "print(lemmatizer.lemmatize('playing', pos=\"r\"))"
   ]
  },
  {
   "cell_type": "markdown",
   "metadata": {},
   "source": [
    "#### Look at how lemmatizer handles word like \"went\""
   ]
  },
  {
   "cell_type": "code",
   "execution_count": 20,
   "metadata": {},
   "outputs": [
    {
     "name": "stdout",
     "output_type": "stream",
     "text": [
      "go\n",
      "go\n"
     ]
    }
   ],
   "source": [
    "print(lemmatizer.lemmatize('went', pos=\"v\"))\n",
    "print(lemmatizer.lemmatize('gone', pos=\"v\"))"
   ]
  },
  {
   "cell_type": "markdown",
   "metadata": {},
   "source": [
    "##### Advice"
   ]
  },
  {
   "cell_type": "markdown",
   "metadata": {},
   "source": [
    "Stemming works on words without knowing their context, which is why it has lower accuracy and is faster than lemmatization.\n",
    "\n",
    "IMO, lemmatizing is better than stemming. Word lemmatizing returns a real word even if it's not the same word; it could be a synonym, but at least it's a real word. Sometimes, you don't care about this level of accuracy, and all you need is speed. In this case, stemming is better."
   ]
  },
  {
   "cell_type": "code",
   "execution_count": 21,
   "metadata": {},
   "outputs": [
    {
     "name": "stdout",
     "output_type": "stream",
     "text": [
      "buy\n"
     ]
    }
   ],
   "source": [
    "print(lemmatizer.lemmatize('bought', pos=\"v\"))"
   ]
  },
  {
   "cell_type": "markdown",
   "metadata": {},
   "source": [
    "##### Let us look at POS (part-of-speech) tagging example"
   ]
  },
  {
   "cell_type": "code",
   "execution_count": 22,
   "metadata": {},
   "outputs": [
    {
     "data": {
      "text/plain": [
       "[('I', 'PRP'), ('ate', 'VBP'), ('a', 'DT'), ('mango', 'NN')]"
      ]
     },
     "execution_count": 22,
     "metadata": {},
     "output_type": "execute_result"
    }
   ],
   "source": [
    "nltk.pos_tag(nltk.word_tokenize(\"I ate a mango\"))"
   ]
  },
  {
   "cell_type": "markdown",
   "metadata": {},
   "source": [
    "<img src=\"Images/POS_Tags_Meaning.png\" width=\"70%\">"
   ]
  },
  {
   "cell_type": "code",
   "execution_count": 23,
   "metadata": {},
   "outputs": [
    {
     "data": {
      "text/plain": [
       "[('We', 'PRP'),\n",
       " ('can', 'MD'),\n",
       " ('visit', 'VB'),\n",
       " ('plenty', 'NN'),\n",
       " ('of', 'IN'),\n",
       " ('scenic', 'JJ'),\n",
       " ('places', 'NNS'),\n",
       " ('while', 'IN'),\n",
       " ('in', 'IN'),\n",
       " ('Europe', 'NNP')]"
      ]
     },
     "execution_count": 23,
     "metadata": {},
     "output_type": "execute_result"
    }
   ],
   "source": [
    "nltk.pos_tag(nltk.word_tokenize(\"We can visit plenty of scenic places while in Europe\"))"
   ]
  },
  {
   "cell_type": "markdown",
   "metadata": {},
   "source": [
    "#### Chunking"
   ]
  },
  {
   "cell_type": "markdown",
   "metadata": {},
   "source": [
    "**Chunking** is done using linguistic rules (grammar rules) e. g. when two proper nouns occur together merge them to make a single word – “South Africa”\n",
    "\n",
    "It works on top of POS tagging. Uses POS Tags as input and chunks as output.\n",
    "Some of the standard chunk tags are Noun Phrase (NP), Verb Phrase (VP)\n",
    "Many use n-gram instead of chunker but it ends up creating many meaningless words.\n"
   ]
  },
  {
   "cell_type": "markdown",
   "metadata": {},
   "source": [
    "Useful when you want to extract information from text such as locations, person names etc.\n",
    "\n",
    "There are libraries that give out-of-box phrases such as Spacy and TextBlob.\n",
    "nltk provides just a mechanism using regular expressions to generate chunks\n"
   ]
  },
  {
   "cell_type": "markdown",
   "metadata": {},
   "source": [
    "There are libraries that give out-of-box phrases such as Spacy and TextBlob.\n",
    "\n",
    "**nltk** provides just a mechanism using regular expressions to generate chunks"
   ]
  },
  {
   "cell_type": "code",
   "execution_count": 24,
   "metadata": {},
   "outputs": [
    {
     "name": "stdout",
     "output_type": "stream",
     "text": [
      "(S\n",
      "  (NP Unidentified/JJ)\n",
      "  hackers/NNS\n",
      "  (VP gained/VBD)\n",
      "  (NP access/NN)\n",
      "  to/TO\n",
      "  (NP the/DT department/NN)\n",
      "  's/POS\n",
      "  (NP web/JJ page/NN)\n",
      "  (P on/IN)\n",
      "  August/NNP\n",
      "  16/CD\n",
      "  and/CC\n",
      "  (VP replaced/VBD)\n",
      "  it/PRP\n",
      "  (PP (P with/IN) (NP a/DT hate-filled/JJ diatribe/NN))\n",
      "  (VP labelled/VBD)\n",
      "  (NP the/DT)\n",
      "  Department/NNP\n",
      "  (P of/IN)\n",
      "  Injustice/NNP\n",
      "  that/WDT\n",
      "  (VP included/VBD)\n",
      "  (NP a/DT swastika/NN)\n",
      "  and/CC\n",
      "  (NP a/DT picture/NN)\n",
      "  (P of/IN)\n",
      "  Adolf/NNP\n",
      "  Hitler/NNP\n",
      "  ./.)\n",
      "(NP Unidentified/JJ)\n",
      "(VP gained/VBD)\n",
      "(NP access/NN)\n",
      "(NP the/DT department/NN)\n",
      "(NP web/JJ page/NN)\n",
      "(P on/IN)\n",
      "(VP replaced/VBD)\n",
      "(PP (P with/IN) (NP a/DT hate-filled/JJ diatribe/NN))\n",
      "(P with/IN)\n",
      "(NP a/DT hate-filled/JJ diatribe/NN)\n",
      "(VP labelled/VBD)\n",
      "(NP the/DT)\n",
      "(P of/IN)\n",
      "(VP included/VBD)\n",
      "(NP a/DT swastika/NN)\n",
      "(NP a/DT picture/NN)\n",
      "(P of/IN)\n"
     ]
    }
   ],
   "source": [
    "#Define your grammar using regular expressions\n",
    "#For example a phrase starting with determiners(The/an/a) followed by noun or adjective will be a noun phrase. such as \"a greedy dog\"\n",
    "parser = ('''\n",
    "    NP: {<DT>? <JJ>* <NN>*} # NP\n",
    "    P: {<IN>}           # Preposition\n",
    "    PP: {<P> <NP>}      # PP -> P NP\n",
    "    VP: {<V.*> <PP|RB|V.*>*}  # VP -> V (NP|PP)*\n",
    "    ''')\n",
    "line=\"Unidentified hackers gained access to the department's web page on August 16 and replaced it with a hate-filled diatribe labelled the Department of Injustice that included a swastika and a picture of Adolf Hitler.\"\n",
    "chunkParser = nltk.RegexpParser(parser)\n",
    "negation_result={}\n",
    "tagged = nltk.pos_tag(nltk.word_tokenize(line))\n",
    "tree = chunkParser.parse(tagged)\n",
    "negated_entity=\"\"\n",
    "negated_value=\"\"\n",
    "negation=None\n",
    "for subtree in tree.subtrees():\n",
    "    print (subtree)"
   ]
  },
  {
   "cell_type": "markdown",
   "metadata": {},
   "source": [
    "#### Deep Tree Parsing"
   ]
  },
  {
   "cell_type": "markdown",
   "metadata": {},
   "source": [
    "Advanced Topic in NLP is Lexical Analysis of Text – attempt to analyse and understand text. Attempt to analyse relationships."
   ]
  },
  {
   "cell_type": "markdown",
   "metadata": {},
   "source": [
    "With nltk, we define our grammar and parse a sentence\n",
    "There are libraries StanfordCoreNLP which provides functions to generate parse tree from unstructured text without defining grammar"
   ]
  },
  {
   "cell_type": "code",
   "execution_count": 25,
   "metadata": {},
   "outputs": [],
   "source": [
    "our_grammar = nltk.CFG.fromstring(\"\"\"\n",
    "  S -> NP VP\n",
    "  VP -> V NP | V NP PP\n",
    "  PP -> P NP\n",
    "  V -> \"saw\" | \"ate\" | \"walked\"\n",
    "  NP -> \"John\" | \"Mary\" | \"Bob\" | Det N | Det N PP\n",
    "  Det -> \"a\" | \"an\" | \"the\" | \"my\"\n",
    "  N -> \"man\" | \"dog\" | \"cat\" | \"telescope\" | \"park\"\n",
    "  P -> \"in\" | \"on\" | \"by\" | \"with\"\n",
    "  \"\"\")"
   ]
  },
  {
   "cell_type": "code",
   "execution_count": 26,
   "metadata": {},
   "outputs": [
    {
     "name": "stdout",
     "output_type": "stream",
     "text": [
      "(S\n",
      "  (NP (Det the) (N dog))\n",
      "  (VP\n",
      "    (V saw)\n",
      "    (NP (Det a) (N man) (PP (P in) (NP (Det the) (N park))))))\n",
      "(S\n",
      "  (NP (Det the) (N dog))\n",
      "  (VP\n",
      "    (V saw)\n",
      "    (NP (Det a) (N man))\n",
      "    (PP (P in) (NP (Det the) (N park)))))\n"
     ]
    }
   ],
   "source": [
    "sent = \"the dog saw a man in the park\"\n",
    "tokens=nltk.word_tokenize(sent)\n",
    "rd_parser = nltk.RecursiveDescentParser(our_grammar)\n",
    "for tree in rd_parser.parse(tokens):\n",
    "    print(tree)"
   ]
  },
  {
   "cell_type": "markdown",
   "metadata": {},
   "source": [
    "<img src=\"Images/DeepTreeParsing.png\" width=\"100%\">"
   ]
  },
  {
   "cell_type": "markdown",
   "metadata": {},
   "source": [
    "##### Word Cloud"
   ]
  },
  {
   "cell_type": "markdown",
   "metadata": {},
   "source": [
    "Word CLoud is the EDA (exploratory data analysis) equivalent for NLP. Word cloud helps us understand how different words are distributed across the documents. The most occurring words will have larger sizes."
   ]
  },
  {
   "cell_type": "code",
   "execution_count": 27,
   "metadata": {},
   "outputs": [
    {
     "data": {
      "text/plain": [
       "(-0.5, 399.5, 199.5, -0.5)"
      ]
     },
     "execution_count": 27,
     "metadata": {},
     "output_type": "execute_result"
    },
    {
     "data": {
      "image/png": "[encoded data removed]",
      "text/plain": [
       "<Figure size 720x576 with 1 Axes>"
      ]
     },
     "metadata": {
      "needs_background": "light"
     },
     "output_type": "display_data"
    }
   ],
   "source": [
    "#textall = \" \".join(sents)\n",
    "from wordcloud import WordCloud\n",
    "import matplotlib.pyplot as plt\n",
    "%matplotlib inline\n",
    "\n",
    "wordcloud = WordCloud().generate(text)\n",
    "plt.figure(figsize=(10, 8))\n",
    "plt.imshow(wordcloud, interpolation='bilinear')\n",
    "plt.axis(\"off\")"
   ]
  },
  {
   "cell_type": "markdown",
   "metadata": {},
   "source": [
    "As can be seen, particular words strongly suggests that the article is likely to be about PHP windows software. Plotting and observing a word cloud could unlock potential features and can also avoid pitfalls. For examples, if you see a certain words which should be treated as stop words occurring a lot, then you can take care of them."
   ]
  },
  {
   "cell_type": "code",
   "execution_count": 29,
   "metadata": {},
   "outputs": [
    {
     "ename": "ImportError",
     "evalue": "No module named 'googlesearch'",
     "output_type": "error",
     "traceback": [
      "\u001b[1;31m---------------------------------------------------------------------------\u001b[0m",
      "\u001b[1;31mImportError\u001b[0m                               Traceback (most recent call last)",
      "\u001b[1;32m<ipython-input-29-76365aa14d9f>\u001b[0m in \u001b[0;36m<module>\u001b[1;34m()\u001b[0m\n\u001b[1;32m----> 1\u001b[1;33m \u001b[1;32mfrom\u001b[0m \u001b[0mgooglesearch\u001b[0m \u001b[1;32mimport\u001b[0m \u001b[0msearch\u001b[0m\u001b[1;33m\u001b[0m\u001b[0m\n\u001b[0m",
      "\u001b[1;31mImportError\u001b[0m: No module named 'googlesearch'"
     ]
    }
   ],
   "source": [
    "from googlesearch import search"
   ]
  },
  {
   "cell_type": "code",
   "execution_count": null,
   "metadata": {},
   "outputs": [],
   "source": []
  }
 ],
 "metadata": {
  "anaconda-cloud": {},
  "kernelspec": {
   "display_name": "Python [conda env:Anaconda3]",
   "language": "python",
   "name": "conda-env-Anaconda3-py"
  },
  "language_info": {
   "codemirror_mode": {
    "name": "ipython",
    "version": 3
   },
   "file_extension": ".py",
   "mimetype": "text/x-python",
   "name": "python",
   "nbconvert_exporter": "python",
   "pygments_lexer": "ipython3",
   "version": "3.5.6"
  }
 },
 "nbformat": 4,
 "nbformat_minor": 1
}
